{
 "cells": [
  {
   "cell_type": "markdown",
   "id": "ca631de7",
   "metadata": {},
   "source": [
    "**This project explores the various ways to model and solve linear programming in Python. The PuLP and Pyomo libraries are popular and support many solvers, such as CBC, GLPK, and CPLEX. I use CBC with PuLP and GLPK with Pyomo below. One can also use solvers directly, and this is shown with the CPLEX/DOCPLEX solvers. Using a solver directly gives more control and access to advanced features and capabilities. However, sensitivity report (sensitivity analysis) output differs depending on which solver API is used. SciPy can also be used for linear programming but has solver limitations.**"
   ]
  },
  {
   "attachments": {
    "image.png": {
     "image/png": "[encoded data removed]"
    }
   },
   "cell_type": "markdown",
   "id": "b0971c01",
   "metadata": {},
   "source": [
    "# Home Improvement Exhibition\n",
    "A 20,000 square foot convention center is scheduling for a home improvement trade show. Convention floor space is sold to four different categories of exhibitors. Different categories of exhibitors are charged different amounts for the three-day event based on the amount of space they require and the popularity of the type of exhibit. The decision variables are the number of each type of exhibitor. Let X<sub>i</sub> = the number of exhibitor type i to schedule (i = B, A, D and S). A fractional number of exhibitors is not allowed, and they should be whole numbers. Also, the number of each type of exhibitor should be at least 15% of the total number of exhibitors:<br>\n",
    "$$\\frac{X_i}{X_B + X_A + X_D + X_S} >= 0.15$$\n",
    "\n",
    "## Model Inputs\n",
    "![image.png](attachment:image.png)\n",
    "\n",
    "## Maximize Objective Function\n",
    "Revenue = \\\\$2,400 X<sub>B</sub> + \\\\$7,200 X<sub>A</sub> + \\\\$1,300 X<sub>D</sub> + \\\\$2,800 X<sub>S</sub>\n",
    "\n",
    "## Constraints\n",
    "**Space Constraint:** 200 X<sub>B</sub> + 400 X<sub>A</sub> + 100 X<sub>D</sub> + 120 X<sub>S</sub> <= 20,000 - 4,200<br>\n",
    "**Total Visitors to Exhibits:** 405 X<sub>B</sub> + 231 X<sub>A</sub> + 320 X<sub>D</sub> + 205 X<sub>S</sub> >= 25,000<br>\n",
    "**Integers only:** X<sub>B</sub>, X<sub>A</sub>, X<sub>D</sub>, X<sub>S</sub><br>\n",
    "\n",
    "*Rewrite fraction above in linear form for each exhibitor type:*<br>\n",
    "**Minimum B:** 0.85 X<sub>B</sub> - 0.15 X<sub>A</sub> - 0.15 X<sub>D</sub> - 0.15 X<sub>S</sub> >= 0<br>\n",
    "**Minimum A:** 0.85 X<sub>A</sub> - 0.15 X<sub>B</sub> - 0.15 X<sub>D</sub> - 0.15 X<sub>S</sub> >= 0<br>\n",
    "**Minimum D:** 0.85 X<sub>D</sub> - 0.15 X<sub>B</sub> - 0.15 X<sub>A</sub> - 0.15 X<sub>S</sub> >= 0<br>\n",
    "**Minimum S:** 0.85 X<sub>S</sub> - 0.15 X<sub>B</sub> - 0.15 X<sub>A</sub> - 0.15 X<sub>D</sub> >= 0"
   ]
  },
  {
   "cell_type": "markdown",
   "id": "e81e0ad9",
   "metadata": {},
   "source": [
    "## CBC (PuLP)"
   ]
  },
  {
   "cell_type": "code",
   "execution_count": 1,
   "id": "14b102ad",
   "metadata": {},
   "outputs": [],
   "source": [
    "def run_pulp_model(rhs1, rhs2, rhs3, rhs4, rhs5, rhs6):\n",
    "    model_pulp = pulp.LpProblem('linear_programming', LpMaximize)\n",
    "    \n",
    "    # Declare decision variables and make them continuous\n",
    "    x1 = LpVariable('xb', lowBound = 0, cat = 'Continuous')\n",
    "    x2 = LpVariable('xa', lowBound = 0, cat = 'Continuous')\n",
    "    x3 = LpVariable('xd', lowBound = 0, cat = 'Continuous')\n",
    "    x4 = LpVariable('xs', lowBound = 0, cat = 'Continuous')\n",
    "    \n",
    "    # Declare objective\n",
    "    model_pulp += 2400*x1 + 7200*x2 + 1300*x3 + 2800*x4\n",
    "    \n",
    "    # Declare constraints\n",
    "    model_pulp += 200*x1 + 400*x2 + 100*x3 + 120*x4 <= rhs1\n",
    "    model_pulp += 405*x1 + 231*x2 + 320*x3 + 205*x4 >= rhs2\n",
    "    model_pulp += 0.85*x1 - 0.15*x2 - 0.15*x3 - 0.15*x4 >= rhs3\n",
    "    model_pulp += -0.15*x1 + 0.85*x2 - 0.15*x3 - 0.15*x4 >= rhs4\n",
    "    model_pulp += -0.15*x1 - 0.15*x2 + 0.85*x3 - 0.15*x4 >= rhs5\n",
    "    model_pulp += -0.15*x1 - 0.15*x2 - 0.15*x3 + 0.85*x4 >= rhs6\n",
    "    \n",
    "    return model_pulp, x1, x2, x3, x4\n"
   ]
  },
  {
   "cell_type": "code",
   "execution_count": 2,
   "id": "7fb458f2",
   "metadata": {},
   "outputs": [
    {
     "name": "stdout",
     "output_type": "stream",
     "text": [
      "The solution is optimal.\n",
      "Objective value: z = 282988.94539999997\n",
      "Solution: x_b = 14.020897, x_a = 14.020897, x_d = 23.212038, x_s = 42.218816\n"
     ]
    }
   ],
   "source": [
    "from pulp import *\n",
    "\n",
    "# Get solver\n",
    "solver = getSolver('PULP_CBC_CMD')\n",
    "\n",
    "model_cbc, xb, xa, xd, xs = run_pulp_model(20000-4200, 25000, 0, 0, 0, 0)\n",
    "\n",
    "# Solve \n",
    "results = model_cbc.solve(solver=solver)\n",
    "\n",
    "# Print results\n",
    "if LpStatus[results] == 'Optimal':\n",
    "    print('The solution is optimal.')\n",
    "print(f'Objective value: z = {value(model_cbc.objective)}')\n",
    "print(f'Solution: x_b = {value(xb)}, x_a = {value(xa)}, x_d = {value(xd)}, x_s = {value(xs)}')"
   ]
  },
  {
   "cell_type": "markdown",
   "id": "db941fff",
   "metadata": {},
   "source": [
    "### Sensitivity Report"
   ]
  },
  {
   "cell_type": "code",
   "execution_count": 3,
   "id": "9ee6826e",
   "metadata": {},
   "outputs": [
    {
     "name": "stdout",
     "output_type": "stream",
     "text": [
      "Model Status:Optimal\n",
      "Objective =  282988.94539999997\n",
      "xa = 14.020897\n",
      "xb = 14.020897\n",
      "xd = 23.212038\n",
      "xs = 42.218816\n"
     ]
    },
    {
     "data": {
      "text/html": [
       "<div>\n",
       "<style scoped>\n",
       "    .dataframe tbody tr th:only-of-type {\n",
       "        vertical-align: middle;\n",
       "    }\n",
       "\n",
       "    .dataframe tbody tr th {\n",
       "        vertical-align: top;\n",
       "    }\n",
       "\n",
       "    .dataframe thead th {\n",
       "        text-align: right;\n",
       "    }\n",
       "</style>\n",
       "<table border=\"1\" class=\"dataframe\">\n",
       "  <thead>\n",
       "    <tr style=\"text-align: right;\">\n",
       "      <th></th>\n",
       "      <th>Name</th>\n",
       "      <th>Constraint Coefficients</th>\n",
       "      <th>Shadow Price</th>\n",
       "      <th>Slack</th>\n",
       "    </tr>\n",
       "  </thead>\n",
       "  <tbody>\n",
       "    <tr>\n",
       "      <th>0</th>\n",
       "      <td>_C1</td>\n",
       "      <td>{xb: 200, xa: 400, xd: 100, xs: 120}</td>\n",
       "      <td>30.230353</td>\n",
       "      <td>-0.000000</td>\n",
       "    </tr>\n",
       "    <tr>\n",
       "      <th>1</th>\n",
       "      <td>_C2</td>\n",
       "      <td>{xb: 405, xa: 231, xd: 320, xs: 205}</td>\n",
       "      <td>-7.786026</td>\n",
       "      <td>-0.000000</td>\n",
       "    </tr>\n",
       "    <tr>\n",
       "      <th>2</th>\n",
       "      <td>_C3</td>\n",
       "      <td>{xb: 0.85, xa: -0.15, xd: -0.15, xs: -0.15}</td>\n",
       "      <td>-1261.223200</td>\n",
       "      <td>-0.000000</td>\n",
       "    </tr>\n",
       "    <tr>\n",
       "      <th>3</th>\n",
       "      <td>_C4</td>\n",
       "      <td>{xb: -0.15, xa: 0.85, xd: -0.15, xs: -0.15}</td>\n",
       "      <td>-3862.062300</td>\n",
       "      <td>-0.000000</td>\n",
       "    </tr>\n",
       "    <tr>\n",
       "      <th>4</th>\n",
       "      <td>_C5</td>\n",
       "      <td>{xb: -0.15, xa: -0.15, xd: 0.85, xs: -0.15}</td>\n",
       "      <td>-0.000000</td>\n",
       "      <td>-9.191141</td>\n",
       "    </tr>\n",
       "    <tr>\n",
       "      <th>5</th>\n",
       "      <td>_C6</td>\n",
       "      <td>{xb: -0.15, xa: -0.15, xd: -0.15, xs: 0.85}</td>\n",
       "      <td>-0.000000</td>\n",
       "      <td>-28.197918</td>\n",
       "    </tr>\n",
       "  </tbody>\n",
       "</table>\n",
       "</div>"
      ],
      "text/plain": [
       "  Name                      Constraint Coefficients  Shadow Price      Slack\n",
       "0  _C1         {xb: 200, xa: 400, xd: 100, xs: 120}     30.230353  -0.000000\n",
       "1  _C2         {xb: 405, xa: 231, xd: 320, xs: 205}     -7.786026  -0.000000\n",
       "2  _C3  {xb: 0.85, xa: -0.15, xd: -0.15, xs: -0.15}  -1261.223200  -0.000000\n",
       "3  _C4  {xb: -0.15, xa: 0.85, xd: -0.15, xs: -0.15}  -3862.062300  -0.000000\n",
       "4  _C5  {xb: -0.15, xa: -0.15, xd: 0.85, xs: -0.15}     -0.000000  -9.191141\n",
       "5  _C6  {xb: -0.15, xa: -0.15, xd: -0.15, xs: 0.85}     -0.000000 -28.197918"
      ]
     },
     "execution_count": 3,
     "metadata": {},
     "output_type": "execute_result"
    }
   ],
   "source": [
    "# Based on PuLP method\n",
    "import pandas as pd\n",
    "\n",
    "print(\"Model Status:{}\".format(LpStatus[model_cbc.status]))\n",
    "print(\"Objective = \", value(model_cbc.objective))\n",
    "\n",
    "for v in model_cbc.variables():\n",
    "    print(v.name,\"=\", v.varValue)\n",
    "    \n",
    "sens_rep = [{'Name': name,'Constraint Coefficients': c,'Shadow Price': c.pi,'Slack': c.slack}\n",
    "            for name, c in model_cbc.constraints.items()]\n",
    "pd.DataFrame(sens_rep)"
   ]
  },
  {
   "cell_type": "markdown",
   "id": "020d05ee",
   "metadata": {},
   "source": [
    "### What If Scenarios"
   ]
  },
  {
   "cell_type": "code",
   "execution_count": 4,
   "id": "5c86b955",
   "metadata": {},
   "outputs": [
    {
     "name": "stdout",
     "output_type": "stream",
     "text": [
      "The solution is optimal.\n",
      "Objective value: z = 282958.7124\n",
      "Solution: x_b = 14.020201, x_a = 14.020201, x_d = 23.221676, x_s = 42.20593\n"
     ]
    }
   ],
   "source": [
    "# Try reducing RHS of constraint 1 by 1\n",
    "model_cbc, xb, xa, xd, xs = run_pulp_model(20000-4200-1, 25000, 0, 0, 0, 0)\n",
    "\n",
    "# Solve \n",
    "results = model_cbc.solve(solver=solver)\n",
    "\n",
    "# Print results\n",
    "if LpStatus[results] == 'Optimal':\n",
    "    print('The solution is optimal.')\n",
    "print(f'Objective value: z = {value(model_cbc.objective)}')\n",
    "print(f'Solution: x_b = {value(xb)}, x_a = {value(xa)}, x_d = {value(xd)}, x_s = {value(xs)}')"
   ]
  },
  {
   "cell_type": "markdown",
   "id": "dad814e0",
   "metadata": {},
   "source": [
    "- Objective value decreases by \\\\$30.23\n",
    "- Objective value *increases* by \\\\$30.23 if RHS *increases* by 1 for Constraint 1"
   ]
  },
  {
   "cell_type": "code",
   "execution_count": 5,
   "id": "fd89d044",
   "metadata": {},
   "outputs": [
    {
     "name": "stdout",
     "output_type": "stream",
     "text": [
      "The solution is optimal.\n",
      "Objective value: z = 282988.94539999997\n",
      "Solution: x_b = 14.020897, x_a = 14.020897, x_d = 23.212038, x_s = 42.218816\n"
     ]
    }
   ],
   "source": [
    "# Try increasing RHS of constraint 6 by 28\n",
    "model_cbc, xb, xa, xd, xs = run_pulp_model(20000-4200, 25000, 0, 0, 0, 28)\n",
    "\n",
    "# Solve \n",
    "results = model_cbc.solve(solver=solver)\n",
    "\n",
    "# Print results\n",
    "if LpStatus[results] == 'Optimal':\n",
    "    print('The solution is optimal.')\n",
    "print(f'Objective value: z = {value(model_cbc.objective)}')\n",
    "print(f'Solution: x_b = {value(xb)}, x_a = {value(xa)}, x_d = {value(xd)}, x_s = {value(xs)}')"
   ]
  },
  {
   "cell_type": "markdown",
   "id": "9b39517b",
   "metadata": {},
   "source": [
    "No change in Objective value or Solution because +28 RHS is within the Slack value (28.197918)"
   ]
  },
  {
   "cell_type": "code",
   "execution_count": 6,
   "id": "9d7eb16f",
   "metadata": {},
   "outputs": [
    {
     "name": "stdout",
     "output_type": "stream",
     "text": [
      "Objective value: z = 284978.1603\n",
      "Solution: x_b = 14.066689, x_a = 14.066689, x_d = 22.577859, x_s = 43.066689\n"
     ]
    }
   ],
   "source": [
    "# Try increasing RHS of constraint 6 by 29\n",
    "model_cbc, xb, xa, xd, xs = run_pulp_model(20000-4200, 25000, 0, 0, 0, 29)\n",
    "\n",
    "# Solve \n",
    "results = model_cbc.solve(solver=solver)\n",
    "\n",
    "# Print results\n",
    "if LpStatus[results] == 'Optimal':\n",
    "    print('The solution is optimal.')\n",
    "print(f'Objective value: z = {value(model_cbc.objective)}')\n",
    "print(f'Solution: x_b = {value(xb)}, x_a = {value(xa)}, x_d = {value(xd)}, x_s = {value(xs)}')"
   ]
  },
  {
   "cell_type": "markdown",
   "id": "c11d9cfd",
   "metadata": {},
   "source": [
    "Note new Objective and Solution (decision variable) values if **Slack** > 28.197918 for Constraint 6"
   ]
  },
  {
   "cell_type": "markdown",
   "id": "e44dfbb8",
   "metadata": {},
   "source": [
    "### Notes\n",
    "- **Shadow Price** is the amount by which the objective value changes given a one unit change in the RHS value of the constraint, with all other inputs remaining constant\n",
    "- **Slack** indicates the range of feasibility for that constraint\n",
    "- If **Slack** = 0, any unit change (+/-) in the RHS value will result in a change in the objective value by the **Shadow Price** amount in the same direction\n",
    "- If **Slack** <> 0, any unit change in the RHS value up to the **Slack** value will result in no change in the objective value\n",
    "- If **Slack** <> 0 and RHS unit change goes beyond **Slack** value, model must be re-run to get new solution"
   ]
  },
  {
   "cell_type": "markdown",
   "id": "2db01cda",
   "metadata": {},
   "source": [
    "## GLPK (Pyomo)"
   ]
  },
  {
   "cell_type": "code",
   "execution_count": 7,
   "id": "0d1f5d24",
   "metadata": {},
   "outputs": [
    {
     "name": "stdout",
     "output_type": "stream",
     "text": [
      "Solver Status: ok\n",
      "Optimal Objective Value: 282988.9462643214\n"
     ]
    },
    {
     "data": {
      "text/html": [
       "<div>\n",
       "<style scoped>\n",
       "    .dataframe tbody tr th:only-of-type {\n",
       "        vertical-align: middle;\n",
       "    }\n",
       "\n",
       "    .dataframe tbody tr th {\n",
       "        vertical-align: top;\n",
       "    }\n",
       "\n",
       "    .dataframe thead th {\n",
       "        text-align: right;\n",
       "    }\n",
       "</style>\n",
       "<table border=\"1\" class=\"dataframe\">\n",
       "  <thead>\n",
       "    <tr style=\"text-align: right;\">\n",
       "      <th></th>\n",
       "      <th>Decision Vars</th>\n",
       "      <th>Values</th>\n",
       "    </tr>\n",
       "  </thead>\n",
       "  <tbody>\n",
       "    <tr>\n",
       "      <th>0</th>\n",
       "      <td>xb</td>\n",
       "      <td>14.020897</td>\n",
       "    </tr>\n",
       "    <tr>\n",
       "      <th>1</th>\n",
       "      <td>xa</td>\n",
       "      <td>14.020897</td>\n",
       "    </tr>\n",
       "    <tr>\n",
       "      <th>2</th>\n",
       "      <td>xd</td>\n",
       "      <td>23.212038</td>\n",
       "    </tr>\n",
       "    <tr>\n",
       "      <th>3</th>\n",
       "      <td>xs</td>\n",
       "      <td>42.218816</td>\n",
       "    </tr>\n",
       "  </tbody>\n",
       "</table>\n",
       "</div>"
      ],
      "text/plain": [
       "  Decision Vars     Values\n",
       "0            xb  14.020897\n",
       "1            xa  14.020897\n",
       "2            xd  23.212038\n",
       "3            xs  42.218816"
      ]
     },
     "execution_count": 7,
     "metadata": {},
     "output_type": "execute_result"
    }
   ],
   "source": [
    "from pyomo.environ import *\n",
    "\n",
    "# Create a ConcreteModel\n",
    "model_glpk = ConcreteModel()\n",
    "\n",
    "# Access dual solution for constraints\n",
    "model_glpk.dual = Suffix(direction=Suffix.IMPORT)\n",
    "\n",
    "# Define decision variables\n",
    "model_glpk.xb = Var(domain=NonNegativeReals)\n",
    "model_glpk.xa = Var(domain=NonNegativeReals)\n",
    "model_glpk.xd = Var(domain=NonNegativeReals)\n",
    "model_glpk.xs = Var(domain=NonNegativeReals)\n",
    "\n",
    "# Define the objective function\n",
    "model_glpk.obj = Objective(expr = 2400*model_glpk.xb + 7200*model_glpk.xa + 1300*model_glpk.xd + 2800*model_glpk.xs,\n",
    "                           sense=maximize)\n",
    "\n",
    "# Define constraints\n",
    "model_glpk.con1 = Constraint(expr = 200*model_glpk.xb + 400*model_glpk.xa + \\\n",
    "                             100*model_glpk.xd + 120*model_glpk.xs <= 20000 - 4200)\n",
    "model_glpk.con2 = Constraint(expr = 405*model_glpk.xb + 231*model_glpk.xa + \\\n",
    "                             320*model_glpk.xd + 205*model_glpk.xs >= 25000)\n",
    "model_glpk.con3 = Constraint(expr = 0.85*model_glpk.xb - 0.15*model_glpk.xa - \\\n",
    "                             0.15*model_glpk.xd - 0.15*model_glpk.xs >= 0)\n",
    "model_glpk.con4 = Constraint(expr = -0.15*model_glpk.xb + 0.85*model_glpk.xa - \\\n",
    "                             0.15*model_glpk.xd - 0.15*model_glpk.xs >= 0)\n",
    "model_glpk.con5 = Constraint(expr = -0.15*model_glpk.xb - 0.15*model_glpk.xa + \\\n",
    "                             0.85*model_glpk.xd - 0.15*model_glpk.xs >= 0)\n",
    "model_glpk.con6 = Constraint(expr = -0.15*model_glpk.xb - 0.15*model_glpk.xa - \\\n",
    "                             0.15*model_glpk.xd + 0.85*model_glpk.xs >= 0)\n",
    "\n",
    "# Solve the linear programming problem using the GLPK solver\n",
    "solver = SolverFactory('glpk')\n",
    "results = solver.solve(model_glpk)\n",
    "\n",
    "# Print the solver status\n",
    "print(\"Solver Status:\", results.solver.status)\n",
    "\n",
    "# Print the optimal objective value\n",
    "print(\"Optimal Objective Value:\", model_glpk.obj())\n",
    "\n",
    "# Output the optimal values of the decision variables\n",
    "pd.DataFrame({'Decision Vars': ['xb','xa', 'xd', 'xs'],\n",
    "              'Values': [model_glpk.xb(), model_glpk.xa(), model_glpk.xd(), model_glpk.xs()]})"
   ]
  },
  {
   "cell_type": "code",
   "execution_count": 8,
   "id": "f0042668",
   "metadata": {},
   "outputs": [
    {
     "data": {
      "text/html": [
       "<div>\n",
       "<style scoped>\n",
       "    .dataframe tbody tr th:only-of-type {\n",
       "        vertical-align: middle;\n",
       "    }\n",
       "\n",
       "    .dataframe tbody tr th {\n",
       "        vertical-align: top;\n",
       "    }\n",
       "\n",
       "    .dataframe thead th {\n",
       "        text-align: right;\n",
       "    }\n",
       "</style>\n",
       "<table border=\"1\" class=\"dataframe\">\n",
       "  <thead>\n",
       "    <tr style=\"text-align: right;\">\n",
       "      <th></th>\n",
       "      <th>Constraint Name</th>\n",
       "      <th>Shadow Price</th>\n",
       "    </tr>\n",
       "  </thead>\n",
       "  <tbody>\n",
       "    <tr>\n",
       "      <th>0</th>\n",
       "      <td>Space</td>\n",
       "      <td>30.230353</td>\n",
       "    </tr>\n",
       "    <tr>\n",
       "      <th>1</th>\n",
       "      <td>Total Visitors</td>\n",
       "      <td>-7.786025</td>\n",
       "    </tr>\n",
       "    <tr>\n",
       "      <th>2</th>\n",
       "      <td>Min B</td>\n",
       "      <td>-1261.223173</td>\n",
       "    </tr>\n",
       "    <tr>\n",
       "      <th>3</th>\n",
       "      <td>Min A</td>\n",
       "      <td>-3862.062288</td>\n",
       "    </tr>\n",
       "    <tr>\n",
       "      <th>4</th>\n",
       "      <td>Min D</td>\n",
       "      <td>0.000000</td>\n",
       "    </tr>\n",
       "    <tr>\n",
       "      <th>5</th>\n",
       "      <td>Min S</td>\n",
       "      <td>0.000000</td>\n",
       "    </tr>\n",
       "  </tbody>\n",
       "</table>\n",
       "</div>"
      ],
      "text/plain": [
       "  Constraint Name  Shadow Price\n",
       "0           Space     30.230353\n",
       "1  Total Visitors     -7.786025\n",
       "2           Min B  -1261.223173\n",
       "3           Min A  -3862.062288\n",
       "4           Min D      0.000000\n",
       "5           Min S      0.000000"
      ]
     },
     "execution_count": 8,
     "metadata": {},
     "output_type": "execute_result"
    }
   ],
   "source": [
    "# Constraint Names\n",
    "constraint_names = ['Space','Total Visitors','Min B', 'Min A', 'Min D', 'Min S']\n",
    "\n",
    "# Create an empty list to store DataFrames for each constraint\n",
    "dfs = []\n",
    "\n",
    "for c in [model_glpk.con1, model_glpk.con2, model_glpk.con3, model_glpk.con4, model_glpk.con5, model_glpk.con6]:\n",
    "    \n",
    "    # Create a DataFrame for each constraint\n",
    "    series = pd.Series(model_glpk.dual[c])\n",
    "    \n",
    "    # Append the DataFrame to the list\n",
    "    dfs.append(series)\n",
    "\n",
    "# Concatenate all DataFrames in the list\n",
    "shadow_price_glpk = pd.concat(dfs, ignore_index=True)\n",
    "\n",
    "constraint_glpk = pd.concat([pd.DataFrame({'Constraint Name': constraint_names}),\n",
    "                             pd.DataFrame({'Shadow Price': shadow_price_glpk})],\n",
    "                            axis=1)\n",
    "constraint_glpk"
   ]
  },
  {
   "cell_type": "code",
   "execution_count": 9,
   "id": "a15dce88",
   "metadata": {},
   "outputs": [
    {
     "name": "stdout",
     "output_type": "stream",
     "text": [
      "4 Var Declarations\n",
      "    xa : Size=1, Index=None\n",
      "        Key  : Lower : Value            : Upper : Fixed : Stale : Domain\n",
      "        None :     0 : 14.0208972083266 :  None : False : False : NonNegativeReals\n",
      "    xb : Size=1, Index=None\n",
      "        Key  : Lower : Value            : Upper : Fixed : Stale : Domain\n",
      "        None :     0 : 14.0208972083266 :  None : False : False : NonNegativeReals\n",
      "    xd : Size=1, Index=None\n",
      "        Key  : Lower : Value            : Upper : Fixed : Stale : Domain\n",
      "        None :     0 : 23.2120380829433 :  None : False : False : NonNegativeReals\n",
      "    xs : Size=1, Index=None\n",
      "        Key  : Lower : Value            : Upper : Fixed : Stale : Domain\n",
      "        None :     0 : 42.2188155559142 :  None : False : False : NonNegativeReals\n",
      "\n",
      "1 Objective Declarations\n",
      "    obj : Size=1, Index=None, Active=True\n",
      "        Key  : Active : Sense    : Expression\n",
      "        None :   True : maximize : 2400*xb + 7200*xa + 1300*xd + 2800*xs\n",
      "\n",
      "6 Constraint Declarations\n",
      "    con1 : Size=1, Index=None, Active=True\n",
      "        Key  : Lower : Body                              : Upper   : Active\n",
      "        None :  -Inf : 200*xb + 400*xa + 100*xd + 120*xs : 15800.0 :   True\n",
      "    con2 : Size=1, Index=None, Active=True\n",
      "        Key  : Lower   : Body                              : Upper : Active\n",
      "        None : 25000.0 : 405*xb + 231*xa + 320*xd + 205*xs :  +Inf :   True\n",
      "    con3 : Size=1, Index=None, Active=True\n",
      "        Key  : Lower : Body                                  : Upper : Active\n",
      "        None :   0.0 : 0.85*xb - 0.15*xa - 0.15*xd - 0.15*xs :  +Inf :   True\n",
      "    con4 : Size=1, Index=None, Active=True\n",
      "        Key  : Lower : Body                                   : Upper : Active\n",
      "        None :   0.0 : -0.15*xb + 0.85*xa - 0.15*xd - 0.15*xs :  +Inf :   True\n",
      "    con5 : Size=1, Index=None, Active=True\n",
      "        Key  : Lower : Body                                   : Upper : Active\n",
      "        None :   0.0 : -0.15*xb - 0.15*xa + 0.85*xd - 0.15*xs :  +Inf :   True\n",
      "    con6 : Size=1, Index=None, Active=True\n",
      "        Key  : Lower : Body                                   : Upper : Active\n",
      "        None :   0.0 : -0.15*xb - 0.15*xa - 0.15*xd + 0.85*xs :  +Inf :   True\n",
      "\n",
      "1 Suffix Declarations\n",
      "    dual : Direction=Suffix.IMPORT, Datatype=Suffix.FLOAT\n",
      "        Key  : Value\n",
      "        con1 :  30.2303533968049\n",
      "        con2 : -7.78602549620782\n",
      "        con3 : -1261.22317250282\n",
      "        con4 : -3862.06228820395\n",
      "        con5 :               0.0\n",
      "        con6 :               0.0\n",
      "\n",
      "12 Declarations: dual xb xa xd xs obj con1 con2 con3 con4 con5 con6\n"
     ]
    }
   ],
   "source": [
    "model_glpk.pprint()"
   ]
  },
  {
   "cell_type": "markdown",
   "id": "5bd40899",
   "metadata": {},
   "source": [
    "## CPLEX"
   ]
  },
  {
   "cell_type": "code",
   "execution_count": 10,
   "id": "4f9ebe94",
   "metadata": {},
   "outputs": [
    {
     "name": "stdout",
     "output_type": "stream",
     "text": [
      "Version identifier: 22.1.1.0 | 2023-06-15 | d64d5bd77\n",
      "CPXPARAM_Read_DataCheck                          1\n",
      "Tried aggregator 1 time.\n",
      "No LP presolve or aggregator reductions.\n",
      "Presolve time = 0.00 sec. (0.00 ticks)\n",
      "\n",
      "Iteration log . . .\n",
      "Iteration:     1   Scaled dual infeas =             0.000000\n",
      "Iteration:     2   Dual objective     =        327969.696970\n",
      "Objective Value: 282988.94626432145\n"
     ]
    },
    {
     "data": {
      "text/html": [
       "<div>\n",
       "<style scoped>\n",
       "    .dataframe tbody tr th:only-of-type {\n",
       "        vertical-align: middle;\n",
       "    }\n",
       "\n",
       "    .dataframe tbody tr th {\n",
       "        vertical-align: top;\n",
       "    }\n",
       "\n",
       "    .dataframe thead th {\n",
       "        text-align: right;\n",
       "    }\n",
       "</style>\n",
       "<table border=\"1\" class=\"dataframe\">\n",
       "  <thead>\n",
       "    <tr style=\"text-align: right;\">\n",
       "      <th></th>\n",
       "      <th>Decision Vars</th>\n",
       "      <th>Values</th>\n",
       "    </tr>\n",
       "  </thead>\n",
       "  <tbody>\n",
       "    <tr>\n",
       "      <th>0</th>\n",
       "      <td>xb</td>\n",
       "      <td>14.020897</td>\n",
       "    </tr>\n",
       "    <tr>\n",
       "      <th>1</th>\n",
       "      <td>xa</td>\n",
       "      <td>14.020897</td>\n",
       "    </tr>\n",
       "    <tr>\n",
       "      <th>2</th>\n",
       "      <td>xd</td>\n",
       "      <td>23.212038</td>\n",
       "    </tr>\n",
       "    <tr>\n",
       "      <th>3</th>\n",
       "      <td>xs</td>\n",
       "      <td>42.218816</td>\n",
       "    </tr>\n",
       "  </tbody>\n",
       "</table>\n",
       "</div>"
      ],
      "text/plain": [
       "  Decision Vars     Values\n",
       "0            xb  14.020897\n",
       "1            xa  14.020897\n",
       "2            xd  23.212038\n",
       "3            xs  42.218816"
      ]
     },
     "execution_count": 10,
     "metadata": {},
     "output_type": "execute_result"
    }
   ],
   "source": [
    "import cplex\n",
    "\n",
    "# Model Object\n",
    "model_cplex = cplex.Cplex()\n",
    "\n",
    "# Objective coefficients\n",
    "objective = [2400, 7200, 1300, 2800]\n",
    "\n",
    "lower_bounds = [0, 0, 0, 0]\n",
    "upper_bounds = [cplex.infinity,cplex.infinity,cplex.infinity,cplex.infinity]\n",
    "\n",
    "# Decision Variables\n",
    "var_names = ['xb','xa','xd','xs']\n",
    "var_types = ['C','C','C','C'] # Continuous variables\n",
    "\n",
    "model_cplex.variables.add(obj=objective, lb=lower_bounds, ub=upper_bounds, names=var_names)\n",
    "\n",
    "# Maximization problem\n",
    "model_cplex.objective.set_sense(model_cplex.objective.sense.maximize)\n",
    "\n",
    "# Constraints\n",
    "# constraint_names = ['Space','Total Visitors','Min B', 'Min A', 'Min D', 'Min S'] - From above\n",
    "space_constraint = [['xb','xa','xd','xs'], [200, 400, 100, 120]]\n",
    "visitors_constraint = [['xb','xa','xd','xs'], [405, 231, 320, 205]]\n",
    "min_b_constraint = [['xb','xa','xd','xs'], [0.85, -0.15, -0.15, -0.15]]\n",
    "min_a_constraint = [['xb','xa','xd','xs'], [-0.15, 0.85, -0.15, -0.15]]\n",
    "min_d_constraint = [['xb','xa','xd','xs'], [-0.15, -0.15, 0.85, -0.15]]\n",
    "min_s_constraint = [['xb','xa','xd','xs'], [-0.15, -0.15, -0.15, 0.85]]\n",
    "constraints = [space_constraint,\n",
    "               visitors_constraint,\n",
    "               min_b_constraint,\n",
    "               min_a_constraint,\n",
    "               min_d_constraint,\n",
    "               min_s_constraint]\n",
    "rhs = [20000-4200, 25000, 0, 0, 0, 0]\n",
    "constraint_senses = ['L', 'G', 'G', 'G', 'G', 'G']\n",
    "model_cplex.linear_constraints.add(lin_expr=constraints, senses=constraint_senses, rhs=rhs, names=constraint_names)\n",
    "model_cplex.solve()\n",
    "\n",
    "print(\"Objective Value:\", model_cplex.solution.get_objective_value())\n",
    "pd.DataFrame({'Decision Vars': var_names, 'Values': model_cplex.solution.get_values()})"
   ]
  },
  {
   "cell_type": "markdown",
   "id": "05c6e7d7",
   "metadata": {},
   "source": [
    "### Sensitivity Report"
   ]
  },
  {
   "cell_type": "code",
   "execution_count": 11,
   "id": "3798c98b",
   "metadata": {},
   "outputs": [
    {
     "data": {
      "text/html": [
       "<div>\n",
       "<style scoped>\n",
       "    .dataframe tbody tr th:only-of-type {\n",
       "        vertical-align: middle;\n",
       "    }\n",
       "\n",
       "    .dataframe tbody tr th {\n",
       "        vertical-align: top;\n",
       "    }\n",
       "\n",
       "    .dataframe thead th {\n",
       "        text-align: right;\n",
       "    }\n",
       "</style>\n",
       "<table border=\"1\" class=\"dataframe\">\n",
       "  <thead>\n",
       "    <tr style=\"text-align: right;\">\n",
       "      <th></th>\n",
       "      <th>Decision Vars</th>\n",
       "      <th>Objective Coefficient</th>\n",
       "      <th>Coefficient Allowable Range</th>\n",
       "    </tr>\n",
       "  </thead>\n",
       "  <tbody>\n",
       "    <tr>\n",
       "      <th>0</th>\n",
       "      <td>xb</td>\n",
       "      <td>2400</td>\n",
       "      <td>(-17105.460472697643, 3770.712030866363)</td>\n",
       "    </tr>\n",
       "    <tr>\n",
       "      <th>1</th>\n",
       "      <td>xa</td>\n",
       "      <td>7200</td>\n",
       "      <td>(-8589.494949494952, 12015.533199195173)</td>\n",
       "    </tr>\n",
       "    <tr>\n",
       "      <th>2</th>\n",
       "      <td>xd</td>\n",
       "      <td>1300</td>\n",
       "      <td>(-692.8097909229987, 2409.195402298851)</td>\n",
       "    </tr>\n",
       "    <tr>\n",
       "      <th>3</th>\n",
       "      <td>xs</td>\n",
       "      <td>2800</td>\n",
       "      <td>(1930.1762674904594, 1e+20)</td>\n",
       "    </tr>\n",
       "  </tbody>\n",
       "</table>\n",
       "</div>"
      ],
      "text/plain": [
       "  Decision Vars  Objective Coefficient  \\\n",
       "0            xb                   2400   \n",
       "1            xa                   7200   \n",
       "2            xd                   1300   \n",
       "3            xs                   2800   \n",
       "\n",
       "                Coefficient Allowable Range  \n",
       "0  (-17105.460472697643, 3770.712030866363)  \n",
       "1  (-8589.494949494952, 12015.533199195173)  \n",
       "2   (-692.8097909229987, 2409.195402298851)  \n",
       "3               (1930.1762674904594, 1e+20)  "
      ]
     },
     "execution_count": 11,
     "metadata": {},
     "output_type": "execute_result"
    }
   ],
   "source": [
    "decision_vars_df = pd.DataFrame({'Decision Vars': var_names,\n",
    "                                 'Objective Coefficient': objective,\n",
    "                                 'Coefficient Allowable Range': model_cplex.solution.sensitivity.objective()})\n",
    "decision_vars_df"
   ]
  },
  {
   "cell_type": "code",
   "execution_count": 12,
   "id": "914ccc8a",
   "metadata": {},
   "outputs": [
    {
     "data": {
      "text/html": [
       "<div>\n",
       "<style scoped>\n",
       "    .dataframe tbody tr th:only-of-type {\n",
       "        vertical-align: middle;\n",
       "    }\n",
       "\n",
       "    .dataframe tbody tr th {\n",
       "        vertical-align: top;\n",
       "    }\n",
       "\n",
       "    .dataframe thead th {\n",
       "        text-align: right;\n",
       "    }\n",
       "</style>\n",
       "<table border=\"1\" class=\"dataframe\">\n",
       "  <thead>\n",
       "    <tr style=\"text-align: right;\">\n",
       "      <th></th>\n",
       "      <th>Constraint Name</th>\n",
       "      <th>Shadow Price</th>\n",
       "      <th>RHS</th>\n",
       "      <th>RHS Allowable Range</th>\n",
       "    </tr>\n",
       "  </thead>\n",
       "  <tbody>\n",
       "    <tr>\n",
       "      <th>0</th>\n",
       "      <td>Space</td>\n",
       "      <td>30.230353</td>\n",
       "      <td>15800</td>\n",
       "      <td>(13486.678801919577, 16689.4397813781)</td>\n",
       "    </tr>\n",
       "    <tr>\n",
       "      <th>1</th>\n",
       "      <td>Total Visitors</td>\n",
       "      <td>-7.786025</td>\n",
       "      <td>25000</td>\n",
       "      <td>(23667.660818713448, 29288.15950920245)</td>\n",
       "    </tr>\n",
       "    <tr>\n",
       "      <th>2</th>\n",
       "      <td>Min B</td>\n",
       "      <td>-1261.223173</td>\n",
       "      <td>0</td>\n",
       "      <td>(-15.238074359873726, 16.62022176831048)</td>\n",
       "    </tr>\n",
       "    <tr>\n",
       "      <th>3</th>\n",
       "      <td>Min A</td>\n",
       "      <td>-3862.062288</td>\n",
       "      <td>0</td>\n",
       "      <td>(-3.3864974136393378, 6.647234479610466)</td>\n",
       "    </tr>\n",
       "    <tr>\n",
       "      <th>4</th>\n",
       "      <td>Min D</td>\n",
       "      <td>0.000000</td>\n",
       "      <td>0</td>\n",
       "      <td>(-1e+20, 9.191140874616755)</td>\n",
       "    </tr>\n",
       "    <tr>\n",
       "      <th>5</th>\n",
       "      <td>Min S</td>\n",
       "      <td>0.000000</td>\n",
       "      <td>0</td>\n",
       "      <td>(-1e+20, 28.197918347587535)</td>\n",
       "    </tr>\n",
       "  </tbody>\n",
       "</table>\n",
       "</div>"
      ],
      "text/plain": [
       "  Constraint Name  Shadow Price    RHS  \\\n",
       "0           Space     30.230353  15800   \n",
       "1  Total Visitors     -7.786025  25000   \n",
       "2           Min B  -1261.223173      0   \n",
       "3           Min A  -3862.062288      0   \n",
       "4           Min D      0.000000      0   \n",
       "5           Min S      0.000000      0   \n",
       "\n",
       "                        RHS Allowable Range  \n",
       "0    (13486.678801919577, 16689.4397813781)  \n",
       "1   (23667.660818713448, 29288.15950920245)  \n",
       "2  (-15.238074359873726, 16.62022176831048)  \n",
       "3  (-3.3864974136393378, 6.647234479610466)  \n",
       "4               (-1e+20, 9.191140874616755)  \n",
       "5              (-1e+20, 28.197918347587535)  "
      ]
     },
     "execution_count": 12,
     "metadata": {},
     "output_type": "execute_result"
    }
   ],
   "source": [
    "constraint_df_cplex = pd.DataFrame({'Constraint Name': constraint_names,\n",
    "                                    'Shadow Price': model_cplex.solution.get_dual_values(),\n",
    "                                    'RHS': rhs,\n",
    "                                    'RHS Allowable Range': model_cplex.solution.sensitivity.rhs()})\n",
    "constraint_df_cplex"
   ]
  },
  {
   "cell_type": "markdown",
   "id": "1e0fbfab",
   "metadata": {},
   "source": [
    "## DOCPLEX (CPLEX OOP API)"
   ]
  },
  {
   "cell_type": "code",
   "execution_count": 13,
   "id": "259c95ad",
   "metadata": {},
   "outputs": [
    {
     "name": "stdout",
     "output_type": "stream",
     "text": [
      "Objective Value: 282988.94626432145\n"
     ]
    },
    {
     "data": {
      "text/html": [
       "<div>\n",
       "<style scoped>\n",
       "    .dataframe tbody tr th:only-of-type {\n",
       "        vertical-align: middle;\n",
       "    }\n",
       "\n",
       "    .dataframe tbody tr th {\n",
       "        vertical-align: top;\n",
       "    }\n",
       "\n",
       "    .dataframe thead th {\n",
       "        text-align: right;\n",
       "    }\n",
       "</style>\n",
       "<table border=\"1\" class=\"dataframe\">\n",
       "  <thead>\n",
       "    <tr style=\"text-align: right;\">\n",
       "      <th></th>\n",
       "      <th>Decision Vars</th>\n",
       "      <th>Values</th>\n",
       "    </tr>\n",
       "  </thead>\n",
       "  <tbody>\n",
       "    <tr>\n",
       "      <th>0</th>\n",
       "      <td>xb</td>\n",
       "      <td>14.020897</td>\n",
       "    </tr>\n",
       "    <tr>\n",
       "      <th>1</th>\n",
       "      <td>xa</td>\n",
       "      <td>14.020897</td>\n",
       "    </tr>\n",
       "    <tr>\n",
       "      <th>2</th>\n",
       "      <td>xd</td>\n",
       "      <td>23.212038</td>\n",
       "    </tr>\n",
       "    <tr>\n",
       "      <th>3</th>\n",
       "      <td>xs</td>\n",
       "      <td>42.218816</td>\n",
       "    </tr>\n",
       "  </tbody>\n",
       "</table>\n",
       "</div>"
      ],
      "text/plain": [
       "  Decision Vars     Values\n",
       "0            xb  14.020897\n",
       "1            xa  14.020897\n",
       "2            xd  23.212038\n",
       "3            xs  42.218816"
      ]
     },
     "execution_count": 13,
     "metadata": {},
     "output_type": "execute_result"
    }
   ],
   "source": [
    "from docplex.mp.model import Model\n",
    "\n",
    "# Model Object\n",
    "model_dplex = Model(name='LPModel')\n",
    "\n",
    "# Decision Variables\n",
    "xb = model_dplex.continuous_var()\n",
    "xa = model_dplex.continuous_var()\n",
    "xd = model_dplex.continuous_var()\n",
    "xs = model_dplex.continuous_var()\n",
    "\n",
    "# Constraints\n",
    "model_dplex.add_constraint(200*xb + 400*xa + 100*xd + 120*xs <= 20000 - 4200, ctname='Space')\n",
    "model_dplex.add_constraint(405*xb + 231*xa + 320*xd + 205*xs >= 25000, ctname='Total Visitors')\n",
    "model_dplex.add_constraint(0.85*xb - 0.15*xa - 0.15*xd - 0.15*xs >= 0, ctname='Min B')\n",
    "model_dplex.add_constraint(-0.15*xb + 0.85*xa - 0.15*xd - 0.15*xs >= 0, ctname='Min A')\n",
    "model_dplex.add_constraint(-0.15*xb - 0.15*xa + 0.85*xd - 0.15*xs >= 0, ctname='Min D')\n",
    "model_dplex.add_constraint(-0.15*xb - 0.15*xa - 0.15*xd + 0.85*xs >= 0, ctname='Min S')\n",
    "\n",
    "# Maximize objective function\n",
    "obj = 2400*xb + 7200*xa + 1300*xd + 2800*xs\n",
    "model_dplex.maximize(obj)\n",
    "\n",
    "model_dplex.solve()\n",
    "decision_vars = [xb, xa, xd, xs]\n",
    "\n",
    "print('Objective Value:', model_dplex.solution.get_objective_value())\n",
    "pd.DataFrame({'Decision Vars': var_names, 'Values': model_dplex.solution.get_values(decision_vars)})"
   ]
  },
  {
   "cell_type": "markdown",
   "id": "f59322dc",
   "metadata": {},
   "source": [
    "### Sensitivity Report"
   ]
  },
  {
   "cell_type": "code",
   "execution_count": 14,
   "id": "a2c1b474",
   "metadata": {},
   "outputs": [
    {
     "data": {
      "text/html": [
       "<div>\n",
       "<style scoped>\n",
       "    .dataframe tbody tr th:only-of-type {\n",
       "        vertical-align: middle;\n",
       "    }\n",
       "\n",
       "    .dataframe tbody tr th {\n",
       "        vertical-align: top;\n",
       "    }\n",
       "\n",
       "    .dataframe thead th {\n",
       "        text-align: right;\n",
       "    }\n",
       "</style>\n",
       "<table border=\"1\" class=\"dataframe\">\n",
       "  <thead>\n",
       "    <tr style=\"text-align: right;\">\n",
       "      <th></th>\n",
       "      <th>Decision Vars</th>\n",
       "      <th>Objective Coefficient</th>\n",
       "      <th>Coefficient Allowable Range</th>\n",
       "    </tr>\n",
       "  </thead>\n",
       "  <tbody>\n",
       "    <tr>\n",
       "      <th>0</th>\n",
       "      <td>xb</td>\n",
       "      <td>2400</td>\n",
       "      <td>(-17105.460472697643, 3770.712030866363)</td>\n",
       "    </tr>\n",
       "    <tr>\n",
       "      <th>1</th>\n",
       "      <td>xa</td>\n",
       "      <td>7200</td>\n",
       "      <td>(-8589.494949494952, 12015.533199195173)</td>\n",
       "    </tr>\n",
       "    <tr>\n",
       "      <th>2</th>\n",
       "      <td>xd</td>\n",
       "      <td>1300</td>\n",
       "      <td>(-692.8097909229987, 2409.195402298851)</td>\n",
       "    </tr>\n",
       "    <tr>\n",
       "      <th>3</th>\n",
       "      <td>xs</td>\n",
       "      <td>2800</td>\n",
       "      <td>(1930.1762674904594, 1e+20)</td>\n",
       "    </tr>\n",
       "  </tbody>\n",
       "</table>\n",
       "</div>"
      ],
      "text/plain": [
       "  Decision Vars  Objective Coefficient  \\\n",
       "0            xb                   2400   \n",
       "1            xa                   7200   \n",
       "2            xd                   1300   \n",
       "3            xs                   2800   \n",
       "\n",
       "                Coefficient Allowable Range  \n",
       "0  (-17105.460472697643, 3770.712030866363)  \n",
       "1  (-8589.494949494952, 12015.533199195173)  \n",
       "2   (-692.8097909229987, 2409.195402298851)  \n",
       "3               (1930.1762674904594, 1e+20)  "
      ]
     },
     "execution_count": 14,
     "metadata": {},
     "output_type": "execute_result"
    }
   ],
   "source": [
    "cpx = model_dplex.get_engine().get_cplex()\n",
    "decision_vars_df = pd.DataFrame({'Decision Vars': var_names,\n",
    "                                 'Objective Coefficient': objective,\n",
    "                                 'Coefficient Allowable Range': cpx.solution.sensitivity.objective()})\n",
    "decision_vars_df"
   ]
  },
  {
   "cell_type": "code",
   "execution_count": 15,
   "id": "79baedca",
   "metadata": {},
   "outputs": [
    {
     "data": {
      "text/html": [
       "<div>\n",
       "<style scoped>\n",
       "    .dataframe tbody tr th:only-of-type {\n",
       "        vertical-align: middle;\n",
       "    }\n",
       "\n",
       "    .dataframe tbody tr th {\n",
       "        vertical-align: top;\n",
       "    }\n",
       "\n",
       "    .dataframe thead th {\n",
       "        text-align: right;\n",
       "    }\n",
       "</style>\n",
       "<table border=\"1\" class=\"dataframe\">\n",
       "  <thead>\n",
       "    <tr style=\"text-align: right;\">\n",
       "      <th></th>\n",
       "      <th>Constraint Name</th>\n",
       "      <th>Shadow Price</th>\n",
       "      <th>RHS</th>\n",
       "      <th>RHS Allowable Range</th>\n",
       "    </tr>\n",
       "  </thead>\n",
       "  <tbody>\n",
       "    <tr>\n",
       "      <th>0</th>\n",
       "      <td>Space</td>\n",
       "      <td>30.230353</td>\n",
       "      <td>15800</td>\n",
       "      <td>(13486.678801919577, 16689.4397813781)</td>\n",
       "    </tr>\n",
       "    <tr>\n",
       "      <th>1</th>\n",
       "      <td>Total Visitors</td>\n",
       "      <td>-7.786025</td>\n",
       "      <td>25000</td>\n",
       "      <td>(23667.660818713448, 29288.15950920245)</td>\n",
       "    </tr>\n",
       "    <tr>\n",
       "      <th>2</th>\n",
       "      <td>Min B</td>\n",
       "      <td>-1261.223173</td>\n",
       "      <td>0</td>\n",
       "      <td>(-15.238074359873726, 16.62022176831048)</td>\n",
       "    </tr>\n",
       "    <tr>\n",
       "      <th>3</th>\n",
       "      <td>Min A</td>\n",
       "      <td>-3862.062288</td>\n",
       "      <td>0</td>\n",
       "      <td>(-3.3864974136393378, 6.647234479610466)</td>\n",
       "    </tr>\n",
       "    <tr>\n",
       "      <th>4</th>\n",
       "      <td>Min D</td>\n",
       "      <td>0.000000</td>\n",
       "      <td>0</td>\n",
       "      <td>(-1e+20, 9.191140874616755)</td>\n",
       "    </tr>\n",
       "    <tr>\n",
       "      <th>5</th>\n",
       "      <td>Min S</td>\n",
       "      <td>0.000000</td>\n",
       "      <td>0</td>\n",
       "      <td>(-1e+20, 28.197918347587535)</td>\n",
       "    </tr>\n",
       "  </tbody>\n",
       "</table>\n",
       "</div>"
      ],
      "text/plain": [
       "  Constraint Name  Shadow Price    RHS  \\\n",
       "0           Space     30.230353  15800   \n",
       "1  Total Visitors     -7.786025  25000   \n",
       "2           Min B  -1261.223173      0   \n",
       "3           Min A  -3862.062288      0   \n",
       "4           Min D      0.000000      0   \n",
       "5           Min S      0.000000      0   \n",
       "\n",
       "                        RHS Allowable Range  \n",
       "0    (13486.678801919577, 16689.4397813781)  \n",
       "1   (23667.660818713448, 29288.15950920245)  \n",
       "2  (-15.238074359873726, 16.62022176831048)  \n",
       "3  (-3.3864974136393378, 6.647234479610466)  \n",
       "4               (-1e+20, 9.191140874616755)  \n",
       "5              (-1e+20, 28.197918347587535)  "
      ]
     },
     "execution_count": 15,
     "metadata": {},
     "output_type": "execute_result"
    }
   ],
   "source": [
    "# Create an empty list to store DataFrames for each constraint\n",
    "dfs = []\n",
    "\n",
    "for constraint in model_dplex.iter_constraints():\n",
    "    constraint_name = constraint.name\n",
    "    shadow_price = constraint.dual_value\n",
    "    \n",
    "    # Create a DataFrame for each constraint\n",
    "    df = pd.DataFrame({'Constraint Name': [constraint_name], 'Shadow Price': [shadow_price]})\n",
    "    \n",
    "    # Append the DataFrame to the list\n",
    "    dfs.append(df)\n",
    "\n",
    "# Concatenate all DataFrames in the list\n",
    "shadow_price_df = pd.concat(dfs, ignore_index=True)\n",
    "\n",
    "rhs = pd.DataFrame({'RHS': rhs})\n",
    "rhs_range = pd.DataFrame({'RHS Allowable Range': cpx.solution.sensitivity.rhs()})\n",
    "\n",
    "constraint_df_dplex = pd.concat([shadow_price_df, rhs, rhs_range], axis=1)\n",
    "constraint_df_dplex"
   ]
  },
  {
   "cell_type": "markdown",
   "id": "b1a340d5",
   "metadata": {},
   "source": [
    "## SciPy"
   ]
  },
  {
   "cell_type": "code",
   "execution_count": 16,
   "id": "966c0a52",
   "metadata": {},
   "outputs": [
    {
     "name": "stdout",
     "output_type": "stream",
     "text": [
      "The solution is optimal.\n",
      "Objective value: z = -280000.0\n",
      "Solution: x_b = 15.0, x_a = 14.0, x_d = 24.0, x_s = 40.0\n"
     ]
    }
   ],
   "source": [
    "from scipy.optimize import linprog\n",
    "\n",
    "# Declare the decision variable bounds\n",
    "xb_bounds = (0, None)\n",
    "xa_bounds = (0, None)\n",
    "xd_bounds = (0, None)\n",
    "xs_bounds = (0, None)\n",
    "\n",
    "# Declare coefficients of the objective function\n",
    "# scipy.optimize.linprog is minimization only - multiply coef's by -1\n",
    "# Reverse sign of objective value (Revenue) to get maximum\n",
    "c = [-2400, -7200, -1300, -2800]\n",
    "\n",
    "# Declare the inequality constraint matrix\n",
    "# Left-hand side\n",
    "# Coefficients must be in the same order - Xb, Xa, Xd, Xs\n",
    "# All inequality signs should be '<=' for linprog. Just multiply both side by -1 when necessary.\n",
    "A = [[200,  400, 100, 120],\n",
    "     [-405, -231, -320, -205],\n",
    "     [-0.85, 0.15, 0.15, 0.15],\n",
    "     [0.15, -0.85, 0.15, 0.15],\n",
    "     [0.15, 0.15, -0.85, 0.15],\n",
    "     [0.15, 0.15, 0.15, -0.85]]\n",
    "\n",
    "# Declare the inequality constraint vector\n",
    "# Right-hand side\n",
    "# All inequality signs should be '<='. Just multiply both side by -1 when necessary.\n",
    "b = [20000-4200, -25000, 0, 0, 0, 0]\n",
    "\n",
    "# For integer decision variables\n",
    "# Solve \n",
    "results = linprog(c=c,\n",
    "                  A_ub=A,\n",
    "                  b_ub=b,\n",
    "                  bounds=[xb_bounds, xa_bounds, xd_bounds, xs_bounds],\n",
    "                  integrality=[1, 1, 1, 1], # Integer only for decision variables\n",
    "                  method='highs')\n",
    "\n",
    "# Print results\n",
    "if results.status == 0: print(f'The solution is optimal.') \n",
    "print(f'Objective value: z = {results.fun}')\n",
    "print(f'Solution: x_b = {results.x[0]}, x_a = {results.x[1]}, x_d = {results.x[2]}, x_s = {results.x[3]}')"
   ]
  },
  {
   "cell_type": "markdown",
   "id": "abc39723",
   "metadata": {},
   "source": [
    "Reverse the sign in the objective value to get maximum revenue (+\\\\$280,000)"
   ]
  },
  {
   "cell_type": "code",
   "execution_count": 17,
   "id": "2156b7ce",
   "metadata": {},
   "outputs": [
    {
     "name": "stdout",
     "output_type": "stream",
     "text": [
      "The solution is optimal.\n",
      "Objective value: z = -282988.94626432145\n",
      "Solution: x_b = 14.020897208326609, x_a = 14.020897208326609, x_d = 23.212038082943362, x_s = 42.21881555591415\n"
     ]
    }
   ],
   "source": [
    "# For continuous decision variables\n",
    "\n",
    "# Solve \n",
    "results = linprog(c=c,\n",
    "                  A_ub=A,\n",
    "                  b_ub=b,\n",
    "                  bounds=[xb_bounds, xa_bounds, xd_bounds, xs_bounds],\n",
    "                  method='highs')\n",
    "\n",
    "# Print results\n",
    "if results.status == 0: print(f'The solution is optimal.') \n",
    "print(f'Objective value: z = {results.fun}')\n",
    "print(f'Solution: x_b = {results.x[0]}, x_a = {results.x[1]}, x_d = {results.x[2]}, x_s = {results.x[3]}')"
   ]
  },
  {
   "cell_type": "markdown",
   "id": "16d3d7c6",
   "metadata": {},
   "source": [
    "Reverse the sign in the objective value to get maximum revenue (+\\\\$282,989)"
   ]
  }
 ],
 "metadata": {
  "kernelspec": {
   "display_name": "Python 3 (ipykernel)",
   "language": "python",
   "name": "python3"
  },
  "language_info": {
   "codemirror_mode": {
    "name": "ipython",
    "version": 3
   },
   "file_extension": ".py",
   "mimetype": "text/x-python",
   "name": "python",
   "nbconvert_exporter": "python",
   "pygments_lexer": "ipython3",
   "version": "3.11.3"
  }
 },
 "nbformat": 4,
 "nbformat_minor": 5
}
