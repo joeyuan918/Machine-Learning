{
  "nbformat": 4,
  "nbformat_minor": 0,
  "metadata": {
    "colab": {
      "name": "Predicting hit songs.ipynb",
      "provenance": [],
      "collapsed_sections": [],
      "toc_visible": true,
      "machine_shape": "hm"
    },
    "kernelspec": {
      "name": "python3",
      "display_name": "Python 3"
    }
  },
  "cells": [
    {
      "cell_type": "markdown",
      "metadata": {
        "id": "0MRC0e0KhQ0S",
        "colab_type": "text"
      },
      "source": [
        "# **Business Objective: Predicting 1980s Hit Songs**"
      ]
    },
    {
      "cell_type": "markdown",
      "metadata": {
        "id": "CgQU0PGjYkr_",
        "colab_type": "text"
      },
      "source": [
        "The 1980s was a transformative time period in history, as reflected in the diversity of the music. Many memorable hit songs came from that decade. Here, we predict 80s hits based on [song features](https://developer.spotify.com/documentation/web-api/reference/tracks/get-audio-features/) using classification models: **Logistic Regression, K-Nearest Neighbor, Support Vector Machine (SVM), Kernel SVM, Naive Bayes, Artificial Neural Network, Decision Tree, Random Forest, and XGBoost**. We then determine which model is the most accurate."
      ]
    },
    {
      "cell_type": "markdown",
      "metadata": {
        "id": "LWd1UlMnhT2s",
        "colab_type": "text"
      },
      "source": [
        "## Import the libraries"
      ]
    },
    {
      "cell_type": "code",
      "metadata": {
        "id": "YvGPUQaHhXfL",
        "colab_type": "code",
        "colab": {
          "base_uri": "https://localhost:8080/",
          "height": 54
        },
        "outputId": "f364d59f-f1eb-4e09-847c-76198e1a5e66"
      },
      "source": [
        "import numpy as np\n",
        "import matplotlib.pyplot as plt\n",
        "import pandas as pd\n",
        "import seaborn as sns"
      ],
      "execution_count": 1,
      "outputs": [
        {
          "output_type": "stream",
          "text": [
            "/usr/local/lib/python3.6/dist-packages/statsmodels/tools/_testing.py:19: FutureWarning: pandas.util.testing is deprecated. Use the functions in the public API at pandas.testing instead.\n",
            "  import pandas.util.testing as tm\n"
          ],
          "name": "stderr"
        }
      ]
    },
    {
      "cell_type": "markdown",
      "metadata": {
        "id": "K1VMqkGvhc3-",
        "colab_type": "text"
      },
      "source": [
        "## Import the dataset"
      ]
    },
    {
      "cell_type": "markdown",
      "metadata": {
        "id": "s3qLWI_caC8n",
        "colab_type": "text"
      },
      "source": [
        "Please go [here](https://www.kaggle.com/theoverman/the-spotify-hit-predictor-dataset) for the dataset description"
      ]
    },
    {
      "cell_type": "code",
      "metadata": {
        "id": "M52QDmyzhh9s",
        "colab_type": "code",
        "colab": {}
      },
      "source": [
        "dataset = pd.read_csv('dataset-of-80s.csv')\n",
        "X = dataset.iloc[:, 3:-1].values\n",
        "y = dataset.iloc[:, -1].values"
      ],
      "execution_count": 2,
      "outputs": []
    },
    {
      "cell_type": "code",
      "metadata": {
        "id": "OpCKBd0snlu1",
        "colab_type": "code",
        "colab": {
          "base_uri": "https://localhost:8080/",
          "height": 35
        },
        "outputId": "cfe83e26-c51e-48d2-da77-3fe9da0392c3"
      },
      "source": [
        "dataset.shape"
      ],
      "execution_count": 3,
      "outputs": [
        {
          "output_type": "execute_result",
          "data": {
            "text/plain": [
              "(6908, 19)"
            ]
          },
          "metadata": {
            "tags": []
          },
          "execution_count": 3
        }
      ]
    },
    {
      "cell_type": "code",
      "metadata": {
        "id": "RJLzqAJJnpLg",
        "colab_type": "code",
        "colab": {
          "base_uri": "https://localhost:8080/",
          "height": 609
        },
        "outputId": "4ec9d554-f9ce-4ad1-b104-cc9ce37ea976"
      },
      "source": [
        "dataset.head(10)"
      ],
      "execution_count": 4,
      "outputs": [
        {
          "output_type": "execute_result",
          "data": {
            "text/html": [
              "<div>\n",
              "<style scoped>\n",
              "    .dataframe tbody tr th:only-of-type {\n",
              "        vertical-align: middle;\n",
              "    }\n",
              "\n",
              "    .dataframe tbody tr th {\n",
              "        vertical-align: top;\n",
              "    }\n",
              "\n",
              "    .dataframe thead th {\n",
              "        text-align: right;\n",
              "    }\n",
              "</style>\n",
              "<table border=\"1\" class=\"dataframe\">\n",
              "  <thead>\n",
              "    <tr style=\"text-align: right;\">\n",
              "      <th></th>\n",
              "      <th>track</th>\n",
              "      <th>artist</th>\n",
              "      <th>uri</th>\n",
              "      <th>danceability</th>\n",
              "      <th>energy</th>\n",
              "      <th>key</th>\n",
              "      <th>loudness</th>\n",
              "      <th>mode</th>\n",
              "      <th>speechiness</th>\n",
              "      <th>acousticness</th>\n",
              "      <th>instrumentalness</th>\n",
              "      <th>liveness</th>\n",
              "      <th>valence</th>\n",
              "      <th>tempo</th>\n",
              "      <th>duration_ms</th>\n",
              "      <th>time_signature</th>\n",
              "      <th>chorus_hit</th>\n",
              "      <th>sections</th>\n",
              "      <th>target</th>\n",
              "    </tr>\n",
              "  </thead>\n",
              "  <tbody>\n",
              "    <tr>\n",
              "      <th>0</th>\n",
              "      <td>Walking Blues</td>\n",
              "      <td>Big Joe Williams</td>\n",
              "      <td>spotify:track:1ZjN5X8LmUB67pWPgimW3B</td>\n",
              "      <td>0.509</td>\n",
              "      <td>0.277</td>\n",
              "      <td>6</td>\n",
              "      <td>-14.323</td>\n",
              "      <td>1</td>\n",
              "      <td>0.0495</td>\n",
              "      <td>0.827000</td>\n",
              "      <td>0.002060</td>\n",
              "      <td>0.0756</td>\n",
              "      <td>0.640</td>\n",
              "      <td>101.157</td>\n",
              "      <td>161893</td>\n",
              "      <td>4</td>\n",
              "      <td>68.46530</td>\n",
              "      <td>7</td>\n",
              "      <td>0</td>\n",
              "    </tr>\n",
              "    <tr>\n",
              "      <th>1</th>\n",
              "      <td>Suddenly Last Summer</td>\n",
              "      <td>The Motels</td>\n",
              "      <td>spotify:track:4fLIM0B1WwrLux9RdnMvze</td>\n",
              "      <td>0.716</td>\n",
              "      <td>0.753</td>\n",
              "      <td>2</td>\n",
              "      <td>-5.682</td>\n",
              "      <td>1</td>\n",
              "      <td>0.0286</td>\n",
              "      <td>0.162000</td>\n",
              "      <td>0.030600</td>\n",
              "      <td>0.0831</td>\n",
              "      <td>0.561</td>\n",
              "      <td>120.141</td>\n",
              "      <td>222000</td>\n",
              "      <td>4</td>\n",
              "      <td>57.71583</td>\n",
              "      <td>11</td>\n",
              "      <td>1</td>\n",
              "    </tr>\n",
              "    <tr>\n",
              "      <th>2</th>\n",
              "      <td>Sanctuary</td>\n",
              "      <td>Béla Fleck</td>\n",
              "      <td>spotify:track:3DwlNfiCQSdj0GOxYkR9Rq</td>\n",
              "      <td>0.360</td>\n",
              "      <td>0.542</td>\n",
              "      <td>5</td>\n",
              "      <td>-13.885</td>\n",
              "      <td>1</td>\n",
              "      <td>0.0339</td>\n",
              "      <td>0.368000</td>\n",
              "      <td>0.165000</td>\n",
              "      <td>0.1160</td>\n",
              "      <td>0.803</td>\n",
              "      <td>116.831</td>\n",
              "      <td>444907</td>\n",
              "      <td>4</td>\n",
              "      <td>30.34574</td>\n",
              "      <td>17</td>\n",
              "      <td>0</td>\n",
              "    </tr>\n",
              "    <tr>\n",
              "      <th>3</th>\n",
              "      <td>The Wild Rover</td>\n",
              "      <td>The Pogues</td>\n",
              "      <td>spotify:track:6JyYNPLalPgGa7XnclF5FO</td>\n",
              "      <td>0.656</td>\n",
              "      <td>0.512</td>\n",
              "      <td>7</td>\n",
              "      <td>-11.872</td>\n",
              "      <td>1</td>\n",
              "      <td>0.0290</td>\n",
              "      <td>0.585000</td>\n",
              "      <td>0.000000</td>\n",
              "      <td>0.0720</td>\n",
              "      <td>0.880</td>\n",
              "      <td>97.500</td>\n",
              "      <td>157893</td>\n",
              "      <td>3</td>\n",
              "      <td>50.97022</td>\n",
              "      <td>7</td>\n",
              "      <td>0</td>\n",
              "    </tr>\n",
              "    <tr>\n",
              "      <th>4</th>\n",
              "      <td>In The Driver's Seat</td>\n",
              "      <td>John Schneider</td>\n",
              "      <td>spotify:track:6jJi8OXF5qaFdysB6sjWIT</td>\n",
              "      <td>0.642</td>\n",
              "      <td>0.889</td>\n",
              "      <td>2</td>\n",
              "      <td>-5.620</td>\n",
              "      <td>0</td>\n",
              "      <td>0.0494</td>\n",
              "      <td>0.375000</td>\n",
              "      <td>0.000000</td>\n",
              "      <td>0.1800</td>\n",
              "      <td>0.764</td>\n",
              "      <td>163.351</td>\n",
              "      <td>162293</td>\n",
              "      <td>4</td>\n",
              "      <td>33.62053</td>\n",
              "      <td>7</td>\n",
              "      <td>1</td>\n",
              "    </tr>\n",
              "    <tr>\n",
              "      <th>5</th>\n",
              "      <td>Slow Kill</td>\n",
              "      <td>Fields Of The Nephilim</td>\n",
              "      <td>spotify:track:3AKzRH32S4Jc5Ge4RFp5WG</td>\n",
              "      <td>0.296</td>\n",
              "      <td>0.547</td>\n",
              "      <td>4</td>\n",
              "      <td>-15.115</td>\n",
              "      <td>0</td>\n",
              "      <td>0.0327</td>\n",
              "      <td>0.000291</td>\n",
              "      <td>0.013600</td>\n",
              "      <td>0.3720</td>\n",
              "      <td>0.490</td>\n",
              "      <td>148.775</td>\n",
              "      <td>224360</td>\n",
              "      <td>4</td>\n",
              "      <td>53.02555</td>\n",
              "      <td>11</td>\n",
              "      <td>0</td>\n",
              "    </tr>\n",
              "    <tr>\n",
              "      <th>6</th>\n",
              "      <td>Young Wild And Free</td>\n",
              "      <td>Brighton Rock</td>\n",
              "      <td>spotify:track:7EBpncUwlHjLhQTetSLb9O</td>\n",
              "      <td>0.454</td>\n",
              "      <td>0.734</td>\n",
              "      <td>2</td>\n",
              "      <td>-15.559</td>\n",
              "      <td>1</td>\n",
              "      <td>0.0410</td>\n",
              "      <td>0.124000</td>\n",
              "      <td>0.000014</td>\n",
              "      <td>0.0990</td>\n",
              "      <td>0.460</td>\n",
              "      <td>135.527</td>\n",
              "      <td>225560</td>\n",
              "      <td>4</td>\n",
              "      <td>36.52688</td>\n",
              "      <td>11</td>\n",
              "      <td>0</td>\n",
              "    </tr>\n",
              "    <tr>\n",
              "      <th>7</th>\n",
              "      <td>Holiday</td>\n",
              "      <td>The Other Ones</td>\n",
              "      <td>spotify:track:3f1rbdXIbz36QZ8xU7wt2i</td>\n",
              "      <td>0.487</td>\n",
              "      <td>0.853</td>\n",
              "      <td>11</td>\n",
              "      <td>-10.165</td>\n",
              "      <td>0</td>\n",
              "      <td>0.0343</td>\n",
              "      <td>0.027700</td>\n",
              "      <td>0.007370</td>\n",
              "      <td>0.1360</td>\n",
              "      <td>0.802</td>\n",
              "      <td>83.593</td>\n",
              "      <td>213427</td>\n",
              "      <td>4</td>\n",
              "      <td>15.23401</td>\n",
              "      <td>10</td>\n",
              "      <td>1</td>\n",
              "    </tr>\n",
              "    <tr>\n",
              "      <th>8</th>\n",
              "      <td>Answering Machine</td>\n",
              "      <td>Rupert Holmes</td>\n",
              "      <td>spotify:track:5Qo14bQqTK9iGbf2g6JUjL</td>\n",
              "      <td>0.775</td>\n",
              "      <td>0.488</td>\n",
              "      <td>0</td>\n",
              "      <td>-15.044</td>\n",
              "      <td>1</td>\n",
              "      <td>0.1230</td>\n",
              "      <td>0.240000</td>\n",
              "      <td>0.000000</td>\n",
              "      <td>0.0368</td>\n",
              "      <td>0.961</td>\n",
              "      <td>81.158</td>\n",
              "      <td>215200</td>\n",
              "      <td>4</td>\n",
              "      <td>28.65643</td>\n",
              "      <td>9</td>\n",
              "      <td>1</td>\n",
              "    </tr>\n",
              "    <tr>\n",
              "      <th>9</th>\n",
              "      <td>Crystal Ball</td>\n",
              "      <td>Yngwie Malmsteen</td>\n",
              "      <td>spotify:track:6C3BPDXuHFRbCWsTk4eNPU</td>\n",
              "      <td>0.406</td>\n",
              "      <td>0.777</td>\n",
              "      <td>8</td>\n",
              "      <td>-11.498</td>\n",
              "      <td>1</td>\n",
              "      <td>0.0590</td>\n",
              "      <td>0.087000</td>\n",
              "      <td>0.000016</td>\n",
              "      <td>0.1960</td>\n",
              "      <td>0.456</td>\n",
              "      <td>131.109</td>\n",
              "      <td>295507</td>\n",
              "      <td>4</td>\n",
              "      <td>41.44096</td>\n",
              "      <td>12</td>\n",
              "      <td>0</td>\n",
              "    </tr>\n",
              "  </tbody>\n",
              "</table>\n",
              "</div>"
            ],
            "text/plain": [
              "                  track                  artist  ... sections  target\n",
              "0         Walking Blues        Big Joe Williams  ...        7       0\n",
              "1  Suddenly Last Summer              The Motels  ...       11       1\n",
              "2             Sanctuary              Béla Fleck  ...       17       0\n",
              "3        The Wild Rover              The Pogues  ...        7       0\n",
              "4  In The Driver's Seat          John Schneider  ...        7       1\n",
              "5             Slow Kill  Fields Of The Nephilim  ...       11       0\n",
              "6   Young Wild And Free           Brighton Rock  ...       11       0\n",
              "7               Holiday          The Other Ones  ...       10       1\n",
              "8     Answering Machine           Rupert Holmes  ...        9       1\n",
              "9          Crystal Ball        Yngwie Malmsteen  ...       12       0\n",
              "\n",
              "[10 rows x 19 columns]"
            ]
          },
          "metadata": {
            "tags": []
          },
          "execution_count": 4
        }
      ]
    },
    {
      "cell_type": "markdown",
      "metadata": {
        "id": "ZuYrdJ8-mGyb",
        "colab_type": "text"
      },
      "source": [
        "**Note:** We are excluding Track and Artist as Features to consider in our model. Artist is a '20/20 hindsight' observation since, looking back, we already know which artists dominated the 1980s. This will greatly, but artificially, increase the model accuracy and is akin to data leakage. If our goal is to look in the rearview mirror to see how the Predicted Hits stack up to Actual Hits, we would include Artist feature in our model. However, the goal is to predict hits in real-time when singles have just been released. So, in the moment, we do not yet know or have the historical perspective about which artists have or will achieve greatness."
      ]
    },
    {
      "cell_type": "markdown",
      "metadata": {
        "id": "pxxjQAs-FdX4",
        "colab_type": "text"
      },
      "source": [
        "## ***Data Preprocessing***"
      ]
    },
    {
      "cell_type": "markdown",
      "metadata": {
        "id": "1is7zRoMWHup",
        "colab_type": "text"
      },
      "source": [
        "## Check for Null Values"
      ]
    },
    {
      "cell_type": "code",
      "metadata": {
        "id": "vvAWxkkQWGCB",
        "colab_type": "code",
        "colab": {
          "base_uri": "https://localhost:8080/",
          "height": 645
        },
        "outputId": "462faebc-d79b-4be5-a680-f7ca22336bb1"
      },
      "source": [
        "null_count = dataset.isnull().sum()\n",
        "null_pct = ((dataset.isnull().sum())/(dataset.isnull().count()))*100\n",
        "null_type = dataset.dtypes\n",
        "missing_data = pd.concat([null_count, null_pct, null_type], axis = 1, keys = ['Null Values', 'Percent of Total', 'Data Type'])\n",
        "missing_data = missing_data.sort_values(by = 'Percent of Total', ascending = False).round(2)\n",
        "missing_data"
      ],
      "execution_count": 5,
      "outputs": [
        {
          "output_type": "execute_result",
          "data": {
            "text/html": [
              "<div>\n",
              "<style scoped>\n",
              "    .dataframe tbody tr th:only-of-type {\n",
              "        vertical-align: middle;\n",
              "    }\n",
              "\n",
              "    .dataframe tbody tr th {\n",
              "        vertical-align: top;\n",
              "    }\n",
              "\n",
              "    .dataframe thead th {\n",
              "        text-align: right;\n",
              "    }\n",
              "</style>\n",
              "<table border=\"1\" class=\"dataframe\">\n",
              "  <thead>\n",
              "    <tr style=\"text-align: right;\">\n",
              "      <th></th>\n",
              "      <th>Null Values</th>\n",
              "      <th>Percent of Total</th>\n",
              "      <th>Data Type</th>\n",
              "    </tr>\n",
              "  </thead>\n",
              "  <tbody>\n",
              "    <tr>\n",
              "      <th>track</th>\n",
              "      <td>0</td>\n",
              "      <td>0.0</td>\n",
              "      <td>object</td>\n",
              "    </tr>\n",
              "    <tr>\n",
              "      <th>instrumentalness</th>\n",
              "      <td>0</td>\n",
              "      <td>0.0</td>\n",
              "      <td>float64</td>\n",
              "    </tr>\n",
              "    <tr>\n",
              "      <th>sections</th>\n",
              "      <td>0</td>\n",
              "      <td>0.0</td>\n",
              "      <td>int64</td>\n",
              "    </tr>\n",
              "    <tr>\n",
              "      <th>chorus_hit</th>\n",
              "      <td>0</td>\n",
              "      <td>0.0</td>\n",
              "      <td>float64</td>\n",
              "    </tr>\n",
              "    <tr>\n",
              "      <th>time_signature</th>\n",
              "      <td>0</td>\n",
              "      <td>0.0</td>\n",
              "      <td>int64</td>\n",
              "    </tr>\n",
              "    <tr>\n",
              "      <th>duration_ms</th>\n",
              "      <td>0</td>\n",
              "      <td>0.0</td>\n",
              "      <td>int64</td>\n",
              "    </tr>\n",
              "    <tr>\n",
              "      <th>tempo</th>\n",
              "      <td>0</td>\n",
              "      <td>0.0</td>\n",
              "      <td>float64</td>\n",
              "    </tr>\n",
              "    <tr>\n",
              "      <th>valence</th>\n",
              "      <td>0</td>\n",
              "      <td>0.0</td>\n",
              "      <td>float64</td>\n",
              "    </tr>\n",
              "    <tr>\n",
              "      <th>liveness</th>\n",
              "      <td>0</td>\n",
              "      <td>0.0</td>\n",
              "      <td>float64</td>\n",
              "    </tr>\n",
              "    <tr>\n",
              "      <th>acousticness</th>\n",
              "      <td>0</td>\n",
              "      <td>0.0</td>\n",
              "      <td>float64</td>\n",
              "    </tr>\n",
              "    <tr>\n",
              "      <th>artist</th>\n",
              "      <td>0</td>\n",
              "      <td>0.0</td>\n",
              "      <td>object</td>\n",
              "    </tr>\n",
              "    <tr>\n",
              "      <th>speechiness</th>\n",
              "      <td>0</td>\n",
              "      <td>0.0</td>\n",
              "      <td>float64</td>\n",
              "    </tr>\n",
              "    <tr>\n",
              "      <th>mode</th>\n",
              "      <td>0</td>\n",
              "      <td>0.0</td>\n",
              "      <td>int64</td>\n",
              "    </tr>\n",
              "    <tr>\n",
              "      <th>loudness</th>\n",
              "      <td>0</td>\n",
              "      <td>0.0</td>\n",
              "      <td>float64</td>\n",
              "    </tr>\n",
              "    <tr>\n",
              "      <th>key</th>\n",
              "      <td>0</td>\n",
              "      <td>0.0</td>\n",
              "      <td>int64</td>\n",
              "    </tr>\n",
              "    <tr>\n",
              "      <th>energy</th>\n",
              "      <td>0</td>\n",
              "      <td>0.0</td>\n",
              "      <td>float64</td>\n",
              "    </tr>\n",
              "    <tr>\n",
              "      <th>danceability</th>\n",
              "      <td>0</td>\n",
              "      <td>0.0</td>\n",
              "      <td>float64</td>\n",
              "    </tr>\n",
              "    <tr>\n",
              "      <th>uri</th>\n",
              "      <td>0</td>\n",
              "      <td>0.0</td>\n",
              "      <td>object</td>\n",
              "    </tr>\n",
              "    <tr>\n",
              "      <th>target</th>\n",
              "      <td>0</td>\n",
              "      <td>0.0</td>\n",
              "      <td>int64</td>\n",
              "    </tr>\n",
              "  </tbody>\n",
              "</table>\n",
              "</div>"
            ],
            "text/plain": [
              "                  Null Values  Percent of Total Data Type\n",
              "track                       0               0.0    object\n",
              "instrumentalness            0               0.0   float64\n",
              "sections                    0               0.0     int64\n",
              "chorus_hit                  0               0.0   float64\n",
              "time_signature              0               0.0     int64\n",
              "duration_ms                 0               0.0     int64\n",
              "tempo                       0               0.0   float64\n",
              "valence                     0               0.0   float64\n",
              "liveness                    0               0.0   float64\n",
              "acousticness                0               0.0   float64\n",
              "artist                      0               0.0    object\n",
              "speechiness                 0               0.0   float64\n",
              "mode                        0               0.0     int64\n",
              "loudness                    0               0.0   float64\n",
              "key                         0               0.0     int64\n",
              "energy                      0               0.0   float64\n",
              "danceability                0               0.0   float64\n",
              "uri                         0               0.0    object\n",
              "target                      0               0.0     int64"
            ]
          },
          "metadata": {
            "tags": []
          },
          "execution_count": 5
        }
      ]
    },
    {
      "cell_type": "markdown",
      "metadata": {
        "id": "OgUyCPD-Xxl6",
        "colab_type": "text"
      },
      "source": [
        "No null values are present"
      ]
    },
    {
      "cell_type": "markdown",
      "metadata": {
        "id": "8gRUzMZr5Svn",
        "colab_type": "text"
      },
      "source": [
        "## Determine Feature Correlations"
      ]
    },
    {
      "cell_type": "code",
      "metadata": {
        "id": "xO77jVwC1_mW",
        "colab_type": "code",
        "colab": {}
      },
      "source": [
        "def make_corr_map(df, title='Correlation Heat Map', size=(9,7)):\n",
        "    corr = df.corr()\n",
        "    mask = np.triu(np.ones_like(corr)) # for upper triangle\n",
        "    f, ax = plt.subplots(figsize=size)\n",
        "    cmap = sns.diverging_palette(240, 10, as_cmap=True)\n",
        "    sns.heatmap(corr, mask=mask, cmap=cmap, square=True, linewidths=.5, cbar_kws={\"shrink\": .5})\n",
        "    plt.title(title)\n"
      ],
      "execution_count": 6,
      "outputs": []
    },
    {
      "cell_type": "code",
      "metadata": {
        "id": "qd6tfOTNNWnu",
        "colab_type": "code",
        "colab": {
          "base_uri": "https://localhost:8080/",
          "height": 521
        },
        "outputId": "fba18cc0-7a32-47a2-e13f-c84e2d400b45"
      },
      "source": [
        "make_corr_map(dataset)"
      ],
      "execution_count": 7,
      "outputs": [
        {
          "output_type": "display_data",
          "data": {
            "image/png": "[encoded data removed]",
            "text/plain": [
              "<Figure size 648x504 with 2 Axes>"
            ]
          },
          "metadata": {
            "tags": [],
            "needs_background": "light"
          }
        }
      ]
    },
    {
      "cell_type": "markdown",
      "metadata": {
        "id": "zSkqnr0aqPgn",
        "colab_type": "text"
      },
      "source": [
        "Energy seems highly correlated to loudness, while duration_ms is correlated to sections. We will select features more rigorously using established methods."
      ]
    },
    {
      "cell_type": "markdown",
      "metadata": {
        "id": "5_fQMe2kx47q",
        "colab_type": "text"
      },
      "source": [
        "## Encode categorical data"
      ]
    },
    {
      "cell_type": "code",
      "metadata": {
        "id": "9Y-x44pLx4BR",
        "colab_type": "code",
        "colab": {}
      },
      "source": [
        "from sklearn.compose import ColumnTransformer\n",
        "from sklearn.preprocessing import OneHotEncoder\n",
        "\n",
        "# Column order for Tree model\n",
        "feat_tree = [i for i in dataset.columns]\n",
        "feat_tree = feat_tree[3:18]\n",
        "\n",
        "# OneHotEncode key, time_signature, and sections features for all models except for Naive Bayes and Tree models\n",
        "ct = ColumnTransformer(transformers=[('encoder', OneHotEncoder(sparse=False), [2,12,14])], remainder='passthrough')\n",
        "X_nt = np.array(ct.fit_transform(X))\n",
        "\n",
        "# Column order for non-Tree model\n",
        "feat_nt = ['Key', 'Time_Sig', 'Sections', 'Danceability', 'Energy', 'Loudness', 'Mode', 'Speechiness',\n",
        "            'Acousticness', 'Instrumentalness', 'Liveness', 'Valence', 'Tempo', 'Duration_ms', 'Chorus_hit']"
      ],
      "execution_count": 8,
      "outputs": []
    },
    {
      "cell_type": "markdown",
      "metadata": {
        "id": "DKtqZitlv1Fh",
        "colab_type": "text"
      },
      "source": [
        "## Feature scaling for non-Tree models"
      ]
    },
    {
      "cell_type": "code",
      "metadata": {
        "id": "P-HSXUhdv2ZG",
        "colab_type": "code",
        "colab": {}
      },
      "source": [
        "from sklearn.preprocessing import StandardScaler\n",
        "sc = StandardScaler()\n",
        "X_nt_sc = sc.fit_transform(X_nt)"
      ],
      "execution_count": 9,
      "outputs": []
    },
    {
      "cell_type": "markdown",
      "metadata": {
        "id": "9i5zppD90O3q",
        "colab_type": "text"
      },
      "source": [
        "## Split the dataset into the Training set and Test set"
      ]
    },
    {
      "cell_type": "code",
      "metadata": {
        "id": "TcYuY2nV0PwZ",
        "colab_type": "code",
        "colab": {}
      },
      "source": [
        "from sklearn.model_selection import train_test_split\n",
        "# For Non-Tree models\n",
        "X_train_nt, X_test_nt, y_train, y_test = train_test_split(X_nt_sc, y, test_size = 0.25, random_state = 42)\n",
        "# For Naive Bayes and Tree models\n",
        "X_train, X_test, y_train, y_test = train_test_split(X, y, test_size = 0.25, random_state = 42)"
      ],
      "execution_count": 10,
      "outputs": []
    },
    {
      "cell_type": "markdown",
      "metadata": {
        "id": "YdE__tqbFxlg",
        "colab_type": "text"
      },
      "source": [
        "## ***Non-Tree-Based Algorithms***"
      ]
    },
    {
      "cell_type": "markdown",
      "metadata": {
        "id": "XAFYk8D8FsUP",
        "colab_type": "text"
      },
      "source": [
        "## *Logistic Regression with Feature Selection*"
      ]
    },
    {
      "cell_type": "markdown",
      "metadata": {
        "id": "1OdqaialyF56",
        "colab_type": "text"
      },
      "source": [
        "## Feature Selection using Logistic Regression with L1 penalty (similar to LassoCV)\n",
        "*   This method penalizes coefficients of variables by shrinking (regularizing) them - some to zero\n",
        "*   *Feature Selection* - Non-zero coefficients are selected to be part of the model\n",
        "*   Requires model (relationship between X and y) for selection analysis"
      ]
    },
    {
      "cell_type": "code",
      "metadata": {
        "id": "DXwG3M7Xc6mF",
        "colab_type": "code",
        "colab": {
          "base_uri": "https://localhost:8080/",
          "height": 520
        },
        "outputId": "ed81966f-a298-4a47-b511-b356e3ea6dd4"
      },
      "source": [
        "from sklearn.linear_model import LogisticRegression\n",
        "log = LogisticRegression(penalty='l1', solver='liblinear')\n",
        "log.fit(X_train_nt, y_train)\n",
        "\n",
        "importance = np.abs(log.coef_)\n",
        "\n",
        "# Sum Coef's for Key (Categorical)\n",
        "feat_key = np.array(importance[0,0:12].sum())\n",
        "# Sum Coef's for Time_Signature (Categorical)\n",
        "feat_time = np.array(importance[0,12:16].sum())\n",
        "# Sum Coef's for Sections (Categorical)\n",
        "feat_sec = np.array(importance[0,16:67].sum())\n",
        "\n",
        "feat_rest = np.array(importance[0,67:])\n",
        "\n",
        "# Gather coef values for Key, Time Signature, Sections, Artists, and rest of features\n",
        "feat_hits = np.append(feat_key, feat_time)\n",
        "feat_hits = np.append(feat_hits, feat_sec)\n",
        "feat_hits = np.append(feat_hits, feat_rest)\n",
        "\n",
        "feat_sig = pd.DataFrame(zip(feat_nt, feat_hits))\n",
        "feat_sig.columns = ['Feature', 'Coef']\n",
        "feat_sig = feat_sig.sort_values('Coef', ascending=False)\n",
        "feat_sig = feat_sig.reset_index(drop=True)\n",
        "feat_sig.index += 1 \n",
        "feat_sig"
      ],
      "execution_count": 11,
      "outputs": [
        {
          "output_type": "execute_result",
          "data": {
            "text/html": [
              "<div>\n",
              "<style scoped>\n",
              "    .dataframe tbody tr th:only-of-type {\n",
              "        vertical-align: middle;\n",
              "    }\n",
              "\n",
              "    .dataframe tbody tr th {\n",
              "        vertical-align: top;\n",
              "    }\n",
              "\n",
              "    .dataframe thead th {\n",
              "        text-align: right;\n",
              "    }\n",
              "</style>\n",
              "<table border=\"1\" class=\"dataframe\">\n",
              "  <thead>\n",
              "    <tr style=\"text-align: right;\">\n",
              "      <th></th>\n",
              "      <th>Feature</th>\n",
              "      <th>Coef</th>\n",
              "    </tr>\n",
              "  </thead>\n",
              "  <tbody>\n",
              "    <tr>\n",
              "      <th>1</th>\n",
              "      <td>Sections</td>\n",
              "      <td>4.683949</td>\n",
              "    </tr>\n",
              "    <tr>\n",
              "      <th>2</th>\n",
              "      <td>Instrumentalness</td>\n",
              "      <td>1.145342</td>\n",
              "    </tr>\n",
              "    <tr>\n",
              "      <th>3</th>\n",
              "      <td>Speechiness</td>\n",
              "      <td>0.887362</td>\n",
              "    </tr>\n",
              "    <tr>\n",
              "      <th>4</th>\n",
              "      <td>Danceability</td>\n",
              "      <td>0.717441</td>\n",
              "    </tr>\n",
              "    <tr>\n",
              "      <th>5</th>\n",
              "      <td>Acousticness</td>\n",
              "      <td>0.577000</td>\n",
              "    </tr>\n",
              "    <tr>\n",
              "      <th>6</th>\n",
              "      <td>Loudness</td>\n",
              "      <td>0.492778</td>\n",
              "    </tr>\n",
              "    <tr>\n",
              "      <th>7</th>\n",
              "      <td>Duration_ms</td>\n",
              "      <td>0.483880</td>\n",
              "    </tr>\n",
              "    <tr>\n",
              "      <th>8</th>\n",
              "      <td>Key</td>\n",
              "      <td>0.312536</td>\n",
              "    </tr>\n",
              "    <tr>\n",
              "      <th>9</th>\n",
              "      <td>Energy</td>\n",
              "      <td>0.211812</td>\n",
              "    </tr>\n",
              "    <tr>\n",
              "      <th>10</th>\n",
              "      <td>Time_Sig</td>\n",
              "      <td>0.204577</td>\n",
              "    </tr>\n",
              "    <tr>\n",
              "      <th>11</th>\n",
              "      <td>Tempo</td>\n",
              "      <td>0.162869</td>\n",
              "    </tr>\n",
              "    <tr>\n",
              "      <th>12</th>\n",
              "      <td>Liveness</td>\n",
              "      <td>0.129105</td>\n",
              "    </tr>\n",
              "    <tr>\n",
              "      <th>13</th>\n",
              "      <td>Mode</td>\n",
              "      <td>0.101661</td>\n",
              "    </tr>\n",
              "    <tr>\n",
              "      <th>14</th>\n",
              "      <td>Valence</td>\n",
              "      <td>0.100741</td>\n",
              "    </tr>\n",
              "    <tr>\n",
              "      <th>15</th>\n",
              "      <td>Chorus_hit</td>\n",
              "      <td>0.019624</td>\n",
              "    </tr>\n",
              "  </tbody>\n",
              "</table>\n",
              "</div>"
            ],
            "text/plain": [
              "             Feature      Coef\n",
              "1           Sections  4.683949\n",
              "2   Instrumentalness  1.145342\n",
              "3        Speechiness  0.887362\n",
              "4       Danceability  0.717441\n",
              "5       Acousticness  0.577000\n",
              "6           Loudness  0.492778\n",
              "7        Duration_ms  0.483880\n",
              "8                Key  0.312536\n",
              "9             Energy  0.211812\n",
              "10          Time_Sig  0.204577\n",
              "11             Tempo  0.162869\n",
              "12          Liveness  0.129105\n",
              "13              Mode  0.101661\n",
              "14           Valence  0.100741\n",
              "15        Chorus_hit  0.019624"
            ]
          },
          "metadata": {
            "tags": []
          },
          "execution_count": 11
        }
      ]
    },
    {
      "cell_type": "code",
      "metadata": {
        "id": "gZqJ3pBiw68Y",
        "colab_type": "code",
        "colab": {
          "base_uri": "https://localhost:8080/",
          "height": 295
        },
        "outputId": "3305a1a9-0979-4d3c-adce-eaa1c639c0e1"
      },
      "source": [
        "indices = np.argsort(feat_hits)\n",
        "plt.title('Feature Selection - Logistic Regression')\n",
        "plt.barh(range(len(indices)), feat_hits[indices], color='b', align='center')\n",
        "plt.yticks(range(len(indices)), np.array(feat_nt)[indices])\n",
        "plt.xlabel('Relative Importance')\n",
        "\n",
        "plt.show()"
      ],
      "execution_count": 12,
      "outputs": [
        {
          "output_type": "display_data",
          "data": {
            "image/png": "[encoded data removed]",
            "text/plain": [
              "<Figure size 432x288 with 1 Axes>"
            ]
          },
          "metadata": {
            "tags": [],
            "needs_background": "light"
          }
        }
      ]
    },
    {
      "cell_type": "markdown",
      "metadata": {
        "id": "qN_PkgmY8RI2",
        "colab_type": "text"
      },
      "source": [
        "We will keep all Features in this model. Note that instrumentalness, speechiness, danceability, and acousticness are at the top of the list. The importance of this group of features reappears in the performance of other models shown below."
      ]
    },
    {
      "cell_type": "markdown",
      "metadata": {
        "id": "bb6jCOCQiAmP",
        "colab_type": "text"
      },
      "source": [
        "## Train the Logistic Regression model on the Training set"
      ]
    },
    {
      "cell_type": "code",
      "metadata": {
        "id": "e0pFVAmciHQs",
        "colab_type": "code",
        "colab": {
          "base_uri": "https://localhost:8080/",
          "height": 109
        },
        "outputId": "7942e8de-f747-4fbc-8d99-f2cd17edabbf"
      },
      "source": [
        "from sklearn.linear_model import LogisticRegression\n",
        "log_class = LogisticRegression(random_state = 42)\n",
        "log_class.fit(X_train_nt, y_train)"
      ],
      "execution_count": 13,
      "outputs": [
        {
          "output_type": "execute_result",
          "data": {
            "text/plain": [
              "LogisticRegression(C=1.0, class_weight=None, dual=False, fit_intercept=True,\n",
              "                   intercept_scaling=1, l1_ratio=None, max_iter=100,\n",
              "                   multi_class='auto', n_jobs=None, penalty='l2',\n",
              "                   random_state=42, solver='lbfgs', tol=0.0001, verbose=0,\n",
              "                   warm_start=False)"
            ]
          },
          "metadata": {
            "tags": []
          },
          "execution_count": 13
        }
      ]
    },
    {
      "cell_type": "markdown",
      "metadata": {
        "id": "B7nZzbe_phgf",
        "colab_type": "text"
      },
      "source": [
        "## Logistic Regression k-folds Cross Validation"
      ]
    },
    {
      "cell_type": "code",
      "metadata": {
        "id": "yiONIj_wpe9f",
        "colab_type": "code",
        "colab": {
          "base_uri": "https://localhost:8080/",
          "height": 54
        },
        "outputId": "5541a84a-87a5-4072-9b67-1bbeca8ac427"
      },
      "source": [
        "from sklearn.model_selection import cross_val_score\n",
        "log_acc = cross_val_score(estimator = log_class, X = X_nt_sc, y = y, cv = 10, scoring = 'accuracy')\n",
        "print('Accuracy Mean:', log_acc.mean(), '\\nAccuracy SD:', log_acc.std())\n",
        "\n",
        "cvacc = []\n",
        "cvacc_std = []\n",
        "cvacc.append(round(log_acc.mean(), 4))\n",
        "cvacc_std.append(round(log_acc.std(), 4))"
      ],
      "execution_count": 14,
      "outputs": [
        {
          "output_type": "stream",
          "text": [
            "Accuracy Mean: 0.7744610834958787 \n",
            "Accuracy SD: 0.012583338691727088\n"
          ],
          "name": "stdout"
        }
      ]
    },
    {
      "cell_type": "markdown",
      "metadata": {
        "id": "2cHSxEbsLeq1",
        "colab_type": "text"
      },
      "source": [
        "## Predict the Test set Results"
      ]
    },
    {
      "cell_type": "code",
      "metadata": {
        "id": "8eStQ9cWLjWE",
        "colab_type": "code",
        "colab": {}
      },
      "source": [
        "y_pred_log = log_class.predict(X_test_nt)"
      ],
      "execution_count": 15,
      "outputs": []
    },
    {
      "cell_type": "markdown",
      "metadata": {
        "id": "h4Hwj34ziWQW",
        "colab_type": "text"
      },
      "source": [
        "## Make the Logistic Regression Confusion Matrix"
      ]
    },
    {
      "cell_type": "code",
      "metadata": {
        "id": "WSBMReplJJFo",
        "colab_type": "code",
        "colab": {
          "base_uri": "https://localhost:8080/",
          "height": 295
        },
        "outputId": "810901e8-b462-4048-b0a6-698fbcc16f55"
      },
      "source": [
        "from sklearn.feature_selection import RFE\n",
        "from sklearn.linear_model import LogisticRegression\n",
        "from sklearn.metrics import accuracy_score, plot_confusion_matrix\n",
        "class_names = np.array(['Negative', 'Positive'])\n",
        "title = 'Confusion Matrix'\n",
        "disp = plot_confusion_matrix(log_class, X_test_nt, y_test,\n",
        "                             display_labels=class_names,\n",
        "                             cmap=plt.cm.Blues,\n",
        "                             values_format='d')\n",
        "disp.ax_.set_title(title)\n",
        "plt.show()"
      ],
      "execution_count": 16,
      "outputs": [
        {
          "output_type": "display_data",
          "data": {
            "image/png": "[encoded data removed]",
            "text/plain": [
              "<Figure size 432x288 with 2 Axes>"
            ]
          },
          "metadata": {
            "tags": [],
            "needs_background": "light"
          }
        }
      ]
    },
    {
      "cell_type": "code",
      "metadata": {
        "id": "sFSHHeIbMkd6",
        "colab_type": "code",
        "colab": {
          "base_uri": "https://localhost:8080/",
          "height": 35
        },
        "outputId": "fc02695d-4f0b-48fd-c83f-f2049221acad"
      },
      "source": [
        "test_acc = []\n",
        "test_acc.append(round((accuracy_score(y_test, y_pred_log)*100),2))\n",
        "print('The accuracy score is {}%'.format(round((accuracy_score(y_test, y_pred_log)*100),2)))"
      ],
      "execution_count": 17,
      "outputs": [
        {
          "output_type": "stream",
          "text": [
            "The accuracy score is 78.05%\n"
          ],
          "name": "stdout"
        }
      ]
    },
    {
      "cell_type": "markdown",
      "metadata": {
        "id": "UBbu9KIBB6Hz",
        "colab_type": "text"
      },
      "source": [
        "The Logistic Regression model gives solid prediction accuracy"
      ]
    },
    {
      "cell_type": "markdown",
      "metadata": {
        "id": "pJisFeg6Oibb",
        "colab_type": "text"
      },
      "source": [
        "## Logistic Regression ROC Curve"
      ]
    },
    {
      "cell_type": "code",
      "metadata": {
        "id": "_iwKJPASOGwl",
        "colab_type": "code",
        "colab": {
          "base_uri": "https://localhost:8080/",
          "height": 295
        },
        "outputId": "feaf9883-cda0-46d6-d3d4-f86731625fd9"
      },
      "source": [
        "import sklearn.metrics as metrics\n",
        "# calculate the fpr and tpr for all thresholds of the classification\n",
        "probs = log_class.predict_proba(X_test_nt)\n",
        "preds = probs[:,1]\n",
        "fpr, tpr, threshold = metrics.roc_curve(y_test, preds)\n",
        "roc_auc_logfs = metrics.auc(fpr, tpr)\n",
        "roc_auc = []\n",
        "roc_auc.append(round(roc_auc_logfs, 2))\n",
        "\n",
        "plt.title('Receiver Operating Characteristic')\n",
        "plt.plot(fpr, tpr, 'b', label = 'AUC = %0.2f' % roc_auc_logfs)\n",
        "plt.legend(loc = 'lower right')\n",
        "plt.plot([0, 1], [0, 1],'r--')\n",
        "plt.xlim([0, 1])\n",
        "plt.ylim([0, 1])\n",
        "plt.ylabel('True Positive Rate')\n",
        "plt.xlabel('False Positive Rate')\n",
        "plt.show()"
      ],
      "execution_count": 18,
      "outputs": [
        {
          "output_type": "display_data",
          "data": {
            "image/png": "[encoded data removed]",
            "text/plain": [
              "<Figure size 432x288 with 1 Axes>"
            ]
          },
          "metadata": {
            "tags": [],
            "needs_background": "light"
          }
        }
      ]
    },
    {
      "cell_type": "markdown",
      "metadata": {
        "id": "vZy_aQveb1Bb",
        "colab_type": "text"
      },
      "source": [
        "*The Logistic Regression model gives good prediction on whether a song is a hit or not.*"
      ]
    },
    {
      "cell_type": "markdown",
      "metadata": {
        "id": "kQojf5nHqckE",
        "colab_type": "text"
      },
      "source": [
        "## *K-Nearest Neighbor*\n",
        "- Based on Euclidean distance - similar data points are close to each other, close to the mode of a particular K label for classification\n",
        "- Number of K labels chosen to reduce the number of errors while maintaining prediction accuracy"
      ]
    },
    {
      "cell_type": "markdown",
      "metadata": {
        "id": "PfzLCdVF1fGF",
        "colab_type": "text"
      },
      "source": [
        "## Find optimal number of K neighbors using Elbow Method"
      ]
    },
    {
      "cell_type": "code",
      "metadata": {
        "id": "j6PTpYUI1m00",
        "colab_type": "code",
        "colab": {
          "base_uri": "https://localhost:8080/",
          "height": 422
        },
        "outputId": "9d6f2253-c8b7-43d9-b6d2-c2b40fc3d369"
      },
      "source": [
        "from sklearn.neighbors import KNeighborsClassifier\n",
        "error_rate = []\n",
        "\n",
        "for i in range(1,40):\n",
        "  knn = KNeighborsClassifier(n_neighbors=i)\n",
        "  knn.fit(X_train_nt, y_train)\n",
        "  pred_i = knn.predict(X_test_nt)\n",
        "  error_rate.append(np.mean(pred_i != y_test))\n",
        "\n",
        "plt.figure(figsize = (10,6))\n",
        "plt.plot(range(1,40), error_rate, color='blue', linestyle='dashed', marker='o', markerfacecolor='red', markersize=10)\n",
        "plt.title('Error Rate vs K value')\n",
        "plt.xlabel('K')\n",
        "plt.ylabel('Error Rate')"
      ],
      "execution_count": 19,
      "outputs": [
        {
          "output_type": "execute_result",
          "data": {
            "text/plain": [
              "Text(0, 0.5, 'Error Rate')"
            ]
          },
          "metadata": {
            "tags": []
          },
          "execution_count": 19
        },
        {
          "output_type": "display_data",
          "data": {
            "image/png": "[encoded data removed]",
            "text/plain": [
              "<Figure size 720x432 with 1 Axes>"
            ]
          },
          "metadata": {
            "tags": [],
            "needs_background": "light"
          }
        }
      ]
    },
    {
      "cell_type": "markdown",
      "metadata": {
        "id": "sGDmmjW748p2",
        "colab_type": "text"
      },
      "source": [
        "K = 7 gives the lowest Error Rate"
      ]
    },
    {
      "cell_type": "markdown",
      "metadata": {
        "id": "PRvNGe04Q-ON",
        "colab_type": "text"
      },
      "source": [
        "## Train the K-Nearest Neighbor model on the Training set"
      ]
    },
    {
      "cell_type": "code",
      "metadata": {
        "id": "WuSOq6McQ83X",
        "colab_type": "code",
        "colab": {
          "base_uri": "https://localhost:8080/",
          "height": 72
        },
        "outputId": "5386863a-bdf5-4f69-ec0b-7e68344a3c66"
      },
      "source": [
        "knn_class = KNeighborsClassifier(n_neighbors = 7, metric = 'minkowski', p = 2)\n",
        "knn_class.fit(X_train_nt, y_train)"
      ],
      "execution_count": 20,
      "outputs": [
        {
          "output_type": "execute_result",
          "data": {
            "text/plain": [
              "KNeighborsClassifier(algorithm='auto', leaf_size=30, metric='minkowski',\n",
              "                     metric_params=None, n_jobs=None, n_neighbors=7, p=2,\n",
              "                     weights='uniform')"
            ]
          },
          "metadata": {
            "tags": []
          },
          "execution_count": 20
        }
      ]
    },
    {
      "cell_type": "markdown",
      "metadata": {
        "id": "2QButd-_RxoW",
        "colab_type": "text"
      },
      "source": [
        "## Predict the Test set Result"
      ]
    },
    {
      "cell_type": "code",
      "metadata": {
        "id": "gWhbN-arR1s1",
        "colab_type": "code",
        "colab": {}
      },
      "source": [
        "y_pred_knn = knn_class.predict(X_test_nt)"
      ],
      "execution_count": 21,
      "outputs": []
    },
    {
      "cell_type": "markdown",
      "metadata": {
        "id": "Ew5YeKLMSC8G",
        "colab_type": "text"
      },
      "source": [
        "## kNN k-folds Cross Validation"
      ]
    },
    {
      "cell_type": "code",
      "metadata": {
        "id": "ptxGpZBYSHZd",
        "colab_type": "code",
        "colab": {
          "base_uri": "https://localhost:8080/",
          "height": 54
        },
        "outputId": "91bee323-8a7e-4bd3-cebc-2edef84a4c5e"
      },
      "source": [
        "from sklearn.model_selection import cross_val_score\n",
        "knn_acc = cross_val_score(estimator = knn_class, X = X_nt_sc, y = y, cv = 10, scoring = 'accuracy')\n",
        "print('Accuracy Mean:', knn_acc.mean(), '\\nAccuracy SD:', knn_acc.std())\n",
        "\n",
        "cvacc.append(round(knn_acc.mean(), 4))\n",
        "cvacc_std.append(round(knn_acc.std(), 4))"
      ],
      "execution_count": 22,
      "outputs": [
        {
          "output_type": "stream",
          "text": [
            "Accuracy Mean: 0.6881859938337633 \n",
            "Accuracy SD: 0.014440717347497816\n"
          ],
          "name": "stdout"
        }
      ]
    },
    {
      "cell_type": "markdown",
      "metadata": {
        "id": "VRLDL65mSZRe",
        "colab_type": "text"
      },
      "source": [
        "## Make the kNN Confusion Matrix"
      ]
    },
    {
      "cell_type": "code",
      "metadata": {
        "id": "nE_wazPKSUNG",
        "colab_type": "code",
        "colab": {
          "base_uri": "https://localhost:8080/",
          "height": 295
        },
        "outputId": "4f9bc27b-8796-49a7-f0f8-5e7cf329cc20"
      },
      "source": [
        "from sklearn.metrics import accuracy_score, plot_confusion_matrix\n",
        "class_names = np.array(['Negative', 'Positive'])\n",
        "title = 'Confusion Matrix'\n",
        "disp = plot_confusion_matrix(knn_class, X_test_nt, y_test,\n",
        "                             display_labels=class_names,\n",
        "                             cmap=plt.cm.Blues,\n",
        "                             values_format='d')\n",
        "disp.ax_.set_title(title)\n",
        "plt.show()"
      ],
      "execution_count": 23,
      "outputs": [
        {
          "output_type": "display_data",
          "data": {
            "image/png": "[encoded data removed]",
            "text/plain": [
              "<Figure size 432x288 with 2 Axes>"
            ]
          },
          "metadata": {
            "tags": [],
            "needs_background": "light"
          }
        }
      ]
    },
    {
      "cell_type": "code",
      "metadata": {
        "id": "rnRbFfD_uq-M",
        "colab_type": "code",
        "colab": {
          "base_uri": "https://localhost:8080/",
          "height": 35
        },
        "outputId": "8652b4ca-5e62-432f-ef65-5b1939137335"
      },
      "source": [
        "# ROC AUC\n",
        "from sklearn.metrics import roc_auc_score\n",
        "roc_auc_knn = roc_auc_score(y_test, y_pred_knn)\n",
        "roc_auc.append(round(roc_auc_knn, 2))\n",
        "print('ROC-AUC: %.2f' % round(roc_auc_knn, 2))"
      ],
      "execution_count": 24,
      "outputs": [
        {
          "output_type": "stream",
          "text": [
            "ROC-AUC: 0.69\n"
          ],
          "name": "stdout"
        }
      ]
    },
    {
      "cell_type": "code",
      "metadata": {
        "id": "j3JuucJAmdLX",
        "colab_type": "code",
        "colab": {
          "base_uri": "https://localhost:8080/",
          "height": 35
        },
        "outputId": "52787893-d3f7-4f5c-87d7-596d0089cd96"
      },
      "source": [
        "test_acc.append(round((accuracy_score(y_test, y_pred_knn)*100),2))\n",
        "print('The accuracy score is {}%'.format(round((accuracy_score(y_test, y_pred_knn)*100),2)))"
      ],
      "execution_count": 25,
      "outputs": [
        {
          "output_type": "stream",
          "text": [
            "The accuracy score is 69.83%\n"
          ],
          "name": "stdout"
        }
      ]
    },
    {
      "cell_type": "markdown",
      "metadata": {
        "id": "X0mP88jIql-N",
        "colab_type": "text"
      },
      "source": [
        "## *Support Vector Machine - Linear*\n",
        "- Finds a hyperplane in N-dimensional space (N = number of features) that classifies the data points\n",
        "- Choose the hyperplane with maximum margin, i.e. maximum distance between data points of two classes\n",
        "- Position and orientation of hyperplane are determined by support vectors, i.e. data points closest to the hyperplane"
      ]
    },
    {
      "cell_type": "markdown",
      "metadata": {
        "id": "b8rIt_yvrrtl",
        "colab_type": "text"
      },
      "source": [
        "## Train the SVM model on the Training set"
      ]
    },
    {
      "cell_type": "code",
      "metadata": {
        "id": "I34O9UoLrnXC",
        "colab_type": "code",
        "colab": {
          "base_uri": "https://localhost:8080/",
          "height": 90
        },
        "outputId": "7e066cce-1415-494d-c7f2-80767bd8c515"
      },
      "source": [
        "from sklearn.svm import SVC\n",
        "svc_class = SVC(kernel = 'linear', random_state = 42)\n",
        "svc_class.fit(X_train_nt, y_train)"
      ],
      "execution_count": 26,
      "outputs": [
        {
          "output_type": "execute_result",
          "data": {
            "text/plain": [
              "SVC(C=1.0, break_ties=False, cache_size=200, class_weight=None, coef0=0.0,\n",
              "    decision_function_shape='ovr', degree=3, gamma='scale', kernel='linear',\n",
              "    max_iter=-1, probability=False, random_state=42, shrinking=True, tol=0.001,\n",
              "    verbose=False)"
            ]
          },
          "metadata": {
            "tags": []
          },
          "execution_count": 26
        }
      ]
    },
    {
      "cell_type": "markdown",
      "metadata": {
        "id": "YJzs5FJbrE3V",
        "colab_type": "text"
      },
      "source": [
        "## Feature Selection"
      ]
    },
    {
      "cell_type": "code",
      "metadata": {
        "id": "DEtgwCpeLiWx",
        "colab_type": "code",
        "colab": {
          "base_uri": "https://localhost:8080/",
          "height": 520
        },
        "outputId": "8a3992de-61fc-461b-ea3b-0541ee3c0311"
      },
      "source": [
        "importance = np.abs(svc_class.coef_)\n",
        "\n",
        "# Sum Coef's for Key (Categorical)\n",
        "feat_key = np.array(importance[0,0:12].sum())\n",
        "# Sum Coef's for Time_Signature (Categorical)\n",
        "feat_time = np.array(importance[0,12:16].sum())\n",
        "# Sum Coef's for Sections (Categorical)\n",
        "feat_sec = np.array(importance[0,16:67].sum())\n",
        "\n",
        "feat_rest = np.array(importance[0,67:])\n",
        "\n",
        "# Gather coef values for Key, Time Signature, Sections, Artists, and rest of features\n",
        "feat_hits = np.append(feat_key, feat_time)\n",
        "feat_hits = np.append(feat_hits, feat_sec)\n",
        "feat_hits = np.append(feat_hits, feat_rest)\n",
        "\n",
        "feat_sig = pd.DataFrame(zip(feat_nt, feat_hits))\n",
        "feat_sig.columns = ['Feature', 'Coef']\n",
        "feat_sig = feat_sig.sort_values('Coef', ascending=False)\n",
        "feat_sig = feat_sig.reset_index(drop=True)\n",
        "feat_sig.index += 1 \n",
        "feat_sig"
      ],
      "execution_count": 27,
      "outputs": [
        {
          "output_type": "execute_result",
          "data": {
            "text/html": [
              "<div>\n",
              "<style scoped>\n",
              "    .dataframe tbody tr th:only-of-type {\n",
              "        vertical-align: middle;\n",
              "    }\n",
              "\n",
              "    .dataframe tbody tr th {\n",
              "        vertical-align: top;\n",
              "    }\n",
              "\n",
              "    .dataframe thead th {\n",
              "        text-align: right;\n",
              "    }\n",
              "</style>\n",
              "<table border=\"1\" class=\"dataframe\">\n",
              "  <thead>\n",
              "    <tr style=\"text-align: right;\">\n",
              "      <th></th>\n",
              "      <th>Feature</th>\n",
              "      <th>Coef</th>\n",
              "    </tr>\n",
              "  </thead>\n",
              "  <tbody>\n",
              "    <tr>\n",
              "      <th>1</th>\n",
              "      <td>Sections</td>\n",
              "      <td>2.709490</td>\n",
              "    </tr>\n",
              "    <tr>\n",
              "      <th>2</th>\n",
              "      <td>Instrumentalness</td>\n",
              "      <td>0.923259</td>\n",
              "    </tr>\n",
              "    <tr>\n",
              "      <th>3</th>\n",
              "      <td>Speechiness</td>\n",
              "      <td>0.812102</td>\n",
              "    </tr>\n",
              "    <tr>\n",
              "      <th>4</th>\n",
              "      <td>Danceability</td>\n",
              "      <td>0.618564</td>\n",
              "    </tr>\n",
              "    <tr>\n",
              "      <th>5</th>\n",
              "      <td>Acousticness</td>\n",
              "      <td>0.501912</td>\n",
              "    </tr>\n",
              "    <tr>\n",
              "      <th>6</th>\n",
              "      <td>Duration_ms</td>\n",
              "      <td>0.416857</td>\n",
              "    </tr>\n",
              "    <tr>\n",
              "      <th>7</th>\n",
              "      <td>Loudness</td>\n",
              "      <td>0.364041</td>\n",
              "    </tr>\n",
              "    <tr>\n",
              "      <th>8</th>\n",
              "      <td>Key</td>\n",
              "      <td>0.243036</td>\n",
              "    </tr>\n",
              "    <tr>\n",
              "      <th>9</th>\n",
              "      <td>Time_Sig</td>\n",
              "      <td>0.185225</td>\n",
              "    </tr>\n",
              "    <tr>\n",
              "      <th>10</th>\n",
              "      <td>Valence</td>\n",
              "      <td>0.156110</td>\n",
              "    </tr>\n",
              "    <tr>\n",
              "      <th>11</th>\n",
              "      <td>Tempo</td>\n",
              "      <td>0.147596</td>\n",
              "    </tr>\n",
              "    <tr>\n",
              "      <th>12</th>\n",
              "      <td>Energy</td>\n",
              "      <td>0.122233</td>\n",
              "    </tr>\n",
              "    <tr>\n",
              "      <th>13</th>\n",
              "      <td>Liveness</td>\n",
              "      <td>0.106115</td>\n",
              "    </tr>\n",
              "    <tr>\n",
              "      <th>14</th>\n",
              "      <td>Mode</td>\n",
              "      <td>0.055627</td>\n",
              "    </tr>\n",
              "    <tr>\n",
              "      <th>15</th>\n",
              "      <td>Chorus_hit</td>\n",
              "      <td>0.015320</td>\n",
              "    </tr>\n",
              "  </tbody>\n",
              "</table>\n",
              "</div>"
            ],
            "text/plain": [
              "             Feature      Coef\n",
              "1           Sections  2.709490\n",
              "2   Instrumentalness  0.923259\n",
              "3        Speechiness  0.812102\n",
              "4       Danceability  0.618564\n",
              "5       Acousticness  0.501912\n",
              "6        Duration_ms  0.416857\n",
              "7           Loudness  0.364041\n",
              "8                Key  0.243036\n",
              "9           Time_Sig  0.185225\n",
              "10           Valence  0.156110\n",
              "11             Tempo  0.147596\n",
              "12            Energy  0.122233\n",
              "13          Liveness  0.106115\n",
              "14              Mode  0.055627\n",
              "15        Chorus_hit  0.015320"
            ]
          },
          "metadata": {
            "tags": []
          },
          "execution_count": 27
        }
      ]
    },
    {
      "cell_type": "code",
      "metadata": {
        "id": "bcFDLh-FuZry",
        "colab_type": "code",
        "colab": {
          "base_uri": "https://localhost:8080/",
          "height": 295
        },
        "outputId": "a3da7de7-f714-4078-9a3e-e7ea678eb0b0"
      },
      "source": [
        "indices = np.argsort(feat_hits)\n",
        "plt.title('Feature Selection - SVM')\n",
        "plt.barh(range(len(indices)), feat_hits[indices], color='b', align='center')\n",
        "plt.yticks(range(len(indices)), np.array(feat_nt)[indices])\n",
        "plt.xlabel('Relative Importance')\n",
        "\n",
        "plt.show()"
      ],
      "execution_count": 28,
      "outputs": [
        {
          "output_type": "display_data",
          "data": {
            "image/png": "[encoded data removed]",
            "text/plain": [
              "<Figure size 432x288 with 1 Axes>"
            ]
          },
          "metadata": {
            "tags": [],
            "needs_background": "light"
          }
        }
      ]
    },
    {
      "cell_type": "markdown",
      "metadata": {
        "id": "8__wQSTQqtJt",
        "colab_type": "text"
      },
      "source": [
        "Keep all Features. Eliminating features does not improve the accuracy score."
      ]
    },
    {
      "cell_type": "markdown",
      "metadata": {
        "id": "aVQaGKuDUTK2",
        "colab_type": "text"
      },
      "source": [
        "## Predict the Test set Result"
      ]
    },
    {
      "cell_type": "code",
      "metadata": {
        "id": "F17WRY0TUUfi",
        "colab_type": "code",
        "colab": {}
      },
      "source": [
        "y_pred_svc = svc_class.predict(X_test_nt)"
      ],
      "execution_count": 29,
      "outputs": []
    },
    {
      "cell_type": "markdown",
      "metadata": {
        "id": "ezrmP8maUaNn",
        "colab_type": "text"
      },
      "source": [
        "## SVM k-folds Cross Validation"
      ]
    },
    {
      "cell_type": "code",
      "metadata": {
        "id": "eWe105syUfRB",
        "colab_type": "code",
        "colab": {
          "base_uri": "https://localhost:8080/",
          "height": 54
        },
        "outputId": "258391cd-885f-4271-8b7e-293678d48d03"
      },
      "source": [
        "from sklearn.model_selection import cross_val_score\n",
        "svc_acc = cross_val_score(estimator = svc_class, X = X_nt_sc, y = y, cv = 10)\n",
        "print('Accuracy Mean:', svc_acc.mean(), '\\nAccuracy SD:', svc_acc.std())\n",
        "\n",
        "cvacc.append(round(svc_acc.mean(), 4))\n",
        "cvacc_std.append(round(svc_acc.std(), 4))"
      ],
      "execution_count": 30,
      "outputs": [
        {
          "output_type": "stream",
          "text": [
            "Accuracy Mean: 0.7718555338828416 \n",
            "Accuracy SD: 0.013297287895895111\n"
          ],
          "name": "stdout"
        }
      ]
    },
    {
      "cell_type": "markdown",
      "metadata": {
        "id": "n1b2UjoeUqgx",
        "colab_type": "text"
      },
      "source": [
        "## Make the SVM Confusion Matrix"
      ]
    },
    {
      "cell_type": "code",
      "metadata": {
        "id": "euF0GKtnUs8W",
        "colab_type": "code",
        "colab": {
          "base_uri": "https://localhost:8080/",
          "height": 295
        },
        "outputId": "2b41cabd-1223-4dd1-e3aa-240bc6613fa6"
      },
      "source": [
        "from sklearn.metrics import accuracy_score, plot_confusion_matrix\n",
        "class_names = np.array(['Negative', 'Positive'])\n",
        "title = 'Confusion Matrix'\n",
        "disp = plot_confusion_matrix(svc_class, X_test_nt, y_test,\n",
        "                             display_labels=class_names,\n",
        "                             cmap=plt.cm.Blues,\n",
        "                             values_format='d')\n",
        "disp.ax_.set_title(title)\n",
        "plt.show()"
      ],
      "execution_count": 31,
      "outputs": [
        {
          "output_type": "display_data",
          "data": {
            "image/png": "[encoded data removed]",
            "text/plain": [
              "<Figure size 432x288 with 2 Axes>"
            ]
          },
          "metadata": {
            "tags": [],
            "needs_background": "light"
          }
        }
      ]
    },
    {
      "cell_type": "code",
      "metadata": {
        "id": "-lf7GA3nu0jY",
        "colab_type": "code",
        "colab": {
          "base_uri": "https://localhost:8080/",
          "height": 35
        },
        "outputId": "378a7b6e-09d5-4b25-921a-09274f0a6785"
      },
      "source": [
        "# ROC AUC\n",
        "roc_auc_svc = roc_auc_score(y_test, y_pred_svc)\n",
        "roc_auc.append(round(roc_auc_svc, 2))\n",
        "print('ROC-AUC: %.2f' % round(roc_auc_svc, 2))"
      ],
      "execution_count": 32,
      "outputs": [
        {
          "output_type": "stream",
          "text": [
            "ROC-AUC: 0.77\n"
          ],
          "name": "stdout"
        }
      ]
    },
    {
      "cell_type": "code",
      "metadata": {
        "id": "bCJjXSvLmnsV",
        "colab_type": "code",
        "colab": {
          "base_uri": "https://localhost:8080/",
          "height": 35
        },
        "outputId": "94612bfc-50dd-4897-c70c-b33693e1cf55"
      },
      "source": [
        "test_acc.append(round((accuracy_score(y_test, y_pred_svc)*100),2))\n",
        "print('The accuracy score is {}%'.format(round((accuracy_score(y_test, y_pred_svc)*100),2)))"
      ],
      "execution_count": 33,
      "outputs": [
        {
          "output_type": "stream",
          "text": [
            "The accuracy score is 77.65%\n"
          ],
          "name": "stdout"
        }
      ]
    },
    {
      "cell_type": "markdown",
      "metadata": {
        "id": "LyDMAEwICiyT",
        "colab_type": "text"
      },
      "source": [
        "The SVM model accuracy is good"
      ]
    },
    {
      "cell_type": "markdown",
      "metadata": {
        "id": "x90cTV-5sW0k",
        "colab_type": "text"
      },
      "source": [
        "## *Kernel SVM*\n",
        "- Support Vector Machine with a kernel to separate each data point by projecting it into a higher dimension\n",
        "- Kernel computes dot product of two vectors x and y in a high dimensional feature space\n",
        "- Example - RBF kernel: *K(X$_{1}$,X$_{2}$) = exp(-$\\gamma$||X$_{1}$ - X$_{2}$||$^{2}$)*, where ||X$_{1}$ - X$_{2}$|| is the Eucleadian distance between X$_{1}$ and X$_{2}$."
      ]
    },
    {
      "cell_type": "markdown",
      "metadata": {
        "id": "8DCWmXloVeO_",
        "colab_type": "text"
      },
      "source": [
        "## Train the Kernel SVM model on the Training set"
      ]
    },
    {
      "cell_type": "code",
      "metadata": {
        "id": "xsmLtccZVlat",
        "colab_type": "code",
        "colab": {
          "base_uri": "https://localhost:8080/",
          "height": 90
        },
        "outputId": "f665c970-fbf7-4f53-b330-d86c34fe1845"
      },
      "source": [
        "from sklearn.svm import SVC\n",
        "ksvc_class = SVC(kernel = 'rbf', random_state = 42)\n",
        "ksvc_class.fit(X_train_nt, y_train)"
      ],
      "execution_count": 34,
      "outputs": [
        {
          "output_type": "execute_result",
          "data": {
            "text/plain": [
              "SVC(C=1.0, break_ties=False, cache_size=200, class_weight=None, coef0=0.0,\n",
              "    decision_function_shape='ovr', degree=3, gamma='scale', kernel='rbf',\n",
              "    max_iter=-1, probability=False, random_state=42, shrinking=True, tol=0.001,\n",
              "    verbose=False)"
            ]
          },
          "metadata": {
            "tags": []
          },
          "execution_count": 34
        }
      ]
    },
    {
      "cell_type": "markdown",
      "metadata": {
        "id": "EZJSd8BWV5Ot",
        "colab_type": "text"
      },
      "source": [
        "## Predict the Test set Result"
      ]
    },
    {
      "cell_type": "code",
      "metadata": {
        "id": "K2KoS0MOV6kd",
        "colab_type": "code",
        "colab": {}
      },
      "source": [
        "y_pred_ksvc = ksvc_class.predict(X_test_nt)"
      ],
      "execution_count": 35,
      "outputs": []
    },
    {
      "cell_type": "markdown",
      "metadata": {
        "id": "LuyY3nZPWCIe",
        "colab_type": "text"
      },
      "source": [
        "## Kernel SVM k-folds Cross Validation"
      ]
    },
    {
      "cell_type": "code",
      "metadata": {
        "id": "ve_Jw9MKWDIF",
        "colab_type": "code",
        "colab": {
          "base_uri": "https://localhost:8080/",
          "height": 54
        },
        "outputId": "86cc7e86-22ca-4ff3-b0bb-053b91a709f8"
      },
      "source": [
        "from sklearn.model_selection import cross_val_score\n",
        "ksvc_acc = cross_val_score(estimator = ksvc_class, X = X_nt_sc, y = y, cv = 10)\n",
        "print('Accuracy Mean:', ksvc_acc.mean(), '\\nAccuracy SD:', ksvc_acc.std())\n",
        "\n",
        "cvacc.append(round(ksvc_acc.mean(), 4))\n",
        "cvacc_std.append(round(ksvc_acc.std(), 4))"
      ],
      "execution_count": 36,
      "outputs": [
        {
          "output_type": "stream",
          "text": [
            "Accuracy Mean: 0.7775003670378993 \n",
            "Accuracy SD: 0.013865426983749625\n"
          ],
          "name": "stdout"
        }
      ]
    },
    {
      "cell_type": "markdown",
      "metadata": {
        "id": "arZ4bRubWTwG",
        "colab_type": "text"
      },
      "source": [
        "## Make the Kernel SVM Confusion Matrix"
      ]
    },
    {
      "cell_type": "code",
      "metadata": {
        "id": "BYCZBsWSWV9N",
        "colab_type": "code",
        "colab": {
          "base_uri": "https://localhost:8080/",
          "height": 295
        },
        "outputId": "e2275597-5c80-4700-c264-705179cd8235"
      },
      "source": [
        "from sklearn.metrics import accuracy_score, plot_confusion_matrix\n",
        "class_names = np.array(['Negative', 'Positive'])\n",
        "title = 'Confusion Matrix'\n",
        "disp = plot_confusion_matrix(ksvc_class, X_test_nt, y_test,\n",
        "                             display_labels=class_names,\n",
        "                             cmap=plt.cm.Blues,\n",
        "                             values_format='d')\n",
        "disp.ax_.set_title(title)\n",
        "plt.show()"
      ],
      "execution_count": 37,
      "outputs": [
        {
          "output_type": "display_data",
          "data": {
            "image/png": "[encoded data removed]",
            "text/plain": [
              "<Figure size 432x288 with 2 Axes>"
            ]
          },
          "metadata": {
            "tags": [],
            "needs_background": "light"
          }
        }
      ]
    },
    {
      "cell_type": "code",
      "metadata": {
        "id": "6X3Ol7Rcu_Ig",
        "colab_type": "code",
        "colab": {
          "base_uri": "https://localhost:8080/",
          "height": 35
        },
        "outputId": "6be11912-fe8d-412e-b47e-8b9b8a33a415"
      },
      "source": [
        "# ROC AUC\n",
        "roc_auc_ksvc = roc_auc_score(y_test, y_pred_ksvc)\n",
        "roc_auc.append(round(roc_auc_ksvc, 2))\n",
        "print('ROC-AUC: %.2f' % round(roc_auc_ksvc, 2))"
      ],
      "execution_count": 38,
      "outputs": [
        {
          "output_type": "stream",
          "text": [
            "ROC-AUC: 0.78\n"
          ],
          "name": "stdout"
        }
      ]
    },
    {
      "cell_type": "code",
      "metadata": {
        "id": "f0W8HAOpmv9u",
        "colab_type": "code",
        "colab": {
          "base_uri": "https://localhost:8080/",
          "height": 35
        },
        "outputId": "8ca4236e-164c-43f0-db3d-eda5f9fbea90"
      },
      "source": [
        "test_acc.append(round((accuracy_score(y_test, y_pred_ksvc)*100),2))\n",
        "print('The accuracy score is {}%'.format(round((accuracy_score(y_test, y_pred_ksvc)*100),2)))"
      ],
      "execution_count": 39,
      "outputs": [
        {
          "output_type": "stream",
          "text": [
            "The accuracy score is 78.0%\n"
          ],
          "name": "stdout"
        }
      ]
    },
    {
      "cell_type": "markdown",
      "metadata": {
        "id": "mcgmFkCZCvwl",
        "colab_type": "text"
      },
      "source": [
        "The Kernel-SVM model accuracy is good"
      ]
    },
    {
      "cell_type": "markdown",
      "metadata": {
        "id": "wBb0aII3sdlm",
        "colab_type": "text"
      },
      "source": [
        "## *Naive-Bayes*\n",
        "- Based on Bayes Theorem: $$ P(A|B) = \\frac{P(B|A)P(A)}{P(B)} $$ where P(A|B) is the probability of **A** happening, given that **B** has occurred. **A** is the hypothesis and **B** is the evidence.\n",
        "\n",
        "- *Naive:* Features are independent of each other\n",
        "- *Gaussian NB classifier:* Continuous values of features are assumed to have a Normal distribution"
      ]
    },
    {
      "cell_type": "markdown",
      "metadata": {
        "id": "LAlMdoiYi5zv",
        "colab_type": "text"
      },
      "source": [
        "## Train the Naive-Bayes model on the Training set"
      ]
    },
    {
      "cell_type": "code",
      "metadata": {
        "id": "SSgtVDQ9i871",
        "colab_type": "code",
        "colab": {
          "base_uri": "https://localhost:8080/",
          "height": 35
        },
        "outputId": "3057479b-979f-44f9-dbac-4ee896622104"
      },
      "source": [
        "from sklearn.naive_bayes import GaussianNB\n",
        "nb_class = GaussianNB()\n",
        "nb_class.fit(X_train, y_train)"
      ],
      "execution_count": 40,
      "outputs": [
        {
          "output_type": "execute_result",
          "data": {
            "text/plain": [
              "GaussianNB(priors=None, var_smoothing=1e-09)"
            ]
          },
          "metadata": {
            "tags": []
          },
          "execution_count": 40
        }
      ]
    },
    {
      "cell_type": "markdown",
      "metadata": {
        "id": "wt8EQaejjMLF",
        "colab_type": "text"
      },
      "source": [
        "## Predict the Test set Result"
      ]
    },
    {
      "cell_type": "code",
      "metadata": {
        "id": "1l_Wgn5JjLeG",
        "colab_type": "code",
        "colab": {}
      },
      "source": [
        "y_pred_nb = nb_class.predict(X_test)"
      ],
      "execution_count": 41,
      "outputs": []
    },
    {
      "cell_type": "markdown",
      "metadata": {
        "id": "rXj9CVjhjX7m",
        "colab_type": "text"
      },
      "source": [
        "## Naive-Bayes k-folds Cross Validation"
      ]
    },
    {
      "cell_type": "code",
      "metadata": {
        "id": "1V-Ph0qsjfl_",
        "colab_type": "code",
        "colab": {
          "base_uri": "https://localhost:8080/",
          "height": 54
        },
        "outputId": "2b27796c-eb1c-4ff7-9386-eb15b9450fb8"
      },
      "source": [
        "from sklearn.model_selection import cross_val_score\n",
        "nb_acc = cross_val_score(estimator = nb_class, X = X, y = y, cv = 10)\n",
        "print('Accuracy Mean:', nb_acc.mean(), '\\nAccuracy SD:', nb_acc.std())\n",
        "\n",
        "cvacc.append(round(nb_acc.mean(), 4))\n",
        "cvacc_std.append(round(nb_acc.std(), 4))"
      ],
      "execution_count": 42,
      "outputs": [
        {
          "output_type": "stream",
          "text": [
            "Accuracy Mean: 0.641721093143732 \n",
            "Accuracy SD: 0.015414889717838793\n"
          ],
          "name": "stdout"
        }
      ]
    },
    {
      "cell_type": "markdown",
      "metadata": {
        "id": "9dZdjFTHj1ld",
        "colab_type": "text"
      },
      "source": [
        "## Make the Naive-Bayes Confusion Matrix"
      ]
    },
    {
      "cell_type": "code",
      "metadata": {
        "id": "aN-8LXEBj5vn",
        "colab_type": "code",
        "colab": {
          "base_uri": "https://localhost:8080/",
          "height": 295
        },
        "outputId": "6d53855f-e1c9-40b0-bcda-cf61c1368635"
      },
      "source": [
        "from sklearn.metrics import accuracy_score, plot_confusion_matrix\n",
        "class_names = np.array(['Negative', 'Positive'])\n",
        "title = 'Confusion Matrix'\n",
        "disp = plot_confusion_matrix(nb_class, X_test, y_test,\n",
        "                             display_labels=class_names,\n",
        "                             cmap=plt.cm.Blues,\n",
        "                             values_format='d')\n",
        "disp.ax_.set_title(title)\n",
        "plt.show()"
      ],
      "execution_count": 43,
      "outputs": [
        {
          "output_type": "display_data",
          "data": {
            "image/png": "[encoded data removed]",
            "text/plain": [
              "<Figure size 432x288 with 2 Axes>"
            ]
          },
          "metadata": {
            "tags": [],
            "needs_background": "light"
          }
        }
      ]
    },
    {
      "cell_type": "code",
      "metadata": {
        "id": "noeWcJg0vJKQ",
        "colab_type": "code",
        "colab": {
          "base_uri": "https://localhost:8080/",
          "height": 35
        },
        "outputId": "775e6044-58a9-4a95-989f-62c0bda28b14"
      },
      "source": [
        "# ROC AUC\n",
        "roc_auc_nb = roc_auc_score(y_test, y_pred_nb)\n",
        "roc_auc.append(round(roc_auc_nb, 2))\n",
        "print('ROC-AUC: %.2f' % round(roc_auc_nb, 2))"
      ],
      "execution_count": 44,
      "outputs": [
        {
          "output_type": "stream",
          "text": [
            "ROC-AUC: 0.63\n"
          ],
          "name": "stdout"
        }
      ]
    },
    {
      "cell_type": "code",
      "metadata": {
        "id": "GUmjvzvxm4wG",
        "colab_type": "code",
        "colab": {
          "base_uri": "https://localhost:8080/",
          "height": 35
        },
        "outputId": "5e8df338-4fd4-4448-eac5-2974b12639cc"
      },
      "source": [
        "test_acc.append(round((accuracy_score(y_test, y_pred_nb)*100),2))\n",
        "print('The accuracy score is {}%'.format(round((accuracy_score(y_test, y_pred_nb)*100),2)))"
      ],
      "execution_count": 45,
      "outputs": [
        {
          "output_type": "stream",
          "text": [
            "The accuracy score is 63.98%\n"
          ],
          "name": "stdout"
        }
      ]
    },
    {
      "cell_type": "markdown",
      "metadata": {
        "id": "AaB_9x7vATzO",
        "colab_type": "text"
      },
      "source": [
        "## *Multilayer Perceptron*\n",
        "- Consists of linear layers (combination of neurons)\n",
        "- *Makeup:* input layer - one or more hidden layers - output layer\n",
        "- Fully connected layers - units in a layer are connected to all units in previous layer\n",
        "- Units are independent of each other and have unique set of weights\n",
        "- Loss function is calculated and backpropagated to adjust weights\n",
        "- Goal is to minimize loss and stop when optimal minimization reached to avoid overfitting"
      ]
    },
    {
      "cell_type": "code",
      "metadata": {
        "id": "vtunlUO6XgjX",
        "colab_type": "code",
        "colab": {}
      },
      "source": [
        "from sklearn.model_selection import train_test_split\n",
        "\n",
        "# Split the Training and Test sets\n",
        "X_train_mlp, X_test_mlp, y_train, y_test = train_test_split(X_nt, y, test_size = 0.2, random_state = 42)\n",
        "\n",
        "# Feature scaling\n",
        "from sklearn.preprocessing import StandardScaler\n",
        "sc = StandardScaler()\n",
        "X_train_mlp = sc.fit_transform(X_train_mlp)\n",
        "X_test_mlp = sc.transform(X_test_mlp)\n",
        "\n",
        "# Split the Training set to 70% Training and 30% Validation holdout\n",
        "X_train_mlp_70, X_train_mlp_30, y_train_70, y_train_30 = train_test_split(X_train_mlp, y_train, test_size = 0.3, random_state = 42)"
      ],
      "execution_count": 46,
      "outputs": []
    },
    {
      "cell_type": "markdown",
      "metadata": {
        "id": "6q0bGJXhBk6a",
        "colab_type": "text"
      },
      "source": [
        "## Build the Multilayer Perceptron"
      ]
    },
    {
      "cell_type": "code",
      "metadata": {
        "id": "Sm7APr1NAcXT",
        "colab_type": "code",
        "colab": {}
      },
      "source": [
        "import tensorflow as tf\n",
        "# Initialize the MLP\n",
        "mlp = tf.keras.models.Sequential()\n",
        "\n",
        "# Add the input layer and the first hidden layer\n",
        "mlp.add(tf.keras.layers.Dense(units=6, activation='relu'))\n",
        "\n",
        "# Add the second hidden layer\n",
        "mlp.add(tf.keras.layers.Dense(units=6, activation='relu'))\n",
        "\n",
        "# Add the output layer\n",
        "mlp.add(tf.keras.layers.Dense(units=1, activation='sigmoid'))"
      ],
      "execution_count": 47,
      "outputs": []
    },
    {
      "cell_type": "markdown",
      "metadata": {
        "id": "VRssN3aIYSMs",
        "colab_type": "text"
      },
      "source": [
        "## Train the Multilayer Perceptron"
      ]
    },
    {
      "cell_type": "code",
      "metadata": {
        "id": "S8nGM70hYVch",
        "colab_type": "code",
        "colab": {
          "base_uri": "https://localhost:8080/",
          "height": 1000
        },
        "outputId": "7de62de1-b085-4fec-a389-5d10de58b06d"
      },
      "source": [
        "from tensorflow.keras.callbacks import EarlyStopping, ModelCheckpoint\n",
        "from tensorflow.keras.models import load_model\n",
        "\n",
        "# Compile the MLP\n",
        "mlp.compile(optimizer = 'adam', loss = 'binary_crossentropy', metrics = ['accuracy'])\n",
        "\n",
        "# Simple early stopping to prevent overfitting - go another 200 epochs to check for additional improvement\n",
        "es = EarlyStopping(monitor='val_loss', mode='min', verbose=1, patience=200)\n",
        "# Save best model accuracy\n",
        "mc = ModelCheckpoint('best_model.h5', monitor='val_accuracy', mode='max', verbose=1, save_best_only=True)\n",
        "\n",
        "# Train the MLP on the Training set\n",
        "history = mlp.fit(X_train_mlp_70, y_train_70, validation_data=(X_train_mlp_30, y_train_30), epochs=4000, verbose=0, callbacks=[es, mc])\n",
        "\n",
        "# Load the saved model\n",
        "saved_model = load_model('best_model.h5')\n",
        "\n",
        "# Evaluate the model\n",
        "_, acc_train = saved_model.evaluate(X_train_mlp_70, y_train_70, verbose=0)\n",
        "_, acc_test = saved_model.evaluate(X_test_mlp, y_test, verbose=0)\n",
        "\n",
        "cvacc.append(round(acc_train, 4))\n",
        "cvacc_std.append(None)\n",
        "print('Train: %.3f, Test: %.3f' % (acc_train, acc_test))"
      ],
      "execution_count": 48,
      "outputs": [
        {
          "output_type": "stream",
          "text": [
            "\n",
            "Epoch 00001: val_accuracy improved from -inf to 0.60072, saving model to best_model.h5\n",
            "\n",
            "Epoch 00002: val_accuracy improved from 0.60072 to 0.64837, saving model to best_model.h5\n",
            "\n",
            "Epoch 00003: val_accuracy improved from 0.64837 to 0.69481, saving model to best_model.h5\n",
            "\n",
            "Epoch 00004: val_accuracy improved from 0.69481 to 0.72075, saving model to best_model.h5\n",
            "\n",
            "Epoch 00005: val_accuracy improved from 0.72075 to 0.73221, saving model to best_model.h5\n",
            "\n",
            "Epoch 00006: val_accuracy improved from 0.73221 to 0.74246, saving model to best_model.h5\n",
            "\n",
            "Epoch 00007: val_accuracy improved from 0.74246 to 0.74729, saving model to best_model.h5\n",
            "\n",
            "Epoch 00008: val_accuracy improved from 0.74729 to 0.75332, saving model to best_model.h5\n",
            "\n",
            "Epoch 00009: val_accuracy improved from 0.75332 to 0.75513, saving model to best_model.h5\n",
            "\n",
            "Epoch 00010: val_accuracy improved from 0.75513 to 0.76297, saving model to best_model.h5\n",
            "\n",
            "Epoch 00011: val_accuracy improved from 0.76297 to 0.76659, saving model to best_model.h5\n",
            "\n",
            "Epoch 00012: val_accuracy improved from 0.76659 to 0.76719, saving model to best_model.h5\n",
            "\n",
            "Epoch 00013: val_accuracy improved from 0.76719 to 0.76779, saving model to best_model.h5\n",
            "\n",
            "Epoch 00014: val_accuracy improved from 0.76779 to 0.76840, saving model to best_model.h5\n",
            "\n",
            "Epoch 00015: val_accuracy did not improve from 0.76840\n",
            "\n",
            "Epoch 00016: val_accuracy improved from 0.76840 to 0.77081, saving model to best_model.h5\n",
            "\n",
            "Epoch 00017: val_accuracy did not improve from 0.77081\n",
            "\n",
            "Epoch 00018: val_accuracy improved from 0.77081 to 0.77141, saving model to best_model.h5\n",
            "\n",
            "Epoch 00019: val_accuracy improved from 0.77141 to 0.77382, saving model to best_model.h5\n",
            "\n",
            "Epoch 00020: val_accuracy improved from 0.77382 to 0.77624, saving model to best_model.h5\n",
            "\n",
            "Epoch 00021: val_accuracy did not improve from 0.77624\n",
            "\n",
            "Epoch 00022: val_accuracy did not improve from 0.77624\n",
            "\n",
            "Epoch 00023: val_accuracy did not improve from 0.77624\n",
            "\n",
            "Epoch 00024: val_accuracy did not improve from 0.77624\n",
            "\n",
            "Epoch 00025: val_accuracy did not improve from 0.77624\n",
            "\n",
            "Epoch 00026: val_accuracy did not improve from 0.77624\n",
            "\n",
            "Epoch 00027: val_accuracy did not improve from 0.77624\n",
            "\n",
            "Epoch 00028: val_accuracy did not improve from 0.77624\n",
            "\n",
            "Epoch 00029: val_accuracy did not improve from 0.77624\n",
            "\n",
            "Epoch 00030: val_accuracy did not improve from 0.77624\n",
            "\n",
            "Epoch 00031: val_accuracy did not improve from 0.77624\n",
            "\n",
            "Epoch 00032: val_accuracy did not improve from 0.77624\n",
            "\n",
            "Epoch 00033: val_accuracy did not improve from 0.77624\n",
            "\n",
            "Epoch 00034: val_accuracy improved from 0.77624 to 0.77684, saving model to best_model.h5\n",
            "\n",
            "Epoch 00035: val_accuracy did not improve from 0.77684\n",
            "\n",
            "Epoch 00036: val_accuracy did not improve from 0.77684\n",
            "\n",
            "Epoch 00037: val_accuracy did not improve from 0.77684\n",
            "\n",
            "Epoch 00038: val_accuracy did not improve from 0.77684\n",
            "\n",
            "Epoch 00039: val_accuracy did not improve from 0.77684\n",
            "\n",
            "Epoch 00040: val_accuracy did not improve from 0.77684\n",
            "\n",
            "Epoch 00041: val_accuracy did not improve from 0.77684\n",
            "\n",
            "Epoch 00042: val_accuracy did not improve from 0.77684\n",
            "\n",
            "Epoch 00043: val_accuracy did not improve from 0.77684\n",
            "\n",
            "Epoch 00044: val_accuracy did not improve from 0.77684\n",
            "\n",
            "Epoch 00045: val_accuracy did not improve from 0.77684\n",
            "\n",
            "Epoch 00046: val_accuracy did not improve from 0.77684\n",
            "\n",
            "Epoch 00047: val_accuracy did not improve from 0.77684\n",
            "\n",
            "Epoch 00048: val_accuracy did not improve from 0.77684\n",
            "\n",
            "Epoch 00049: val_accuracy did not improve from 0.77684\n",
            "\n",
            "Epoch 00050: val_accuracy did not improve from 0.77684\n",
            "\n",
            "Epoch 00051: val_accuracy did not improve from 0.77684\n",
            "\n",
            "Epoch 00052: val_accuracy did not improve from 0.77684\n",
            "\n",
            "Epoch 00053: val_accuracy did not improve from 0.77684\n",
            "\n",
            "Epoch 00054: val_accuracy did not improve from 0.77684\n",
            "\n",
            "Epoch 00055: val_accuracy did not improve from 0.77684\n",
            "\n",
            "Epoch 00056: val_accuracy did not improve from 0.77684\n",
            "\n",
            "Epoch 00057: val_accuracy did not improve from 0.77684\n",
            "\n",
            "Epoch 00058: val_accuracy did not improve from 0.77684\n",
            "\n",
            "Epoch 00059: val_accuracy did not improve from 0.77684\n",
            "\n",
            "Epoch 00060: val_accuracy did not improve from 0.77684\n",
            "\n",
            "Epoch 00061: val_accuracy did not improve from 0.77684\n",
            "\n",
            "Epoch 00062: val_accuracy did not improve from 0.77684\n",
            "\n",
            "Epoch 00063: val_accuracy did not improve from 0.77684\n",
            "\n",
            "Epoch 00064: val_accuracy did not improve from 0.77684\n",
            "\n",
            "Epoch 00065: val_accuracy did not improve from 0.77684\n",
            "\n",
            "Epoch 00066: val_accuracy did not improve from 0.77684\n",
            "\n",
            "Epoch 00067: val_accuracy did not improve from 0.77684\n",
            "\n",
            "Epoch 00068: val_accuracy did not improve from 0.77684\n",
            "\n",
            "Epoch 00069: val_accuracy did not improve from 0.77684\n",
            "\n",
            "Epoch 00070: val_accuracy did not improve from 0.77684\n",
            "\n",
            "Epoch 00071: val_accuracy did not improve from 0.77684\n",
            "\n",
            "Epoch 00072: val_accuracy did not improve from 0.77684\n",
            "\n",
            "Epoch 00073: val_accuracy did not improve from 0.77684\n",
            "\n",
            "Epoch 00074: val_accuracy did not improve from 0.77684\n",
            "\n",
            "Epoch 00075: val_accuracy did not improve from 0.77684\n",
            "\n",
            "Epoch 00076: val_accuracy did not improve from 0.77684\n",
            "\n",
            "Epoch 00077: val_accuracy did not improve from 0.77684\n",
            "\n",
            "Epoch 00078: val_accuracy did not improve from 0.77684\n",
            "\n",
            "Epoch 00079: val_accuracy did not improve from 0.77684\n",
            "\n",
            "Epoch 00080: val_accuracy did not improve from 0.77684\n",
            "\n",
            "Epoch 00081: val_accuracy did not improve from 0.77684\n",
            "\n",
            "Epoch 00082: val_accuracy did not improve from 0.77684\n",
            "\n",
            "Epoch 00083: val_accuracy did not improve from 0.77684\n",
            "\n",
            "Epoch 00084: val_accuracy did not improve from 0.77684\n",
            "\n",
            "Epoch 00085: val_accuracy did not improve from 0.77684\n",
            "\n",
            "Epoch 00086: val_accuracy did not improve from 0.77684\n",
            "\n",
            "Epoch 00087: val_accuracy did not improve from 0.77684\n",
            "\n",
            "Epoch 00088: val_accuracy did not improve from 0.77684\n",
            "\n",
            "Epoch 00089: val_accuracy did not improve from 0.77684\n",
            "\n",
            "Epoch 00090: val_accuracy did not improve from 0.77684\n",
            "\n",
            "Epoch 00091: val_accuracy did not improve from 0.77684\n",
            "\n",
            "Epoch 00092: val_accuracy did not improve from 0.77684\n",
            "\n",
            "Epoch 00093: val_accuracy did not improve from 0.77684\n",
            "\n",
            "Epoch 00094: val_accuracy did not improve from 0.77684\n",
            "\n",
            "Epoch 00095: val_accuracy did not improve from 0.77684\n",
            "\n",
            "Epoch 00096: val_accuracy did not improve from 0.77684\n",
            "\n",
            "Epoch 00097: val_accuracy did not improve from 0.77684\n",
            "\n",
            "Epoch 00098: val_accuracy did not improve from 0.77684\n",
            "\n",
            "Epoch 00099: val_accuracy did not improve from 0.77684\n",
            "\n",
            "Epoch 00100: val_accuracy did not improve from 0.77684\n",
            "\n",
            "Epoch 00101: val_accuracy did not improve from 0.77684\n",
            "\n",
            "Epoch 00102: val_accuracy did not improve from 0.77684\n",
            "\n",
            "Epoch 00103: val_accuracy did not improve from 0.77684\n",
            "\n",
            "Epoch 00104: val_accuracy did not improve from 0.77684\n",
            "\n",
            "Epoch 00105: val_accuracy did not improve from 0.77684\n",
            "\n",
            "Epoch 00106: val_accuracy did not improve from 0.77684\n",
            "\n",
            "Epoch 00107: val_accuracy did not improve from 0.77684\n",
            "\n",
            "Epoch 00108: val_accuracy did not improve from 0.77684\n",
            "\n",
            "Epoch 00109: val_accuracy did not improve from 0.77684\n",
            "\n",
            "Epoch 00110: val_accuracy did not improve from 0.77684\n",
            "\n",
            "Epoch 00111: val_accuracy did not improve from 0.77684\n",
            "\n",
            "Epoch 00112: val_accuracy did not improve from 0.77684\n",
            "\n",
            "Epoch 00113: val_accuracy did not improve from 0.77684\n",
            "\n",
            "Epoch 00114: val_accuracy did not improve from 0.77684\n",
            "\n",
            "Epoch 00115: val_accuracy did not improve from 0.77684\n",
            "\n",
            "Epoch 00116: val_accuracy did not improve from 0.77684\n",
            "\n",
            "Epoch 00117: val_accuracy did not improve from 0.77684\n",
            "\n",
            "Epoch 00118: val_accuracy did not improve from 0.77684\n",
            "\n",
            "Epoch 00119: val_accuracy did not improve from 0.77684\n",
            "\n",
            "Epoch 00120: val_accuracy did not improve from 0.77684\n",
            "\n",
            "Epoch 00121: val_accuracy did not improve from 0.77684\n",
            "\n",
            "Epoch 00122: val_accuracy did not improve from 0.77684\n",
            "\n",
            "Epoch 00123: val_accuracy did not improve from 0.77684\n",
            "\n",
            "Epoch 00124: val_accuracy did not improve from 0.77684\n",
            "\n",
            "Epoch 00125: val_accuracy did not improve from 0.77684\n",
            "\n",
            "Epoch 00126: val_accuracy did not improve from 0.77684\n",
            "\n",
            "Epoch 00127: val_accuracy did not improve from 0.77684\n",
            "\n",
            "Epoch 00128: val_accuracy did not improve from 0.77684\n",
            "\n",
            "Epoch 00129: val_accuracy did not improve from 0.77684\n",
            "\n",
            "Epoch 00130: val_accuracy did not improve from 0.77684\n",
            "\n",
            "Epoch 00131: val_accuracy did not improve from 0.77684\n",
            "\n",
            "Epoch 00132: val_accuracy did not improve from 0.77684\n",
            "\n",
            "Epoch 00133: val_accuracy did not improve from 0.77684\n",
            "\n",
            "Epoch 00134: val_accuracy did not improve from 0.77684\n",
            "\n",
            "Epoch 00135: val_accuracy did not improve from 0.77684\n",
            "\n",
            "Epoch 00136: val_accuracy did not improve from 0.77684\n",
            "\n",
            "Epoch 00137: val_accuracy did not improve from 0.77684\n",
            "\n",
            "Epoch 00138: val_accuracy did not improve from 0.77684\n",
            "\n",
            "Epoch 00139: val_accuracy did not improve from 0.77684\n",
            "\n",
            "Epoch 00140: val_accuracy did not improve from 0.77684\n",
            "\n",
            "Epoch 00141: val_accuracy did not improve from 0.77684\n",
            "\n",
            "Epoch 00142: val_accuracy did not improve from 0.77684\n",
            "\n",
            "Epoch 00143: val_accuracy did not improve from 0.77684\n",
            "\n",
            "Epoch 00144: val_accuracy did not improve from 0.77684\n",
            "\n",
            "Epoch 00145: val_accuracy did not improve from 0.77684\n",
            "\n",
            "Epoch 00146: val_accuracy did not improve from 0.77684\n",
            "\n",
            "Epoch 00147: val_accuracy did not improve from 0.77684\n",
            "\n",
            "Epoch 00148: val_accuracy did not improve from 0.77684\n",
            "\n",
            "Epoch 00149: val_accuracy did not improve from 0.77684\n",
            "\n",
            "Epoch 00150: val_accuracy did not improve from 0.77684\n",
            "\n",
            "Epoch 00151: val_accuracy did not improve from 0.77684\n",
            "\n",
            "Epoch 00152: val_accuracy did not improve from 0.77684\n",
            "\n",
            "Epoch 00153: val_accuracy did not improve from 0.77684\n",
            "\n",
            "Epoch 00154: val_accuracy did not improve from 0.77684\n",
            "\n",
            "Epoch 00155: val_accuracy did not improve from 0.77684\n",
            "\n",
            "Epoch 00156: val_accuracy did not improve from 0.77684\n",
            "\n",
            "Epoch 00157: val_accuracy did not improve from 0.77684\n",
            "\n",
            "Epoch 00158: val_accuracy did not improve from 0.77684\n",
            "\n",
            "Epoch 00159: val_accuracy did not improve from 0.77684\n",
            "\n",
            "Epoch 00160: val_accuracy did not improve from 0.77684\n",
            "\n",
            "Epoch 00161: val_accuracy did not improve from 0.77684\n",
            "\n",
            "Epoch 00162: val_accuracy did not improve from 0.77684\n",
            "\n",
            "Epoch 00163: val_accuracy did not improve from 0.77684\n",
            "\n",
            "Epoch 00164: val_accuracy did not improve from 0.77684\n",
            "\n",
            "Epoch 00165: val_accuracy did not improve from 0.77684\n",
            "\n",
            "Epoch 00166: val_accuracy did not improve from 0.77684\n",
            "\n",
            "Epoch 00167: val_accuracy did not improve from 0.77684\n",
            "\n",
            "Epoch 00168: val_accuracy did not improve from 0.77684\n",
            "\n",
            "Epoch 00169: val_accuracy did not improve from 0.77684\n",
            "\n",
            "Epoch 00170: val_accuracy did not improve from 0.77684\n",
            "\n",
            "Epoch 00171: val_accuracy did not improve from 0.77684\n",
            "\n",
            "Epoch 00172: val_accuracy did not improve from 0.77684\n",
            "\n",
            "Epoch 00173: val_accuracy did not improve from 0.77684\n",
            "\n",
            "Epoch 00174: val_accuracy did not improve from 0.77684\n",
            "\n",
            "Epoch 00175: val_accuracy did not improve from 0.77684\n",
            "\n",
            "Epoch 00176: val_accuracy did not improve from 0.77684\n",
            "\n",
            "Epoch 00177: val_accuracy did not improve from 0.77684\n",
            "\n",
            "Epoch 00178: val_accuracy did not improve from 0.77684\n",
            "\n",
            "Epoch 00179: val_accuracy did not improve from 0.77684\n",
            "\n",
            "Epoch 00180: val_accuracy did not improve from 0.77684\n",
            "\n",
            "Epoch 00181: val_accuracy did not improve from 0.77684\n",
            "\n",
            "Epoch 00182: val_accuracy did not improve from 0.77684\n",
            "\n",
            "Epoch 00183: val_accuracy did not improve from 0.77684\n",
            "\n",
            "Epoch 00184: val_accuracy did not improve from 0.77684\n",
            "\n",
            "Epoch 00185: val_accuracy did not improve from 0.77684\n",
            "\n",
            "Epoch 00186: val_accuracy did not improve from 0.77684\n",
            "\n",
            "Epoch 00187: val_accuracy did not improve from 0.77684\n",
            "\n",
            "Epoch 00188: val_accuracy did not improve from 0.77684\n",
            "\n",
            "Epoch 00189: val_accuracy did not improve from 0.77684\n",
            "\n",
            "Epoch 00190: val_accuracy did not improve from 0.77684\n",
            "\n",
            "Epoch 00191: val_accuracy did not improve from 0.77684\n",
            "\n",
            "Epoch 00192: val_accuracy did not improve from 0.77684\n",
            "\n",
            "Epoch 00193: val_accuracy did not improve from 0.77684\n",
            "\n",
            "Epoch 00194: val_accuracy did not improve from 0.77684\n",
            "\n",
            "Epoch 00195: val_accuracy did not improve from 0.77684\n",
            "\n",
            "Epoch 00196: val_accuracy did not improve from 0.77684\n",
            "\n",
            "Epoch 00197: val_accuracy did not improve from 0.77684\n",
            "\n",
            "Epoch 00198: val_accuracy did not improve from 0.77684\n",
            "\n",
            "Epoch 00199: val_accuracy did not improve from 0.77684\n",
            "\n",
            "Epoch 00200: val_accuracy did not improve from 0.77684\n",
            "\n",
            "Epoch 00201: val_accuracy did not improve from 0.77684\n",
            "\n",
            "Epoch 00202: val_accuracy did not improve from 0.77684\n",
            "\n",
            "Epoch 00203: val_accuracy did not improve from 0.77684\n",
            "\n",
            "Epoch 00204: val_accuracy did not improve from 0.77684\n",
            "\n",
            "Epoch 00205: val_accuracy did not improve from 0.77684\n",
            "\n",
            "Epoch 00206: val_accuracy did not improve from 0.77684\n",
            "\n",
            "Epoch 00207: val_accuracy did not improve from 0.77684\n",
            "\n",
            "Epoch 00208: val_accuracy did not improve from 0.77684\n",
            "\n",
            "Epoch 00209: val_accuracy did not improve from 0.77684\n",
            "\n",
            "Epoch 00210: val_accuracy did not improve from 0.77684\n",
            "\n",
            "Epoch 00211: val_accuracy did not improve from 0.77684\n",
            "\n",
            "Epoch 00212: val_accuracy did not improve from 0.77684\n",
            "\n",
            "Epoch 00213: val_accuracy did not improve from 0.77684\n",
            "\n",
            "Epoch 00214: val_accuracy did not improve from 0.77684\n",
            "\n",
            "Epoch 00215: val_accuracy did not improve from 0.77684\n",
            "\n",
            "Epoch 00216: val_accuracy did not improve from 0.77684\n",
            "\n",
            "Epoch 00217: val_accuracy did not improve from 0.77684\n",
            "\n",
            "Epoch 00218: val_accuracy did not improve from 0.77684\n",
            "\n",
            "Epoch 00219: val_accuracy did not improve from 0.77684\n",
            "\n",
            "Epoch 00220: val_accuracy did not improve from 0.77684\n",
            "\n",
            "Epoch 00221: val_accuracy did not improve from 0.77684\n",
            "\n",
            "Epoch 00222: val_accuracy did not improve from 0.77684\n",
            "\n",
            "Epoch 00223: val_accuracy did not improve from 0.77684\n",
            "\n",
            "Epoch 00224: val_accuracy did not improve from 0.77684\n",
            "\n",
            "Epoch 00225: val_accuracy did not improve from 0.77684\n",
            "\n",
            "Epoch 00226: val_accuracy did not improve from 0.77684\n",
            "Epoch 00226: early stopping\n",
            "Train: 0.792, Test: 0.772\n"
          ],
          "name": "stdout"
        }
      ]
    },
    {
      "cell_type": "markdown",
      "metadata": {
        "id": "96syL6H7YfGV",
        "colab_type": "text"
      },
      "source": [
        "## Predict the Test set result"
      ]
    },
    {
      "cell_type": "code",
      "metadata": {
        "id": "cnVbRRf6Yhet",
        "colab_type": "code",
        "colab": {}
      },
      "source": [
        "y_pred_mlp = saved_model.predict(X_test_mlp)\n",
        "y_prcl_mlp = (y_pred_mlp > 0.5).astype('int32')\n",
        "\n",
        "# reduce to 1d array\n",
        "y_mlp_probs = y_pred_mlp[:, 0]\n",
        "y_mlp_class = y_prcl_mlp[:, 0]"
      ],
      "execution_count": 49,
      "outputs": []
    },
    {
      "cell_type": "markdown",
      "metadata": {
        "id": "TVlm6rV1vvn4",
        "colab_type": "text"
      },
      "source": [
        "## Calculate Precision, Recall, F1-score, ROC-AUC"
      ]
    },
    {
      "cell_type": "code",
      "metadata": {
        "id": "iwbkC_ylvo9H",
        "colab_type": "code",
        "colab": {
          "base_uri": "https://localhost:8080/",
          "height": 35
        },
        "outputId": "cf9adcc0-b9d2-4a3e-cf0a-f12d485bfb95"
      },
      "source": [
        "from sklearn.metrics import precision_score, recall_score, f1_score\n",
        "\n",
        "# precision tp / (tp + fp)\n",
        "precision_mlp = round(precision_score(y_test, y_mlp_class), 2)\n",
        "\n",
        "# recall: tp / (tp + fn)\n",
        "recall_mlp = round(recall_score(y_test, y_mlp_class), 2)\n",
        "\n",
        "# f1: 2 tp / (2 tp + fp + fn)\n",
        "f1_mlp = round(f1_score(y_test, y_mlp_class), 2)\n",
        " \n",
        "# ROC AUC\n",
        "roc_auc_mlp = roc_auc_score(y_test, y_mlp_probs)\n",
        "roc_auc.append(round(roc_auc_mlp, 2))\n",
        "print('ROC-AUC: %.2f' % round(roc_auc_mlp, 2))"
      ],
      "execution_count": 50,
      "outputs": [
        {
          "output_type": "stream",
          "text": [
            "ROC-AUC: 0.83\n"
          ],
          "name": "stdout"
        }
      ]
    },
    {
      "cell_type": "markdown",
      "metadata": {
        "id": "vMQsFZR6YoYN",
        "colab_type": "text"
      },
      "source": [
        "## Make the Confusion Matrix"
      ]
    },
    {
      "cell_type": "code",
      "metadata": {
        "id": "tttY7cdhYqy_",
        "colab_type": "code",
        "colab": {
          "base_uri": "https://localhost:8080/",
          "height": 311
        },
        "outputId": "cd3c738b-f951-46b2-c002-67e70bcfc41a"
      },
      "source": [
        "# Customized confusion matrix function for neural network\n",
        "from sklearn.metrics import confusion_matrix, accuracy_score\n",
        "import itertools\n",
        "\n",
        "# Create a confusion matrix\n",
        "def nn_confusion_matrix(cm, classes,\n",
        "                          title='Confusion matrix',\n",
        "                          cmap=plt.cm.Blues):\n",
        "    \n",
        "    plt.imshow(cm, interpolation='nearest', cmap=cmap)\n",
        "    plt.title(title, fontsize=14)\n",
        "    plt.colorbar()\n",
        "    tick_marks = np.arange(len(classes))\n",
        "    plt.xticks(tick_marks, classes, rotation=45)\n",
        "    plt.yticks(tick_marks, classes)\n",
        "\n",
        "    fmt = 'd'\n",
        "    thresh = cm.max() / 2.\n",
        "    for i, j in itertools.product(range(cm.shape[0]), range(cm.shape[1])):\n",
        "        plt.text(j, i, format(cm[i, j], fmt),\n",
        "                 horizontalalignment=\"center\",\n",
        "                 color=\"white\" if cm[i, j] > thresh else \"black\")\n",
        "\n",
        "    plt.tight_layout()\n",
        "    plt.ylabel('True label')\n",
        "    plt.xlabel('Predicted label')\n",
        "\n",
        "labels = ['Negative', 'Positive']\n",
        "\n",
        "cnf_matrix = confusion_matrix(y_test, y_mlp_class)\n",
        "nn_confusion_matrix(cnf_matrix, labels, title=\"Confusion Matrix\")"
      ],
      "execution_count": 51,
      "outputs": [
        {
          "output_type": "display_data",
          "data": {
            "image/png": "[encoded data removed]",
            "text/plain": [
              "<Figure size 432x288 with 2 Axes>"
            ]
          },
          "metadata": {
            "tags": [],
            "needs_background": "light"
          }
        }
      ]
    },
    {
      "cell_type": "code",
      "metadata": {
        "id": "-y1s8FLyY0eH",
        "colab_type": "code",
        "colab": {
          "base_uri": "https://localhost:8080/",
          "height": 35
        },
        "outputId": "0cc0dfb9-0da9-49bf-93af-bf75e0e78beb"
      },
      "source": [
        "test_acc.append(round((accuracy_score(y_test, y_mlp_class)*100),2))\n",
        "print('The accuracy score is {}%'.format(round((accuracy_score(y_test, y_mlp_class)*100),2)))"
      ],
      "execution_count": 52,
      "outputs": [
        {
          "output_type": "stream",
          "text": [
            "The accuracy score is 77.21%\n"
          ],
          "name": "stdout"
        }
      ]
    },
    {
      "cell_type": "markdown",
      "metadata": {
        "id": "Q6h3TcfjmWCq",
        "colab_type": "text"
      },
      "source": [
        "## ***Tree-Based Algorithms***"
      ]
    },
    {
      "cell_type": "markdown",
      "metadata": {
        "id": "Y3bsqG55snTk",
        "colab_type": "text"
      },
      "source": [
        "## *Decision Tree Classification*\n",
        "- Consists of root node (has children), internal node (has both parent and children), leaf node (has parent)\n",
        "- Max_depth - *Number of levels:* the more levels, the more complex the model, which can result in overfitting the training data with high test error\n",
        "- Information gain measures node purity, or how clever a node can split items"
      ]
    },
    {
      "cell_type": "markdown",
      "metadata": {
        "id": "t-2Yndf-k9I2",
        "colab_type": "text"
      },
      "source": [
        "## Train the Decision Tree Classification model on the Training set"
      ]
    },
    {
      "cell_type": "code",
      "metadata": {
        "id": "45RT7Ih6k_kh",
        "colab_type": "code",
        "colab": {
          "base_uri": "https://localhost:8080/",
          "height": 127
        },
        "outputId": "398994e1-388c-4af4-d7f8-65bc852569f3"
      },
      "source": [
        "from sklearn.tree import DecisionTreeClassifier\n",
        "X_train, X_test, y_train, y_test = train_test_split(X, y, test_size = 0.25, random_state = 42)\n",
        "dt_class = DecisionTreeClassifier(criterion = 'entropy', random_state = 42)\n",
        "dt_class.fit(X_train, y_train)"
      ],
      "execution_count": 53,
      "outputs": [
        {
          "output_type": "execute_result",
          "data": {
            "text/plain": [
              "DecisionTreeClassifier(ccp_alpha=0.0, class_weight=None, criterion='entropy',\n",
              "                       max_depth=None, max_features=None, max_leaf_nodes=None,\n",
              "                       min_impurity_decrease=0.0, min_impurity_split=None,\n",
              "                       min_samples_leaf=1, min_samples_split=2,\n",
              "                       min_weight_fraction_leaf=0.0, presort='deprecated',\n",
              "                       random_state=42, splitter='best')"
            ]
          },
          "metadata": {
            "tags": []
          },
          "execution_count": 53
        }
      ]
    },
    {
      "cell_type": "markdown",
      "metadata": {
        "id": "Ca8ByIN7lNQi",
        "colab_type": "text"
      },
      "source": [
        "## Predict the Test set Result"
      ]
    },
    {
      "cell_type": "code",
      "metadata": {
        "id": "vY_UR4L5lOo6",
        "colab_type": "code",
        "colab": {}
      },
      "source": [
        "y_pred_dt = dt_class.predict(X_test)"
      ],
      "execution_count": 54,
      "outputs": []
    },
    {
      "cell_type": "markdown",
      "metadata": {
        "id": "25d3KDBHlawv",
        "colab_type": "text"
      },
      "source": [
        "## Decision Tree k-folds Cross Validation"
      ]
    },
    {
      "cell_type": "code",
      "metadata": {
        "id": "eyGgEI0ileih",
        "colab_type": "code",
        "colab": {
          "base_uri": "https://localhost:8080/",
          "height": 54
        },
        "outputId": "919386c3-fc54-4c09-be52-4cc4da058905"
      },
      "source": [
        "from sklearn.model_selection import cross_val_score\n",
        "dt_acc = cross_val_score(estimator = dt_class, X = X, y = y, cv = 10)\n",
        "print('Accuracy Mean:', dt_acc.mean(), '\\nAccuracy SD:', dt_acc.std())\n",
        "\n",
        "cvacc.append(round(dt_acc.mean(), 4))\n",
        "cvacc_std.append(round(dt_acc.std(), 4))"
      ],
      "execution_count": 55,
      "outputs": [
        {
          "output_type": "stream",
          "text": [
            "Accuracy Mean: 0.7245195998238217 \n",
            "Accuracy SD: 0.012268503336810262\n"
          ],
          "name": "stdout"
        }
      ]
    },
    {
      "cell_type": "markdown",
      "metadata": {
        "id": "3Tiv_L5zls19",
        "colab_type": "text"
      },
      "source": [
        "## Make the Decision Tree Confusion Matrix"
      ]
    },
    {
      "cell_type": "code",
      "metadata": {
        "id": "zhRrlmqDlvTG",
        "colab_type": "code",
        "colab": {
          "base_uri": "https://localhost:8080/",
          "height": 295
        },
        "outputId": "eb00eb5d-dde3-4815-9139-17cb82bbfcb7"
      },
      "source": [
        "from sklearn.metrics import accuracy_score, plot_confusion_matrix\n",
        "class_names = np.array(['Negative', 'Positive'])\n",
        "title = 'Confusion Matrix'\n",
        "disp = plot_confusion_matrix(dt_class, X_test, y_test,\n",
        "                             display_labels=class_names,\n",
        "                             cmap=plt.cm.Blues,\n",
        "                             values_format='d')\n",
        "disp.ax_.set_title(title)\n",
        "plt.show()"
      ],
      "execution_count": 56,
      "outputs": [
        {
          "output_type": "display_data",
          "data": {
            "image/png": "[encoded data removed]",
            "text/plain": [
              "<Figure size 432x288 with 2 Axes>"
            ]
          },
          "metadata": {
            "tags": [],
            "needs_background": "light"
          }
        }
      ]
    },
    {
      "cell_type": "code",
      "metadata": {
        "id": "IMM8ugULnAYm",
        "colab_type": "code",
        "colab": {
          "base_uri": "https://localhost:8080/",
          "height": 35
        },
        "outputId": "053a3010-3ccf-40c6-a130-56ecbf96ade5"
      },
      "source": [
        "test_acc.append(round((accuracy_score(y_test, y_pred_dt)*100),2))\n",
        "print('The accuracy score is {}%'.format(round((accuracy_score(y_test, y_pred_dt)*100),2)))"
      ],
      "execution_count": 57,
      "outputs": [
        {
          "output_type": "stream",
          "text": [
            "The accuracy score is 72.79%\n"
          ],
          "name": "stdout"
        }
      ]
    },
    {
      "cell_type": "markdown",
      "metadata": {
        "id": "26gzpzeI-YK5",
        "colab_type": "text"
      },
      "source": [
        "Let's go to the Random Forest and XGBoost models to see if we can get better accuracy."
      ]
    },
    {
      "cell_type": "markdown",
      "metadata": {
        "id": "bRZOXjBvREta",
        "colab_type": "text"
      },
      "source": [
        "## Decision Tree ROC Curve"
      ]
    },
    {
      "cell_type": "code",
      "metadata": {
        "id": "L3AFWkZoQoGT",
        "colab_type": "code",
        "colab": {
          "base_uri": "https://localhost:8080/",
          "height": 295
        },
        "outputId": "4b8f5251-692a-478e-9276-a750fb5ef597"
      },
      "source": [
        "import sklearn.metrics as metrics\n",
        "# calculate the fpr and tpr for all thresholds of the classification\n",
        "probs = dt_class.predict_proba(X_test)\n",
        "preds = probs[:,1]\n",
        "fpr, tpr, threshold = metrics.roc_curve(y_test, preds)\n",
        "roc_auc_dt = metrics.auc(fpr, tpr)\n",
        "roc_auc.append(round(roc_auc_dt, 2))\n",
        "\n",
        "plt.title('Receiver Operating Characteristic')\n",
        "plt.plot(fpr, tpr, 'b', label = 'AUC = %0.2f' % roc_auc_dt)\n",
        "plt.legend(loc = 'lower right')\n",
        "plt.plot([0, 1], [0, 1],'r--')\n",
        "plt.xlim([0, 1])\n",
        "plt.ylim([0, 1])\n",
        "plt.ylabel('True Positive Rate')\n",
        "plt.xlabel('False Positive Rate')\n",
        "plt.show()"
      ],
      "execution_count": 58,
      "outputs": [
        {
          "output_type": "display_data",
          "data": {
            "image/png": "[encoded data removed]",
            "text/plain": [
              "<Figure size 432x288 with 1 Axes>"
            ]
          },
          "metadata": {
            "tags": [],
            "needs_background": "light"
          }
        }
      ]
    },
    {
      "cell_type": "markdown",
      "metadata": {
        "id": "y1V957sAi-Em",
        "colab_type": "text"
      },
      "source": [
        "## Feature Importance"
      ]
    },
    {
      "cell_type": "code",
      "metadata": {
        "id": "HkwFNm9ljATA",
        "colab_type": "code",
        "colab": {
          "base_uri": "https://localhost:8080/",
          "height": 520
        },
        "outputId": "14c8de22-c762-44aa-b910-bf3ca616cc38"
      },
      "source": [
        "feat_dt = dt_class.feature_importances_\n",
        "\n",
        "feat_importances = pd.DataFrame(zip(feat_tree, feat_dt))\n",
        "feat_importances.columns = ['feature', 'f_score']\n",
        "feat_importances = feat_importances.sort_values('f_score', ascending=False)\n",
        "feat_importances = feat_importances.reset_index(drop=True)\n",
        "feat_importances.index += 1 \n",
        "feat_importances"
      ],
      "execution_count": 59,
      "outputs": [
        {
          "output_type": "execute_result",
          "data": {
            "text/html": [
              "<div>\n",
              "<style scoped>\n",
              "    .dataframe tbody tr th:only-of-type {\n",
              "        vertical-align: middle;\n",
              "    }\n",
              "\n",
              "    .dataframe tbody tr th {\n",
              "        vertical-align: top;\n",
              "    }\n",
              "\n",
              "    .dataframe thead th {\n",
              "        text-align: right;\n",
              "    }\n",
              "</style>\n",
              "<table border=\"1\" class=\"dataframe\">\n",
              "  <thead>\n",
              "    <tr style=\"text-align: right;\">\n",
              "      <th></th>\n",
              "      <th>feature</th>\n",
              "      <th>f_score</th>\n",
              "    </tr>\n",
              "  </thead>\n",
              "  <tbody>\n",
              "    <tr>\n",
              "      <th>1</th>\n",
              "      <td>instrumentalness</td>\n",
              "      <td>0.176287</td>\n",
              "    </tr>\n",
              "    <tr>\n",
              "      <th>2</th>\n",
              "      <td>duration_ms</td>\n",
              "      <td>0.134338</td>\n",
              "    </tr>\n",
              "    <tr>\n",
              "      <th>3</th>\n",
              "      <td>acousticness</td>\n",
              "      <td>0.114026</td>\n",
              "    </tr>\n",
              "    <tr>\n",
              "      <th>4</th>\n",
              "      <td>danceability</td>\n",
              "      <td>0.096330</td>\n",
              "    </tr>\n",
              "    <tr>\n",
              "      <th>5</th>\n",
              "      <td>speechiness</td>\n",
              "      <td>0.092550</td>\n",
              "    </tr>\n",
              "    <tr>\n",
              "      <th>6</th>\n",
              "      <td>chorus_hit</td>\n",
              "      <td>0.063269</td>\n",
              "    </tr>\n",
              "    <tr>\n",
              "      <th>7</th>\n",
              "      <td>loudness</td>\n",
              "      <td>0.059052</td>\n",
              "    </tr>\n",
              "    <tr>\n",
              "      <th>8</th>\n",
              "      <td>valence</td>\n",
              "      <td>0.055385</td>\n",
              "    </tr>\n",
              "    <tr>\n",
              "      <th>9</th>\n",
              "      <td>tempo</td>\n",
              "      <td>0.054288</td>\n",
              "    </tr>\n",
              "    <tr>\n",
              "      <th>10</th>\n",
              "      <td>energy</td>\n",
              "      <td>0.047006</td>\n",
              "    </tr>\n",
              "    <tr>\n",
              "      <th>11</th>\n",
              "      <td>liveness</td>\n",
              "      <td>0.045448</td>\n",
              "    </tr>\n",
              "    <tr>\n",
              "      <th>12</th>\n",
              "      <td>sections</td>\n",
              "      <td>0.032571</td>\n",
              "    </tr>\n",
              "    <tr>\n",
              "      <th>13</th>\n",
              "      <td>key</td>\n",
              "      <td>0.021165</td>\n",
              "    </tr>\n",
              "    <tr>\n",
              "      <th>14</th>\n",
              "      <td>mode</td>\n",
              "      <td>0.004741</td>\n",
              "    </tr>\n",
              "    <tr>\n",
              "      <th>15</th>\n",
              "      <td>time_signature</td>\n",
              "      <td>0.003544</td>\n",
              "    </tr>\n",
              "  </tbody>\n",
              "</table>\n",
              "</div>"
            ],
            "text/plain": [
              "             feature   f_score\n",
              "1   instrumentalness  0.176287\n",
              "2        duration_ms  0.134338\n",
              "3       acousticness  0.114026\n",
              "4       danceability  0.096330\n",
              "5        speechiness  0.092550\n",
              "6         chorus_hit  0.063269\n",
              "7           loudness  0.059052\n",
              "8            valence  0.055385\n",
              "9              tempo  0.054288\n",
              "10            energy  0.047006\n",
              "11          liveness  0.045448\n",
              "12          sections  0.032571\n",
              "13               key  0.021165\n",
              "14              mode  0.004741\n",
              "15    time_signature  0.003544"
            ]
          },
          "metadata": {
            "tags": []
          },
          "execution_count": 59
        }
      ]
    },
    {
      "cell_type": "code",
      "metadata": {
        "id": "ZYvSIysUutCA",
        "colab_type": "code",
        "colab": {
          "base_uri": "https://localhost:8080/",
          "height": 295
        },
        "outputId": "aba66f18-e13b-48ee-ecb1-a5413ab7bb83"
      },
      "source": [
        "dt_importances = dt_class.feature_importances_\n",
        "indices = np.argsort(dt_importances)\n",
        "\n",
        "plt.title('Feature Importances - Decision Tree')\n",
        "plt.barh(range(len(indices)), dt_importances[indices], color='b', align='center')\n",
        "plt.yticks(range(len(indices)), np.array(feat_tree)[indices])\n",
        "plt.xlabel('Relative Importance')\n",
        "\n",
        "plt.show()"
      ],
      "execution_count": 60,
      "outputs": [
        {
          "output_type": "display_data",
          "data": {
            "image/png": "[encoded data removed]",
            "text/plain": [
              "<Figure size 432x288 with 1 Axes>"
            ]
          },
          "metadata": {
            "tags": [],
            "needs_background": "light"
          }
        }
      ]
    },
    {
      "cell_type": "markdown",
      "metadata": {
        "id": "roOuIzVfy7wr",
        "colab_type": "text"
      },
      "source": [
        "Instrumentalness, duration_ms, acousticness, danceability, and speechiness are the top drivers to predict hit songs in the Decision Tree model."
      ]
    },
    {
      "cell_type": "markdown",
      "metadata": {
        "id": "mkt2xK7cstjc",
        "colab_type": "text"
      },
      "source": [
        "## *Random Forest Classification*\n",
        "- Bagging/Bootstrapping technique - Random sampling of subset of data reduces bias and variance\n",
        "- Ensemble method has multiple decision tree models run independently, then output is averaged/aggregated"
      ]
    },
    {
      "cell_type": "markdown",
      "metadata": {
        "id": "Jmla4ggC1bOo",
        "colab_type": "text"
      },
      "source": [
        "## Train the Random Forest Classification model on the Training set"
      ]
    },
    {
      "cell_type": "code",
      "metadata": {
        "id": "sYSeyy8a1fYL",
        "colab_type": "code",
        "colab": {
          "base_uri": "https://localhost:8080/",
          "height": 164
        },
        "outputId": "2016d466-988b-4a15-85a1-196ba10771f6"
      },
      "source": [
        "from sklearn.ensemble import RandomForestClassifier\n",
        "rf_class = RandomForestClassifier(n_estimators = 10, criterion = 'entropy', random_state = 42)\n",
        "rf_class.fit(X_train, y_train)"
      ],
      "execution_count": 61,
      "outputs": [
        {
          "output_type": "execute_result",
          "data": {
            "text/plain": [
              "RandomForestClassifier(bootstrap=True, ccp_alpha=0.0, class_weight=None,\n",
              "                       criterion='entropy', max_depth=None, max_features='auto',\n",
              "                       max_leaf_nodes=None, max_samples=None,\n",
              "                       min_impurity_decrease=0.0, min_impurity_split=None,\n",
              "                       min_samples_leaf=1, min_samples_split=2,\n",
              "                       min_weight_fraction_leaf=0.0, n_estimators=10,\n",
              "                       n_jobs=None, oob_score=False, random_state=42, verbose=0,\n",
              "                       warm_start=False)"
            ]
          },
          "metadata": {
            "tags": []
          },
          "execution_count": 61
        }
      ]
    },
    {
      "cell_type": "markdown",
      "metadata": {
        "id": "Ivs3IOLR15cK",
        "colab_type": "text"
      },
      "source": [
        "## Predict the Test set Result"
      ]
    },
    {
      "cell_type": "code",
      "metadata": {
        "id": "CPPW5QI7169w",
        "colab_type": "code",
        "colab": {}
      },
      "source": [
        "y_pred_rf = rf_class.predict(X_test)"
      ],
      "execution_count": 62,
      "outputs": []
    },
    {
      "cell_type": "markdown",
      "metadata": {
        "id": "VPsk3kLB2HWT",
        "colab_type": "text"
      },
      "source": [
        "## Random Forest k-folds Cross Validation"
      ]
    },
    {
      "cell_type": "code",
      "metadata": {
        "id": "Rnzv9Sac2Kup",
        "colab_type": "code",
        "colab": {
          "base_uri": "https://localhost:8080/",
          "height": 54
        },
        "outputId": "892ce50c-0c1d-4783-8be3-61c77a2f3582"
      },
      "source": [
        "from sklearn.model_selection import cross_val_score\n",
        "rf_acc = cross_val_score(estimator = rf_class, X = X, y = y, cv = 10)\n",
        "print('Accuracy Mean:', rf_acc.mean(), '\\nAccuracy SD:', rf_acc.std())\n",
        "\n",
        "cvacc.append(round(rf_acc.mean(), 4))\n",
        "cvacc_std.append(round(rf_acc.std(), 4))"
      ],
      "execution_count": 63,
      "outputs": [
        {
          "output_type": "stream",
          "text": [
            "Accuracy Mean: 0.783147507288324 \n",
            "Accuracy SD: 0.015280120449037374\n"
          ],
          "name": "stdout"
        }
      ]
    },
    {
      "cell_type": "markdown",
      "metadata": {
        "id": "nFBExXcl2cgI",
        "colab_type": "text"
      },
      "source": [
        "## Make the Random Forest Confusion Matrix"
      ]
    },
    {
      "cell_type": "code",
      "metadata": {
        "id": "EX5O1q-C2f0S",
        "colab_type": "code",
        "colab": {
          "base_uri": "https://localhost:8080/",
          "height": 295
        },
        "outputId": "122f0dc3-bb5b-4985-b49f-9f6207ad7dc6"
      },
      "source": [
        "from sklearn.metrics import accuracy_score, plot_confusion_matrix\n",
        "class_names = np.array(['Negative', 'Positive'])\n",
        "title = 'Confusion Matrix'\n",
        "disp = plot_confusion_matrix(rf_class, X_test, y_test,\n",
        "                             display_labels=class_names,\n",
        "                             cmap=plt.cm.Blues,\n",
        "                             values_format='d')\n",
        "disp.ax_.set_title(title)\n",
        "plt.show()"
      ],
      "execution_count": 64,
      "outputs": [
        {
          "output_type": "display_data",
          "data": {
            "image/png": "[encoded data removed]",
            "text/plain": [
              "<Figure size 432x288 with 2 Axes>"
            ]
          },
          "metadata": {
            "tags": [],
            "needs_background": "light"
          }
        }
      ]
    },
    {
      "cell_type": "code",
      "metadata": {
        "id": "umRIMb352wQZ",
        "colab_type": "code",
        "colab": {
          "base_uri": "https://localhost:8080/",
          "height": 35
        },
        "outputId": "1af2eff4-e480-4e86-b9fb-eb9f8fe3c015"
      },
      "source": [
        "test_acc.append(round((accuracy_score(y_test, y_pred_rf)*100),2))\n",
        "print('The accuracy score is {}%'.format(round((accuracy_score(y_test, y_pred_rf)*100),2)))"
      ],
      "execution_count": 65,
      "outputs": [
        {
          "output_type": "stream",
          "text": [
            "The accuracy score is 78.34%\n"
          ],
          "name": "stdout"
        }
      ]
    },
    {
      "cell_type": "markdown",
      "metadata": {
        "id": "Jr56pJA9_JTr",
        "colab_type": "text"
      },
      "source": [
        "Not surprisingly, Random Forest has a better accuracy than Decision Tree model and is overall the second-best model."
      ]
    },
    {
      "cell_type": "markdown",
      "metadata": {
        "id": "8ovo8aGNRKls",
        "colab_type": "text"
      },
      "source": [
        "## Random Forest ROC Curve"
      ]
    },
    {
      "cell_type": "code",
      "metadata": {
        "id": "YMFUG9qqQtiF",
        "colab_type": "code",
        "colab": {
          "base_uri": "https://localhost:8080/",
          "height": 295
        },
        "outputId": "3fabf2c6-9b25-4413-acc0-c56165e32899"
      },
      "source": [
        "import sklearn.metrics as metrics\n",
        "# calculate the fpr and tpr for all thresholds of the classification\n",
        "probs = rf_class.predict_proba(X_test)\n",
        "preds = probs[:,1]\n",
        "fpr, tpr, threshold = metrics.roc_curve(y_test, preds)\n",
        "roc_auc_rf = metrics.auc(fpr, tpr)\n",
        "roc_auc.append(round(roc_auc_rf, 2))\n",
        "\n",
        "plt.title('Receiver Operating Characteristic')\n",
        "plt.plot(fpr, tpr, 'b', label = 'AUC = %0.2f' % roc_auc_rf)\n",
        "plt.legend(loc = 'lower right')\n",
        "plt.plot([0, 1], [0, 1],'r--')\n",
        "plt.xlim([0, 1])\n",
        "plt.ylim([0, 1])\n",
        "plt.ylabel('True Positive Rate')\n",
        "plt.xlabel('False Positive Rate')\n",
        "plt.show()"
      ],
      "execution_count": 66,
      "outputs": [
        {
          "output_type": "display_data",
          "data": {
            "image/png": "[encoded data removed]",
            "text/plain": [
              "<Figure size 432x288 with 1 Axes>"
            ]
          },
          "metadata": {
            "tags": [],
            "needs_background": "light"
          }
        }
      ]
    },
    {
      "cell_type": "markdown",
      "metadata": {
        "id": "vg0NbO-0xHv8",
        "colab_type": "text"
      },
      "source": [
        "## Feature Importance"
      ]
    },
    {
      "cell_type": "code",
      "metadata": {
        "id": "vG4Y3K0Vkbkd",
        "colab_type": "code",
        "colab": {
          "base_uri": "https://localhost:8080/",
          "height": 520
        },
        "outputId": "0cdbc416-c7e4-40b1-a49f-f8cd8bb443ef"
      },
      "source": [
        "feat_rf = rf_class.feature_importances_\n",
        "\n",
        "feat_importances = pd.DataFrame(zip(feat_tree,feat_rf))\n",
        "feat_importances.columns = ['feature','f_score']\n",
        "feat_importances = feat_importances.sort_values('f_score', ascending=False)\n",
        "feat_importances = feat_importances.reset_index(drop=True)\n",
        "feat_importances.index += 1 \n",
        "feat_importances"
      ],
      "execution_count": 67,
      "outputs": [
        {
          "output_type": "execute_result",
          "data": {
            "text/html": [
              "<div>\n",
              "<style scoped>\n",
              "    .dataframe tbody tr th:only-of-type {\n",
              "        vertical-align: middle;\n",
              "    }\n",
              "\n",
              "    .dataframe tbody tr th {\n",
              "        vertical-align: top;\n",
              "    }\n",
              "\n",
              "    .dataframe thead th {\n",
              "        text-align: right;\n",
              "    }\n",
              "</style>\n",
              "<table border=\"1\" class=\"dataframe\">\n",
              "  <thead>\n",
              "    <tr style=\"text-align: right;\">\n",
              "      <th></th>\n",
              "      <th>feature</th>\n",
              "      <th>f_score</th>\n",
              "    </tr>\n",
              "  </thead>\n",
              "  <tbody>\n",
              "    <tr>\n",
              "      <th>1</th>\n",
              "      <td>acousticness</td>\n",
              "      <td>0.129314</td>\n",
              "    </tr>\n",
              "    <tr>\n",
              "      <th>2</th>\n",
              "      <td>instrumentalness</td>\n",
              "      <td>0.117604</td>\n",
              "    </tr>\n",
              "    <tr>\n",
              "      <th>3</th>\n",
              "      <td>danceability</td>\n",
              "      <td>0.102216</td>\n",
              "    </tr>\n",
              "    <tr>\n",
              "      <th>4</th>\n",
              "      <td>duration_ms</td>\n",
              "      <td>0.099580</td>\n",
              "    </tr>\n",
              "    <tr>\n",
              "      <th>5</th>\n",
              "      <td>speechiness</td>\n",
              "      <td>0.085616</td>\n",
              "    </tr>\n",
              "    <tr>\n",
              "      <th>6</th>\n",
              "      <td>loudness</td>\n",
              "      <td>0.078419</td>\n",
              "    </tr>\n",
              "    <tr>\n",
              "      <th>7</th>\n",
              "      <td>valence</td>\n",
              "      <td>0.068359</td>\n",
              "    </tr>\n",
              "    <tr>\n",
              "      <th>8</th>\n",
              "      <td>liveness</td>\n",
              "      <td>0.060494</td>\n",
              "    </tr>\n",
              "    <tr>\n",
              "      <th>9</th>\n",
              "      <td>energy</td>\n",
              "      <td>0.058171</td>\n",
              "    </tr>\n",
              "    <tr>\n",
              "      <th>10</th>\n",
              "      <td>tempo</td>\n",
              "      <td>0.056482</td>\n",
              "    </tr>\n",
              "    <tr>\n",
              "      <th>11</th>\n",
              "      <td>chorus_hit</td>\n",
              "      <td>0.053983</td>\n",
              "    </tr>\n",
              "    <tr>\n",
              "      <th>12</th>\n",
              "      <td>sections</td>\n",
              "      <td>0.046057</td>\n",
              "    </tr>\n",
              "    <tr>\n",
              "      <th>13</th>\n",
              "      <td>key</td>\n",
              "      <td>0.031049</td>\n",
              "    </tr>\n",
              "    <tr>\n",
              "      <th>14</th>\n",
              "      <td>mode</td>\n",
              "      <td>0.007220</td>\n",
              "    </tr>\n",
              "    <tr>\n",
              "      <th>15</th>\n",
              "      <td>time_signature</td>\n",
              "      <td>0.005436</td>\n",
              "    </tr>\n",
              "  </tbody>\n",
              "</table>\n",
              "</div>"
            ],
            "text/plain": [
              "             feature   f_score\n",
              "1       acousticness  0.129314\n",
              "2   instrumentalness  0.117604\n",
              "3       danceability  0.102216\n",
              "4        duration_ms  0.099580\n",
              "5        speechiness  0.085616\n",
              "6           loudness  0.078419\n",
              "7            valence  0.068359\n",
              "8           liveness  0.060494\n",
              "9             energy  0.058171\n",
              "10             tempo  0.056482\n",
              "11        chorus_hit  0.053983\n",
              "12          sections  0.046057\n",
              "13               key  0.031049\n",
              "14              mode  0.007220\n",
              "15    time_signature  0.005436"
            ]
          },
          "metadata": {
            "tags": []
          },
          "execution_count": 67
        }
      ]
    },
    {
      "cell_type": "code",
      "metadata": {
        "id": "RFNr-RKVu_nw",
        "colab_type": "code",
        "colab": {
          "base_uri": "https://localhost:8080/",
          "height": 295
        },
        "outputId": "1073c513-aa51-4d78-e4d9-32d2572e1fb3"
      },
      "source": [
        "rf_importances = rf_class.feature_importances_\n",
        "indices = np.argsort(rf_importances)\n",
        "\n",
        "plt.title('Feature Importances - Random Forest')\n",
        "plt.barh(range(len(indices)), rf_importances[indices], color='b', align='center')\n",
        "plt.yticks(range(len(indices)), np.array(feat_tree)[indices])\n",
        "plt.xlabel('Relative Importance')\n",
        "\n",
        "plt.show()"
      ],
      "execution_count": 68,
      "outputs": [
        {
          "output_type": "display_data",
          "data": {
            "image/png": "[encoded data removed]",
            "text/plain": [
              "<Figure size 432x288 with 1 Axes>"
            ]
          },
          "metadata": {
            "tags": [],
            "needs_background": "light"
          }
        }
      ]
    },
    {
      "cell_type": "markdown",
      "metadata": {
        "id": "VEPx-8bQx2AN",
        "colab_type": "text"
      },
      "source": [
        "Acousticness, instrumentalness, danceability, and duration_ms are the top drivers to predict if a song will be a hit in the Random Forest model."
      ]
    },
    {
      "cell_type": "markdown",
      "metadata": {
        "id": "vDxe8Uahs1ie",
        "colab_type": "text"
      },
      "source": [
        "## *XGBoost Classification*\n",
        "- Builds sequential trees using parallel implementation by switching order of loops (1) to enumerate leaf nodes and (2) to calculate features\n",
        "- Tree pruning - 'max-depth' parameter defined first then trees 'pruned' to improve computational performance\n",
        "- Finds optimal split points in weighted datasets\n",
        "- Built-in regularization via LASSO (L1) or Ridge (L2) to prevent overfitting\n",
        "- Built-in cross validation"
      ]
    },
    {
      "cell_type": "markdown",
      "metadata": {
        "id": "gxWWMUEQ3RCx",
        "colab_type": "text"
      },
      "source": [
        "## Train the XGBoost Classification model on the Training set"
      ]
    },
    {
      "cell_type": "code",
      "metadata": {
        "id": "0wCgExx33Jvw",
        "colab_type": "code",
        "colab": {
          "base_uri": "https://localhost:8080/",
          "height": 146
        },
        "outputId": "63da3f48-1ad4-4471-964f-de3b482ab3ee"
      },
      "source": [
        "from xgboost import XGBClassifier\n",
        "xgb_class = XGBClassifier()\n",
        "xgb_class.fit(X_train, y_train)"
      ],
      "execution_count": 69,
      "outputs": [
        {
          "output_type": "execute_result",
          "data": {
            "text/plain": [
              "XGBClassifier(base_score=0.5, booster='gbtree', colsample_bylevel=1,\n",
              "              colsample_bynode=1, colsample_bytree=1, gamma=0,\n",
              "              learning_rate=0.1, max_delta_step=0, max_depth=3,\n",
              "              min_child_weight=1, missing=None, n_estimators=100, n_jobs=1,\n",
              "              nthread=None, objective='binary:logistic', random_state=0,\n",
              "              reg_alpha=0, reg_lambda=1, scale_pos_weight=1, seed=None,\n",
              "              silent=None, subsample=1, verbosity=1)"
            ]
          },
          "metadata": {
            "tags": []
          },
          "execution_count": 69
        }
      ]
    },
    {
      "cell_type": "markdown",
      "metadata": {
        "id": "3Jm1h1z33m0Z",
        "colab_type": "text"
      },
      "source": [
        "## Predict the Test set Result"
      ]
    },
    {
      "cell_type": "code",
      "metadata": {
        "id": "o8aGiJZR3pR4",
        "colab_type": "code",
        "colab": {}
      },
      "source": [
        "y_pred_xgb = xgb_class.predict(X_test)"
      ],
      "execution_count": 70,
      "outputs": []
    },
    {
      "cell_type": "markdown",
      "metadata": {
        "id": "FpyNXdhS31C2",
        "colab_type": "text"
      },
      "source": [
        "## XGBoost k-folds Cross Validation"
      ]
    },
    {
      "cell_type": "code",
      "metadata": {
        "id": "NDQFdKZs34NI",
        "colab_type": "code",
        "colab": {
          "base_uri": "https://localhost:8080/",
          "height": 54
        },
        "outputId": "56856b97-f2a6-4296-c3e7-66aad37b929b"
      },
      "source": [
        "from sklearn.model_selection import cross_val_score\n",
        "xgb_acc = cross_val_score(estimator = xgb_class, X = X, y = y, cv = 10)\n",
        "print('Accuracy Mean:', xgb_acc.mean(), '\\nAccuracy SD:', xgb_acc.std())\n",
        "\n",
        "cvacc.append(round(xgb_acc.mean(), 4))\n",
        "cvacc_std.append(round(xgb_acc.std(), 4))"
      ],
      "execution_count": 71,
      "outputs": [
        {
          "output_type": "stream",
          "text": [
            "Accuracy Mean: 0.7995077497430735 \n",
            "Accuracy SD: 0.006384019091061022\n"
          ],
          "name": "stdout"
        }
      ]
    },
    {
      "cell_type": "markdown",
      "metadata": {
        "id": "vrkzJ42Q4Z8X",
        "colab_type": "text"
      },
      "source": [
        "## Make the XGBoost Confusion Matrix"
      ]
    },
    {
      "cell_type": "code",
      "metadata": {
        "id": "9o_qerF64eOR",
        "colab_type": "code",
        "colab": {
          "base_uri": "https://localhost:8080/",
          "height": 295
        },
        "outputId": "20ec5910-d810-4f8f-9b5e-ea345efb03ab"
      },
      "source": [
        "from sklearn.metrics import accuracy_score, plot_confusion_matrix\n",
        "class_names = np.array(['Negative', 'Positive'])\n",
        "title = 'Confusion Matrix'\n",
        "disp = plot_confusion_matrix(xgb_class, X_test, y_test,\n",
        "                             display_labels=class_names,\n",
        "                             cmap=plt.cm.Blues,\n",
        "                             values_format='d')\n",
        "disp.ax_.set_title(title)\n",
        "plt.show()"
      ],
      "execution_count": 72,
      "outputs": [
        {
          "output_type": "display_data",
          "data": {
            "image/png": "[encoded data removed]",
            "text/plain": [
              "<Figure size 432x288 with 2 Axes>"
            ]
          },
          "metadata": {
            "tags": [],
            "needs_background": "light"
          }
        }
      ]
    },
    {
      "cell_type": "code",
      "metadata": {
        "id": "-JkgiRGY4qg5",
        "colab_type": "code",
        "colab": {
          "base_uri": "https://localhost:8080/",
          "height": 35
        },
        "outputId": "0d4ffd2b-ec71-46ff-afae-0ff597d0ca37"
      },
      "source": [
        "test_acc.append(round((accuracy_score(y_test, y_pred_xgb)*100),2))\n",
        "print('The accuracy score is {}%'.format(round((accuracy_score(y_test, y_pred_xgb)*100),2)))"
      ],
      "execution_count": 73,
      "outputs": [
        {
          "output_type": "stream",
          "text": [
            "The accuracy score is 79.73%\n"
          ],
          "name": "stdout"
        }
      ]
    },
    {
      "cell_type": "markdown",
      "metadata": {
        "id": "k4J_NyKl_hUp",
        "colab_type": "text"
      },
      "source": [
        "**XGBoost is overall the best model for prediction accuracy**"
      ]
    },
    {
      "cell_type": "markdown",
      "metadata": {
        "id": "NJs9-_Im45LZ",
        "colab_type": "text"
      },
      "source": [
        "## XGBoost ROC Curve"
      ]
    },
    {
      "cell_type": "code",
      "metadata": {
        "id": "3DERwHFy48jg",
        "colab_type": "code",
        "colab": {
          "base_uri": "https://localhost:8080/",
          "height": 295
        },
        "outputId": "8645d7d2-8c43-43f6-c726-c4e90e60f351"
      },
      "source": [
        "import sklearn.metrics as metrics\n",
        "# calculate the fpr and tpr for all thresholds of the classification\n",
        "probs = xgb_class.predict_proba(X_test)\n",
        "preds = probs[:,1]\n",
        "fpr, tpr, threshold = metrics.roc_curve(y_test, preds)\n",
        "roc_auc_xgb = metrics.auc(fpr, tpr)\n",
        "roc_auc.append(round(roc_auc_xgb, 2))\n",
        "\n",
        "plt.title('Receiver Operating Characteristic')\n",
        "plt.plot(fpr, tpr, 'b', label = 'AUC = %0.2f' % roc_auc_xgb)\n",
        "plt.legend(loc = 'lower right')\n",
        "plt.plot([0, 1], [0, 1],'r--')\n",
        "plt.xlim([0, 1])\n",
        "plt.ylim([0, 1])\n",
        "plt.ylabel('True Positive Rate')\n",
        "plt.xlabel('False Positive Rate')\n",
        "plt.show()"
      ],
      "execution_count": 74,
      "outputs": [
        {
          "output_type": "display_data",
          "data": {
            "image/png": "[encoded data removed]",
            "text/plain": [
              "<Figure size 432x288 with 1 Axes>"
            ]
          },
          "metadata": {
            "tags": [],
            "needs_background": "light"
          }
        }
      ]
    },
    {
      "cell_type": "markdown",
      "metadata": {
        "id": "8OtTrqZM5PaM",
        "colab_type": "text"
      },
      "source": [
        "## Feature Importance"
      ]
    },
    {
      "cell_type": "code",
      "metadata": {
        "id": "Qfidkwn65ScA",
        "colab_type": "code",
        "colab": {
          "base_uri": "https://localhost:8080/",
          "height": 520
        },
        "outputId": "bc0a2d86-f9df-4d76-f1e5-91d9193cdd76"
      },
      "source": [
        "feat_xgb = xgb_class.feature_importances_\n",
        "\n",
        "feat_importances = pd.DataFrame(zip(feat_tree,feat_xgb))\n",
        "feat_importances.columns = ['feature','f_score']\n",
        "feat_importances = feat_importances.sort_values('f_score', ascending=False)\n",
        "feat_importances = feat_importances.reset_index(drop=True)\n",
        "feat_importances.index += 1 \n",
        "feat_importances"
      ],
      "execution_count": 75,
      "outputs": [
        {
          "output_type": "execute_result",
          "data": {
            "text/html": [
              "<div>\n",
              "<style scoped>\n",
              "    .dataframe tbody tr th:only-of-type {\n",
              "        vertical-align: middle;\n",
              "    }\n",
              "\n",
              "    .dataframe tbody tr th {\n",
              "        vertical-align: top;\n",
              "    }\n",
              "\n",
              "    .dataframe thead th {\n",
              "        text-align: right;\n",
              "    }\n",
              "</style>\n",
              "<table border=\"1\" class=\"dataframe\">\n",
              "  <thead>\n",
              "    <tr style=\"text-align: right;\">\n",
              "      <th></th>\n",
              "      <th>feature</th>\n",
              "      <th>f_score</th>\n",
              "    </tr>\n",
              "  </thead>\n",
              "  <tbody>\n",
              "    <tr>\n",
              "      <th>1</th>\n",
              "      <td>instrumentalness</td>\n",
              "      <td>0.243383</td>\n",
              "    </tr>\n",
              "    <tr>\n",
              "      <th>2</th>\n",
              "      <td>duration_ms</td>\n",
              "      <td>0.120712</td>\n",
              "    </tr>\n",
              "    <tr>\n",
              "      <th>3</th>\n",
              "      <td>danceability</td>\n",
              "      <td>0.117933</td>\n",
              "    </tr>\n",
              "    <tr>\n",
              "      <th>4</th>\n",
              "      <td>acousticness</td>\n",
              "      <td>0.115867</td>\n",
              "    </tr>\n",
              "    <tr>\n",
              "      <th>5</th>\n",
              "      <td>speechiness</td>\n",
              "      <td>0.088271</td>\n",
              "    </tr>\n",
              "    <tr>\n",
              "      <th>6</th>\n",
              "      <td>loudness</td>\n",
              "      <td>0.047807</td>\n",
              "    </tr>\n",
              "    <tr>\n",
              "      <th>7</th>\n",
              "      <td>valence</td>\n",
              "      <td>0.045369</td>\n",
              "    </tr>\n",
              "    <tr>\n",
              "      <th>8</th>\n",
              "      <td>sections</td>\n",
              "      <td>0.042753</td>\n",
              "    </tr>\n",
              "    <tr>\n",
              "      <th>9</th>\n",
              "      <td>liveness</td>\n",
              "      <td>0.039120</td>\n",
              "    </tr>\n",
              "    <tr>\n",
              "      <th>10</th>\n",
              "      <td>time_signature</td>\n",
              "      <td>0.037742</td>\n",
              "    </tr>\n",
              "    <tr>\n",
              "      <th>11</th>\n",
              "      <td>energy</td>\n",
              "      <td>0.030893</td>\n",
              "    </tr>\n",
              "    <tr>\n",
              "      <th>12</th>\n",
              "      <td>tempo</td>\n",
              "      <td>0.027896</td>\n",
              "    </tr>\n",
              "    <tr>\n",
              "      <th>13</th>\n",
              "      <td>chorus_hit</td>\n",
              "      <td>0.020745</td>\n",
              "    </tr>\n",
              "    <tr>\n",
              "      <th>14</th>\n",
              "      <td>mode</td>\n",
              "      <td>0.011026</td>\n",
              "    </tr>\n",
              "    <tr>\n",
              "      <th>15</th>\n",
              "      <td>key</td>\n",
              "      <td>0.010482</td>\n",
              "    </tr>\n",
              "  </tbody>\n",
              "</table>\n",
              "</div>"
            ],
            "text/plain": [
              "             feature   f_score\n",
              "1   instrumentalness  0.243383\n",
              "2        duration_ms  0.120712\n",
              "3       danceability  0.117933\n",
              "4       acousticness  0.115867\n",
              "5        speechiness  0.088271\n",
              "6           loudness  0.047807\n",
              "7            valence  0.045369\n",
              "8           sections  0.042753\n",
              "9           liveness  0.039120\n",
              "10    time_signature  0.037742\n",
              "11            energy  0.030893\n",
              "12             tempo  0.027896\n",
              "13        chorus_hit  0.020745\n",
              "14              mode  0.011026\n",
              "15               key  0.010482"
            ]
          },
          "metadata": {
            "tags": []
          },
          "execution_count": 75
        }
      ]
    },
    {
      "cell_type": "code",
      "metadata": {
        "id": "YN_bQLNcvYDV",
        "colab_type": "code",
        "colab": {
          "base_uri": "https://localhost:8080/",
          "height": 295
        },
        "outputId": "bbd30fad-9d97-4cd7-867d-844a88787937"
      },
      "source": [
        "xgb_importances = xgb_class.feature_importances_\n",
        "indices = np.argsort(xgb_importances)\n",
        "\n",
        "plt.title('Feature Importances - XGBoost')\n",
        "plt.barh(range(len(indices)), xgb_importances[indices], color='b', align='center')\n",
        "plt.yticks(range(len(indices)), np.array(feat_tree)[indices])\n",
        "plt.xlabel('Relative Importance')\n",
        "\n",
        "plt.show()"
      ],
      "execution_count": 76,
      "outputs": [
        {
          "output_type": "display_data",
          "data": {
            "image/png": "[encoded data removed]",
            "text/plain": [
              "<Figure size 432x288 with 1 Axes>"
            ]
          },
          "metadata": {
            "tags": [],
            "needs_background": "light"
          }
        }
      ]
    },
    {
      "cell_type": "markdown",
      "metadata": {
        "id": "a6uc_ov2zf31",
        "colab_type": "text"
      },
      "source": [
        "Similar to the Decision Tree and Random Forest models, instrumentalness, duration_ms, danceability, and acousticness are the top drivers to predict if a song will be a hit in the XGBoost model."
      ]
    },
    {
      "cell_type": "markdown",
      "metadata": {
        "id": "Of8CvQsxJ5MM",
        "colab_type": "text"
      },
      "source": [
        "**XGBoost gives the best accuracy score out of all model predictions. Let's dig deeper into how key features contribute to XGBoost model accuracy.**"
      ]
    },
    {
      "cell_type": "markdown",
      "metadata": {
        "id": "nu_YmRAeBt1I",
        "colab_type": "text"
      },
      "source": [
        "## SHAP Values\n",
        "- SHAP (**SH**apely **A**dditive ex**P**lanations) values measure the impact of the order of features on model prediction by taking into account their interaction with other features\n",
        "- Indicates not only which features are important, but also how each feature matters to model prediction; correlates level of feature value to target value\n",
        "- Based on the [hallmark 2017 paper by Scott Lundberg and Su-In Lee](https://arxiv.org/pdf/1705.07874.pdf)"
      ]
    },
    {
      "cell_type": "markdown",
      "metadata": {
        "id": "nUHXPSB7rNYd",
        "colab_type": "text"
      },
      "source": [
        "## SHAP Summary Plot for XGBoost\n",
        "- Gives birds-eye view of feature importance and what is driving it\n",
        "- Y-axis has feature names in order of importance from top to bottom based on the sum of SHAP value magnitudes\n",
        "- Color shows if feature is high (red) or low (blue) for a particular dataset row (dot)\n",
        "- Horizontal location shows if the effect of that value causes a higher or lower prediction"
      ]
    },
    {
      "cell_type": "code",
      "metadata": {
        "id": "hS7mrrNxkDvE",
        "colab_type": "code",
        "colab": {
          "base_uri": "https://localhost:8080/",
          "height": 366
        },
        "outputId": "271ae997-5df8-413e-efed-2b4875bf7d36"
      },
      "source": [
        "# pip install shap"
      ],
      "execution_count": 78,
      "outputs": [
        {
          "output_type": "stream",
          "text": [
            "Collecting shap\n",
            "\u001b[?25l  Downloading https://files.pythonhosted.org/packages/a8/77/b504e43e21a2ba543a1ac4696718beb500cfa708af2fb57cb54ce299045c/shap-0.35.0.tar.gz (273kB)\n",
            "\r\u001b[K     |█▏                              | 10kB 17.4MB/s eta 0:00:01\r\u001b[K     |██▍                             | 20kB 1.8MB/s eta 0:00:01\r\u001b[K     |███▋                            | 30kB 2.3MB/s eta 0:00:01\r\u001b[K     |████▉                           | 40kB 2.6MB/s eta 0:00:01\r\u001b[K     |██████                          | 51kB 2.0MB/s eta 0:00:01\r\u001b[K     |███████▏                        | 61kB 2.3MB/s eta 0:00:01\r\u001b[K     |████████▍                       | 71kB 2.5MB/s eta 0:00:01\r\u001b[K     |█████████▋                      | 81kB 2.8MB/s eta 0:00:01\r\u001b[K     |██████████▉                     | 92kB 2.9MB/s eta 0:00:01\r\u001b[K     |████████████                    | 102kB 2.8MB/s eta 0:00:01\r\u001b[K     |█████████████▏                  | 112kB 2.8MB/s eta 0:00:01\r\u001b[K     |██████████████▍                 | 122kB 2.8MB/s eta 0:00:01\r\u001b[K     |███████████████▋                | 133kB 2.8MB/s eta 0:00:01\r\u001b[K     |████████████████▉               | 143kB 2.8MB/s eta 0:00:01\r\u001b[K     |██████████████████              | 153kB 2.8MB/s eta 0:00:01\r\u001b[K     |███████████████████▏            | 163kB 2.8MB/s eta 0:00:01\r\u001b[K     |████████████████████▍           | 174kB 2.8MB/s eta 0:00:01\r\u001b[K     |█████████████████████▋          | 184kB 2.8MB/s eta 0:00:01\r\u001b[K     |██████████████████████▉         | 194kB 2.8MB/s eta 0:00:01\r\u001b[K     |████████████████████████        | 204kB 2.8MB/s eta 0:00:01\r\u001b[K     |█████████████████████████▏      | 215kB 2.8MB/s eta 0:00:01\r\u001b[K     |██████████████████████████▍     | 225kB 2.8MB/s eta 0:00:01\r\u001b[K     |███████████████████████████▋    | 235kB 2.8MB/s eta 0:00:01\r\u001b[K     |████████████████████████████▉   | 245kB 2.8MB/s eta 0:00:01\r\u001b[K     |██████████████████████████████  | 256kB 2.8MB/s eta 0:00:01\r\u001b[K     |███████████████████████████████▏| 266kB 2.8MB/s eta 0:00:01\r\u001b[K     |████████████████████████████████| 276kB 2.8MB/s \n",
            "\u001b[?25hRequirement already satisfied: numpy in /usr/local/lib/python3.6/dist-packages (from shap) (1.18.5)\n",
            "Requirement already satisfied: scipy in /usr/local/lib/python3.6/dist-packages (from shap) (1.4.1)\n",
            "Requirement already satisfied: scikit-learn in /usr/local/lib/python3.6/dist-packages (from shap) (0.22.2.post1)\n",
            "Requirement already satisfied: pandas in /usr/local/lib/python3.6/dist-packages (from shap) (1.0.5)\n",
            "Requirement already satisfied: tqdm>4.25.0 in /usr/local/lib/python3.6/dist-packages (from shap) (4.41.1)\n",
            "Requirement already satisfied: joblib>=0.11 in /usr/local/lib/python3.6/dist-packages (from scikit-learn->shap) (0.16.0)\n",
            "Requirement already satisfied: pytz>=2017.2 in /usr/local/lib/python3.6/dist-packages (from pandas->shap) (2018.9)\n",
            "Requirement already satisfied: python-dateutil>=2.6.1 in /usr/local/lib/python3.6/dist-packages (from pandas->shap) (2.8.1)\n",
            "Requirement already satisfied: six>=1.5 in /usr/local/lib/python3.6/dist-packages (from python-dateutil>=2.6.1->pandas->shap) (1.15.0)\n",
            "Building wheels for collected packages: shap\n",
            "  Building wheel for shap (setup.py) ... \u001b[?25l\u001b[?25hdone\n",
            "  Created wheel for shap: filename=shap-0.35.0-cp36-cp36m-linux_x86_64.whl size=394119 sha256=0bb45148189139454e0874630d0ecd2e9661672a65555a6b241a7ca0f76feefd\n",
            "  Stored in directory: /root/.cache/pip/wheels/e7/f7/0f/b57055080cf8894906b3bd3616d2fc2bfd0b12d5161bcb24ac\n",
            "Successfully built shap\n",
            "Installing collected packages: shap\n",
            "Successfully installed shap-0.35.0\n"
          ],
          "name": "stdout"
        }
      ]
    },
    {
      "cell_type": "code",
      "metadata": {
        "id": "e3RCHbvKjiUk",
        "colab_type": "code",
        "colab": {
          "base_uri": "https://localhost:8080/",
          "height": 495
        },
        "outputId": "7f1af9ca-7208-4cd6-a67f-d6605659b040"
      },
      "source": [
        "import shap\n",
        "explainer = shap.TreeExplainer(xgb_class)\n",
        "shap_values = explainer.shap_values(X_test, approximate=True)\n",
        "X_test_df = pd.DataFrame(X_test)\n",
        "X_test_df.columns = feat_tree\n",
        "shap.summary_plot(shap_values, X_test_df)"
      ],
      "execution_count": 79,
      "outputs": [
        {
          "output_type": "stream",
          "text": [
            "Setting feature_perturbation = \"tree_path_dependent\" because no background data was given.\n"
          ],
          "name": "stderr"
        },
        {
          "output_type": "display_data",
          "data": {
            "image/png": "[encoded data removed]",
            "text/plain": [
              "<Figure size 576x540 with 2 Axes>"
            ]
          },
          "metadata": {
            "tags": [],
            "needs_background": "light"
          }
        }
      ]
    },
    {
      "cell_type": "markdown",
      "metadata": {
        "id": "_gk88WxDcpSE",
        "colab_type": "text"
      },
      "source": [
        "### Sample Interpretations\n",
        "- High values of instrumentalness, acousticness, and speechiness cause lower hit predictions\n",
        "- High values of danceability, loudness, and tempo cause higher hit predictions\n",
        "- Time_signature, chorus_hit, mode, and key do not affect hit predictions"
      ]
    },
    {
      "cell_type": "markdown",
      "metadata": {
        "id": "7YUbJqsmq3fU",
        "colab_type": "text"
      },
      "source": [
        "## SHAP Dependence Contribution Plots\n",
        "- Shows the distribution of a single feature and how this impacts prediction\n",
        "- *Feature Interaction* - shows if the feature values in the distribution depend on the values of another feature (by color)\n",
        "- Automatically selects another feature for coloring and effects of interaction"
      ]
    },
    {
      "cell_type": "code",
      "metadata": {
        "id": "BYB1OoWtliUd",
        "colab_type": "code",
        "colab": {
          "base_uri": "https://localhost:8080/",
          "height": 339
        },
        "outputId": "83a7d7a7-d5f5-4abf-850d-03f1ef9d9aa8"
      },
      "source": [
        "shap.dependence_plot('instrumentalness', shap_values, X_test_df)"
      ],
      "execution_count": 80,
      "outputs": [
        {
          "output_type": "display_data",
          "data": {
            "image/png": "[encoded data removed]",
            "text/plain": [
              "<Figure size 540x360 with 2 Axes>"
            ]
          },
          "metadata": {
            "tags": [],
            "needs_background": "light"
          }
        }
      ]
    },
    {
      "cell_type": "markdown",
      "metadata": {
        "id": "x0QTkhlLh4y0",
        "colab_type": "text"
      },
      "source": [
        "### Interpretations\n",
        "- The higher the instrumentalness (i.e. no vocals), the lower the model's prediction is for the song being a hit\n",
        "- If the danceability is high (red dots), the model's prediction is higher for the song being a hit at low to mid-range instrumentalness scores (0.1 - 0.6); there is no effect of danceability on model prediction outside of this range"
      ]
    },
    {
      "cell_type": "code",
      "metadata": {
        "id": "asygE9RNl1eU",
        "colab_type": "code",
        "colab": {
          "base_uri": "https://localhost:8080/",
          "height": 337
        },
        "outputId": "fa0b4d6d-59a3-4220-db83-764d9cb29cb1"
      },
      "source": [
        "shap.dependence_plot('acousticness', shap_values, X_test_df)"
      ],
      "execution_count": 81,
      "outputs": [
        {
          "output_type": "display_data",
          "data": {
            "image/png": "[encoded data removed]",
            "text/plain": [
              "<Figure size 540x360 with 2 Axes>"
            ]
          },
          "metadata": {
            "tags": [],
            "needs_background": "light"
          }
        }
      ]
    },
    {
      "cell_type": "markdown",
      "metadata": {
        "id": "blWtOZ0Bjs_c",
        "colab_type": "text"
      },
      "source": [
        "### Interpretations\n",
        "- Starting from acousticness = 0.2, the higher the acousticness, the lower the model's prediction is for the song being a hit\n",
        "- If the instrumentalness is high (red dots), the model's prediction for the song being a hit is higher at high acousticness scores (0.7 - 1.0) (pure acoustic and no vocals songs)"
      ]
    },
    {
      "cell_type": "markdown",
      "metadata": {
        "id": "JlMVBybSH7n1",
        "colab_type": "text"
      },
      "source": [
        "## Map Predicted Hit Songs to Artists"
      ]
    },
    {
      "cell_type": "code",
      "metadata": {
        "id": "f6habXBSIAD7",
        "colab_type": "code",
        "colab": {}
      },
      "source": [
        "track = []\n",
        "artist = []\n",
        "tempo = []\n",
        "tempo = list(X_test[:,-5])\n",
        "for i in range(0, len(dataset)):\n",
        "    if dataset.iloc[i,-6] in tempo:\n",
        "      track.append(dataset.iloc[i,0])\n",
        "      artist.append(dataset.iloc[i,1])"
      ],
      "execution_count": 82,
      "outputs": []
    },
    {
      "cell_type": "markdown",
      "metadata": {
        "id": "EPOGSGWvJw8P",
        "colab_type": "text"
      },
      "source": [
        "## Sample Table of Predicted vs. Actual Hits - Test set (1,727 total) (in no particular order)"
      ]
    },
    {
      "cell_type": "code",
      "metadata": {
        "id": "91cJrBZEIZSE",
        "colab_type": "code",
        "colab": {
          "base_uri": "https://localhost:8080/",
          "height": 834
        },
        "outputId": "1998a026-58a7-4eb4-8bbf-2024439bcc1c"
      },
      "source": [
        "hits_log = pd.DataFrame(zip(track, artist, list(y_pred_log), list(y_test)))\n",
        "hits_log.columns = ['Track', 'Artist', 'Predicted Hit','Actual Hit']\n",
        "hits_log = hits_log.reset_index(drop=True)\n",
        "hits_log.index += 1 \n",
        "hits_log.head(25)"
      ],
      "execution_count": 83,
      "outputs": [
        {
          "output_type": "execute_result",
          "data": {
            "text/html": [
              "<div>\n",
              "<style scoped>\n",
              "    .dataframe tbody tr th:only-of-type {\n",
              "        vertical-align: middle;\n",
              "    }\n",
              "\n",
              "    .dataframe tbody tr th {\n",
              "        vertical-align: top;\n",
              "    }\n",
              "\n",
              "    .dataframe thead th {\n",
              "        text-align: right;\n",
              "    }\n",
              "</style>\n",
              "<table border=\"1\" class=\"dataframe\">\n",
              "  <thead>\n",
              "    <tr style=\"text-align: right;\">\n",
              "      <th></th>\n",
              "      <th>Track</th>\n",
              "      <th>Artist</th>\n",
              "      <th>Predicted Hit</th>\n",
              "      <th>Actual Hit</th>\n",
              "    </tr>\n",
              "  </thead>\n",
              "  <tbody>\n",
              "    <tr>\n",
              "      <th>1</th>\n",
              "      <td>Answering Machine</td>\n",
              "      <td>Rupert Holmes</td>\n",
              "      <td>1</td>\n",
              "      <td>1</td>\n",
              "    </tr>\n",
              "    <tr>\n",
              "      <th>2</th>\n",
              "      <td>Make It Real</td>\n",
              "      <td>The Jets</td>\n",
              "      <td>1</td>\n",
              "      <td>1</td>\n",
              "    </tr>\n",
              "    <tr>\n",
              "      <th>3</th>\n",
              "      <td>The Silver Ball - 2005 Digital Remaster</td>\n",
              "      <td>Harold Budd</td>\n",
              "      <td>1</td>\n",
              "      <td>1</td>\n",
              "    </tr>\n",
              "    <tr>\n",
              "      <th>4</th>\n",
              "      <td>Ridge Road Gravel</td>\n",
              "      <td>Norman Blake</td>\n",
              "      <td>0</td>\n",
              "      <td>0</td>\n",
              "    </tr>\n",
              "    <tr>\n",
              "      <th>5</th>\n",
              "      <td>Habaneras de Cadiz</td>\n",
              "      <td>Carlos Cano</td>\n",
              "      <td>1</td>\n",
              "      <td>1</td>\n",
              "    </tr>\n",
              "    <tr>\n",
              "      <th>6</th>\n",
              "      <td>Precious To Me</td>\n",
              "      <td>Phil Seymour</td>\n",
              "      <td>1</td>\n",
              "      <td>0</td>\n",
              "    </tr>\n",
              "    <tr>\n",
              "      <th>7</th>\n",
              "      <td>Tollkühn</td>\n",
              "      <td>Moebius</td>\n",
              "      <td>1</td>\n",
              "      <td>1</td>\n",
              "    </tr>\n",
              "    <tr>\n",
              "      <th>8</th>\n",
              "      <td>I'm Gonna Miss You</td>\n",
              "      <td>Kenny Loggins</td>\n",
              "      <td>0</td>\n",
              "      <td>1</td>\n",
              "    </tr>\n",
              "    <tr>\n",
              "      <th>9</th>\n",
              "      <td>When He Shines</td>\n",
              "      <td>Sheena Easton</td>\n",
              "      <td>0</td>\n",
              "      <td>1</td>\n",
              "    </tr>\n",
              "    <tr>\n",
              "      <th>10</th>\n",
              "      <td>Small World</td>\n",
              "      <td>Huey Lewis &amp; The News</td>\n",
              "      <td>0</td>\n",
              "      <td>0</td>\n",
              "    </tr>\n",
              "    <tr>\n",
              "      <th>11</th>\n",
              "      <td>Holy Hack Jack</td>\n",
              "      <td>Demented Are Go</td>\n",
              "      <td>1</td>\n",
              "      <td>1</td>\n",
              "    </tr>\n",
              "    <tr>\n",
              "      <th>12</th>\n",
              "      <td>The Pursuit of Power (A)</td>\n",
              "      <td>Keith Mansfield</td>\n",
              "      <td>0</td>\n",
              "      <td>0</td>\n",
              "    </tr>\n",
              "    <tr>\n",
              "      <th>13</th>\n",
              "      <td>Bottle of Smoke</td>\n",
              "      <td>The Pogues</td>\n",
              "      <td>1</td>\n",
              "      <td>1</td>\n",
              "    </tr>\n",
              "    <tr>\n",
              "      <th>14</th>\n",
              "      <td>Falling In Love (Uh-Oh)</td>\n",
              "      <td>Miami Sound Machine</td>\n",
              "      <td>1</td>\n",
              "      <td>1</td>\n",
              "    </tr>\n",
              "    <tr>\n",
              "      <th>15</th>\n",
              "      <td>One Thing Leads To Another</td>\n",
              "      <td>The Fixx</td>\n",
              "      <td>1</td>\n",
              "      <td>0</td>\n",
              "    </tr>\n",
              "    <tr>\n",
              "      <th>16</th>\n",
              "      <td>Still A Thrill</td>\n",
              "      <td>Jody Watley</td>\n",
              "      <td>1</td>\n",
              "      <td>1</td>\n",
              "    </tr>\n",
              "    <tr>\n",
              "      <th>17</th>\n",
              "      <td>Right Next Door (Because Of Me)</td>\n",
              "      <td>The Robert Cray Band</td>\n",
              "      <td>0</td>\n",
              "      <td>1</td>\n",
              "    </tr>\n",
              "    <tr>\n",
              "      <th>18</th>\n",
              "      <td>New Romance (It's A Mystery)</td>\n",
              "      <td>Spider</td>\n",
              "      <td>0</td>\n",
              "      <td>0</td>\n",
              "    </tr>\n",
              "    <tr>\n",
              "      <th>19</th>\n",
              "      <td>Foolish Heart</td>\n",
              "      <td>Sharon Bryant</td>\n",
              "      <td>1</td>\n",
              "      <td>1</td>\n",
              "    </tr>\n",
              "    <tr>\n",
              "      <th>20</th>\n",
              "      <td>I Miss You</td>\n",
              "      <td>Klymaxx</td>\n",
              "      <td>0</td>\n",
              "      <td>0</td>\n",
              "    </tr>\n",
              "    <tr>\n",
              "      <th>21</th>\n",
              "      <td>Take The Long Way Home</td>\n",
              "      <td>Supertramp</td>\n",
              "      <td>1</td>\n",
              "      <td>1</td>\n",
              "    </tr>\n",
              "    <tr>\n",
              "      <th>22</th>\n",
              "      <td>King of Hearts</td>\n",
              "      <td>Lucinda Williams</td>\n",
              "      <td>0</td>\n",
              "      <td>0</td>\n",
              "    </tr>\n",
              "    <tr>\n",
              "      <th>23</th>\n",
              "      <td>Cuando Sale la Luna</td>\n",
              "      <td>José Alfredo Jimenez</td>\n",
              "      <td>0</td>\n",
              "      <td>0</td>\n",
              "    </tr>\n",
              "    <tr>\n",
              "      <th>24</th>\n",
              "      <td>Lay It Down</td>\n",
              "      <td>Ratt</td>\n",
              "      <td>1</td>\n",
              "      <td>0</td>\n",
              "    </tr>\n",
              "    <tr>\n",
              "      <th>25</th>\n",
              "      <td>Living In A Dream</td>\n",
              "      <td>Pseudo Echo</td>\n",
              "      <td>1</td>\n",
              "      <td>1</td>\n",
              "    </tr>\n",
              "  </tbody>\n",
              "</table>\n",
              "</div>"
            ],
            "text/plain": [
              "                                      Track  ... Actual Hit\n",
              "1                         Answering Machine  ...          1\n",
              "2                              Make It Real  ...          1\n",
              "3   The Silver Ball - 2005 Digital Remaster  ...          1\n",
              "4                         Ridge Road Gravel  ...          0\n",
              "5                        Habaneras de Cadiz  ...          1\n",
              "6                            Precious To Me  ...          0\n",
              "7                                  Tollkühn  ...          1\n",
              "8                        I'm Gonna Miss You  ...          1\n",
              "9                            When He Shines  ...          1\n",
              "10                              Small World  ...          0\n",
              "11                           Holy Hack Jack  ...          1\n",
              "12                 The Pursuit of Power (A)  ...          0\n",
              "13                          Bottle of Smoke  ...          1\n",
              "14                  Falling In Love (Uh-Oh)  ...          1\n",
              "15               One Thing Leads To Another  ...          0\n",
              "16                           Still A Thrill  ...          1\n",
              "17          Right Next Door (Because Of Me)  ...          1\n",
              "18             New Romance (It's A Mystery)  ...          0\n",
              "19                            Foolish Heart  ...          1\n",
              "20                               I Miss You  ...          0\n",
              "21                   Take The Long Way Home  ...          1\n",
              "22                           King of Hearts  ...          0\n",
              "23                      Cuando Sale la Luna  ...          0\n",
              "24                              Lay It Down  ...          0\n",
              "25                        Living In A Dream  ...          1\n",
              "\n",
              "[25 rows x 4 columns]"
            ]
          },
          "metadata": {
            "tags": []
          },
          "execution_count": 83
        }
      ]
    },
    {
      "cell_type": "markdown",
      "metadata": {
        "id": "qzaQ7l_ZIaOS",
        "colab_type": "text"
      },
      "source": [
        "## Model Summary"
      ]
    },
    {
      "cell_type": "code",
      "metadata": {
        "id": "xg-kx1iVIcMq",
        "colab_type": "code",
        "colab": {
          "base_uri": "https://localhost:8080/",
          "height": 332
        },
        "outputId": "4ff15fb6-09b9-4637-9521-c5e2c05b5f26"
      },
      "source": [
        "model = ['Logistic-Feature Select', 'K-Nearest Neighbor', 'SVM', 'Kernel-SVM', 'Naive-Bayes', 'Multilayer Perceptron', 'Decision Tree', 'Random Forest', 'XGBoost']\n",
        "sum_stats = pd.DataFrame(zip(model, cvacc, cvacc_std, test_acc, roc_auc))\n",
        "sum_stats.columns = ['Model', 'Cross Validation Score', 'CV std dev', 'Test Accuracy (%)', 'ROC-AUC']\n",
        "sum_stats = sum_stats.sort_values('Test Accuracy (%)', ascending=False)\n",
        "sum_stats = sum_stats.reset_index(drop=True)\n",
        "sum_stats.index += 1 \n",
        "sum_stats"
      ],
      "execution_count": 84,
      "outputs": [
        {
          "output_type": "execute_result",
          "data": {
            "text/html": [
              "<div>\n",
              "<style scoped>\n",
              "    .dataframe tbody tr th:only-of-type {\n",
              "        vertical-align: middle;\n",
              "    }\n",
              "\n",
              "    .dataframe tbody tr th {\n",
              "        vertical-align: top;\n",
              "    }\n",
              "\n",
              "    .dataframe thead th {\n",
              "        text-align: right;\n",
              "    }\n",
              "</style>\n",
              "<table border=\"1\" class=\"dataframe\">\n",
              "  <thead>\n",
              "    <tr style=\"text-align: right;\">\n",
              "      <th></th>\n",
              "      <th>Model</th>\n",
              "      <th>Cross Validation Score</th>\n",
              "      <th>CV std dev</th>\n",
              "      <th>Test Accuracy (%)</th>\n",
              "      <th>ROC-AUC</th>\n",
              "    </tr>\n",
              "  </thead>\n",
              "  <tbody>\n",
              "    <tr>\n",
              "      <th>1</th>\n",
              "      <td>XGBoost</td>\n",
              "      <td>0.7995</td>\n",
              "      <td>0.0064</td>\n",
              "      <td>79.73</td>\n",
              "      <td>0.87</td>\n",
              "    </tr>\n",
              "    <tr>\n",
              "      <th>2</th>\n",
              "      <td>Random Forest</td>\n",
              "      <td>0.7831</td>\n",
              "      <td>0.0153</td>\n",
              "      <td>78.34</td>\n",
              "      <td>0.85</td>\n",
              "    </tr>\n",
              "    <tr>\n",
              "      <th>3</th>\n",
              "      <td>Logistic-Feature Select</td>\n",
              "      <td>0.7745</td>\n",
              "      <td>0.0126</td>\n",
              "      <td>78.05</td>\n",
              "      <td>0.85</td>\n",
              "    </tr>\n",
              "    <tr>\n",
              "      <th>4</th>\n",
              "      <td>Kernel-SVM</td>\n",
              "      <td>0.7775</td>\n",
              "      <td>0.0139</td>\n",
              "      <td>78.00</td>\n",
              "      <td>0.78</td>\n",
              "    </tr>\n",
              "    <tr>\n",
              "      <th>5</th>\n",
              "      <td>SVM</td>\n",
              "      <td>0.7719</td>\n",
              "      <td>0.0133</td>\n",
              "      <td>77.65</td>\n",
              "      <td>0.77</td>\n",
              "    </tr>\n",
              "    <tr>\n",
              "      <th>6</th>\n",
              "      <td>Multilayer Perceptron</td>\n",
              "      <td>0.7924</td>\n",
              "      <td>NaN</td>\n",
              "      <td>77.21</td>\n",
              "      <td>0.83</td>\n",
              "    </tr>\n",
              "    <tr>\n",
              "      <th>7</th>\n",
              "      <td>Decision Tree</td>\n",
              "      <td>0.7245</td>\n",
              "      <td>0.0123</td>\n",
              "      <td>72.79</td>\n",
              "      <td>0.73</td>\n",
              "    </tr>\n",
              "    <tr>\n",
              "      <th>8</th>\n",
              "      <td>K-Nearest Neighbor</td>\n",
              "      <td>0.6882</td>\n",
              "      <td>0.0144</td>\n",
              "      <td>69.83</td>\n",
              "      <td>0.69</td>\n",
              "    </tr>\n",
              "    <tr>\n",
              "      <th>9</th>\n",
              "      <td>Naive-Bayes</td>\n",
              "      <td>0.6417</td>\n",
              "      <td>0.0154</td>\n",
              "      <td>63.98</td>\n",
              "      <td>0.63</td>\n",
              "    </tr>\n",
              "  </tbody>\n",
              "</table>\n",
              "</div>"
            ],
            "text/plain": [
              "                     Model  Cross Validation Score  ...  Test Accuracy (%)  ROC-AUC\n",
              "1                  XGBoost                  0.7995  ...              79.73     0.87\n",
              "2            Random Forest                  0.7831  ...              78.34     0.85\n",
              "3  Logistic-Feature Select                  0.7745  ...              78.05     0.85\n",
              "4               Kernel-SVM                  0.7775  ...              78.00     0.78\n",
              "5                      SVM                  0.7719  ...              77.65     0.77\n",
              "6    Multilayer Perceptron                  0.7924  ...              77.21     0.83\n",
              "7            Decision Tree                  0.7245  ...              72.79     0.73\n",
              "8       K-Nearest Neighbor                  0.6882  ...              69.83     0.69\n",
              "9              Naive-Bayes                  0.6417  ...              63.98     0.63\n",
              "\n",
              "[9 rows x 5 columns]"
            ]
          },
          "metadata": {
            "tags": []
          },
          "execution_count": 84
        }
      ]
    },
    {
      "cell_type": "markdown",
      "metadata": {
        "id": "NFTwlahKynnY",
        "colab_type": "text"
      },
      "source": [
        "### Evaluate Classification Reports for Top 6\n",
        "- 0 = No hit\n",
        "- 1 = Hit song"
      ]
    },
    {
      "cell_type": "markdown",
      "metadata": {
        "id": "_h6hLQ6kzlYW",
        "colab_type": "text"
      },
      "source": [
        "#### XGBoost"
      ]
    },
    {
      "cell_type": "code",
      "metadata": {
        "id": "toY7Rz3XytAv",
        "colab_type": "code",
        "colab": {
          "base_uri": "https://localhost:8080/",
          "height": 182
        },
        "outputId": "028f7b95-46d0-462e-b2f4-b3c77ed49eb9"
      },
      "source": [
        "from sklearn.metrics import classification_report\n",
        "print(classification_report(y_test, y_pred_xgb))"
      ],
      "execution_count": 85,
      "outputs": [
        {
          "output_type": "stream",
          "text": [
            "              precision    recall  f1-score   support\n",
            "\n",
            "           0       0.83      0.74      0.78       839\n",
            "           1       0.78      0.85      0.81       888\n",
            "\n",
            "    accuracy                           0.80      1727\n",
            "   macro avg       0.80      0.80      0.80      1727\n",
            "weighted avg       0.80      0.80      0.80      1727\n",
            "\n"
          ],
          "name": "stdout"
        }
      ]
    },
    {
      "cell_type": "markdown",
      "metadata": {
        "id": "mgU-cyJczne2",
        "colab_type": "text"
      },
      "source": [
        "#### Random Forest"
      ]
    },
    {
      "cell_type": "code",
      "metadata": {
        "id": "YTM_6o8FyyIX",
        "colab_type": "code",
        "colab": {
          "base_uri": "https://localhost:8080/",
          "height": 182
        },
        "outputId": "766a1679-9f08-4695-a2cd-19a8af2bb90e"
      },
      "source": [
        "print(classification_report(y_test, y_pred_rf))"
      ],
      "execution_count": 86,
      "outputs": [
        {
          "output_type": "stream",
          "text": [
            "              precision    recall  f1-score   support\n",
            "\n",
            "           0       0.77      0.79      0.78       839\n",
            "           1       0.80      0.77      0.79       888\n",
            "\n",
            "    accuracy                           0.78      1727\n",
            "   macro avg       0.78      0.78      0.78      1727\n",
            "weighted avg       0.78      0.78      0.78      1727\n",
            "\n"
          ],
          "name": "stdout"
        }
      ]
    },
    {
      "cell_type": "markdown",
      "metadata": {
        "id": "qq5TJsNtzpUP",
        "colab_type": "text"
      },
      "source": [
        "#### Logistic Regression with Feature Selection"
      ]
    },
    {
      "cell_type": "code",
      "metadata": {
        "id": "LsNrI0V3y0qX",
        "colab_type": "code",
        "colab": {
          "base_uri": "https://localhost:8080/",
          "height": 182
        },
        "outputId": "a7eb3635-854d-4933-edf4-415cdeecc4ff"
      },
      "source": [
        "print(classification_report(y_test, y_pred_log))"
      ],
      "execution_count": 87,
      "outputs": [
        {
          "output_type": "stream",
          "text": [
            "              precision    recall  f1-score   support\n",
            "\n",
            "           0       0.81      0.72      0.76       839\n",
            "           1       0.76      0.84      0.80       888\n",
            "\n",
            "    accuracy                           0.78      1727\n",
            "   macro avg       0.78      0.78      0.78      1727\n",
            "weighted avg       0.78      0.78      0.78      1727\n",
            "\n"
          ],
          "name": "stdout"
        }
      ]
    },
    {
      "cell_type": "markdown",
      "metadata": {
        "id": "ZpXFrHsIztXG",
        "colab_type": "text"
      },
      "source": [
        "#### Kernel SVM (RBF)"
      ]
    },
    {
      "cell_type": "code",
      "metadata": {
        "id": "IKaAnNF6zXWm",
        "colab_type": "code",
        "colab": {
          "base_uri": "https://localhost:8080/",
          "height": 182
        },
        "outputId": "8ad8f0d6-74f2-4ef4-cbc0-5f117138b526"
      },
      "source": [
        "print(classification_report(y_test, y_pred_ksvc))"
      ],
      "execution_count": 88,
      "outputs": [
        {
          "output_type": "stream",
          "text": [
            "              precision    recall  f1-score   support\n",
            "\n",
            "           0       0.81      0.71      0.76       839\n",
            "           1       0.76      0.84      0.80       888\n",
            "\n",
            "    accuracy                           0.78      1727\n",
            "   macro avg       0.78      0.78      0.78      1727\n",
            "weighted avg       0.78      0.78      0.78      1727\n",
            "\n"
          ],
          "name": "stdout"
        }
      ]
    },
    {
      "cell_type": "markdown",
      "metadata": {
        "id": "Wia2sxp5zxGI",
        "colab_type": "text"
      },
      "source": [
        "#### SVM"
      ]
    },
    {
      "cell_type": "code",
      "metadata": {
        "id": "5jeO1uoczX_H",
        "colab_type": "code",
        "colab": {
          "base_uri": "https://localhost:8080/",
          "height": 182
        },
        "outputId": "a796be95-05c4-48a8-f96f-fe4d44efb0a3"
      },
      "source": [
        "print(classification_report(y_test, y_pred_svc))"
      ],
      "execution_count": 89,
      "outputs": [
        {
          "output_type": "stream",
          "text": [
            "              precision    recall  f1-score   support\n",
            "\n",
            "           0       0.82      0.70      0.75       839\n",
            "           1       0.75      0.85      0.80       888\n",
            "\n",
            "    accuracy                           0.78      1727\n",
            "   macro avg       0.78      0.77      0.77      1727\n",
            "weighted avg       0.78      0.78      0.77      1727\n",
            "\n"
          ],
          "name": "stdout"
        }
      ]
    },
    {
      "cell_type": "markdown",
      "metadata": {
        "id": "czy9ZXtzzypx",
        "colab_type": "text"
      },
      "source": [
        "#### Multilayer Perceptron"
      ]
    },
    {
      "cell_type": "code",
      "metadata": {
        "id": "6ba-FDEizjgw",
        "colab_type": "code",
        "colab": {
          "base_uri": "https://localhost:8080/",
          "height": 72
        },
        "outputId": "14a36c14-93db-4ce1-b81b-bde4bb857563"
      },
      "source": [
        "# Results for 1 = Survived\n",
        "print('Precision: %.2f' % precision_mlp)\n",
        "print('Recall: %.2f' % recall_mlp)\n",
        "print('F1 score: %.2f' % f1_mlp)"
      ],
      "execution_count": 90,
      "outputs": [
        {
          "output_type": "stream",
          "text": [
            "Precision: 0.75\n",
            "Recall: 0.83\n",
            "F1 score: 0.79\n"
          ],
          "name": "stdout"
        }
      ]
    },
    {
      "cell_type": "markdown",
      "metadata": {
        "id": "kz-58Tk5ub_z",
        "colab_type": "text"
      },
      "source": [
        "## Conclusion"
      ]
    },
    {
      "cell_type": "markdown",
      "metadata": {
        "id": "NxQcUGa3ud0S",
        "colab_type": "text"
      },
      "source": [
        "#### **The model that gave the best accuracy score, recall, and f1-score is XGBoost (79.73%) followed closely by Random Forest (78.34%). In the models where we can rank the Features, Instrumentalness, Acousticness, Danceability, and Speechiness are the most important features to determine whether a song is a hit. One can use these models and methods to determine if today's hot new songs will become hits.**"
      ]
    }
  ]
}